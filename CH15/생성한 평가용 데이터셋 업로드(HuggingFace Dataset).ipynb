{
 "cells": [
  {
   "cell_type": "code",
   "execution_count": 1,
   "metadata": {},
   "outputs": [
    {
     "data": {
      "text/plain": [
       "True"
      ]
     },
     "execution_count": 1,
     "metadata": {},
     "output_type": "execute_result"
    }
   ],
   "source": [
    "from dotenv import load_dotenv\n",
    "\n",
    "load_dotenv()\n"
   ]
  },
  {
   "cell_type": "code",
   "execution_count": 2,
   "metadata": {},
   "outputs": [
    {
     "name": "stdout",
     "output_type": "stream",
     "text": [
      "LangSmith 추적을 시작합니다.\n",
      "[프로젝트명]\n",
      "CH16-Evaluations\n"
     ]
    }
   ],
   "source": [
    "# LangSmith 추적을 설정합니다. https://smith.langchain.com\n",
    "# !pip install -qU langchain-teddynote\n",
    "from langchain_teddynote import logging\n",
    "\n",
    "# 프로젝트 이름을 입력합니다.\n",
    "logging.langsmith(\"CH16-Evaluations\")\n"
   ]
  },
  {
   "cell_type": "code",
   "execution_count": 3,
   "metadata": {},
   "outputs": [
    {
     "data": {
      "text/html": [
       "<div>\n",
       "<style scoped>\n",
       "    .dataframe tbody tr th:only-of-type {\n",
       "        vertical-align: middle;\n",
       "    }\n",
       "\n",
       "    .dataframe tbody tr th {\n",
       "        vertical-align: top;\n",
       "    }\n",
       "\n",
       "    .dataframe thead th {\n",
       "        text-align: right;\n",
       "    }\n",
       "</style>\n",
       "<table border=\"1\" class=\"dataframe\">\n",
       "  <thead>\n",
       "    <tr style=\"text-align: right;\">\n",
       "      <th></th>\n",
       "      <th>question</th>\n",
       "      <th>contexts</th>\n",
       "      <th>ground_truth</th>\n",
       "      <th>evolution_type</th>\n",
       "      <th>metadata</th>\n",
       "      <th>episode_done</th>\n",
       "    </tr>\n",
       "  </thead>\n",
       "  <tbody>\n",
       "    <tr>\n",
       "      <th>0</th>\n",
       "      <td>What specific recent developments in generativ...</td>\n",
       "      <td>['SPRi AI Brief |\\n2023-12월호\\n삼성전자, 자체 개발 생성 A...</td>\n",
       "      <td>TechRepublic highlighted several recent develo...</td>\n",
       "      <td>simple</td>\n",
       "      <td>[{'source': 'data/SPRI_AI_Brief_2023년12월호_F.pd...</td>\n",
       "      <td>True</td>\n",
       "    </tr>\n",
       "    <tr>\n",
       "      <th>1</th>\n",
       "      <td>What are the dates and location for CES 2024?</td>\n",
       "      <td>['Ⅱ\\n. 주요 행사 일정\\n행사명 행사 주요 개요\\n- 미국 소비자기술 협회(C...</td>\n",
       "      <td>CES 2024 will take place from January 9 to Jan...</td>\n",
       "      <td>simple</td>\n",
       "      <td>[{'source': 'data/SPRI_AI_Brief_2023년12월호_F.pd...</td>\n",
       "      <td>True</td>\n",
       "    </tr>\n",
       "    <tr>\n",
       "      <th>2</th>\n",
       "      <td>What are the key aspects of AI global cooperat...</td>\n",
       "      <td>['문제를 방지하는 조치를 확대\\n∙ 형사사법 시스템에서 AI 사용 모범사례를 개발...</td>\n",
       "      <td>The key aspects of AI global cooperation highl...</td>\n",
       "      <td>simple</td>\n",
       "      <td>[{'source': 'data/SPRI_AI_Brief_2023년12월호_F.pd...</td>\n",
       "      <td>True</td>\n",
       "    </tr>\n",
       "    <tr>\n",
       "      <th>3</th>\n",
       "      <td>What measures are suggested to enhance data pr...</td>\n",
       "      <td>['∙ 첨단 AI 시스템의 성능과 한계를 공개하고 적절하거나 부적절한 사용영역을 알...</td>\n",
       "      <td>The context suggests several measures to enhan...</td>\n",
       "      <td>simple</td>\n",
       "      <td>[{'source': 'data/SPRI_AI_Brief_2023년12월호_F.pd...</td>\n",
       "      <td>True</td>\n",
       "    </tr>\n",
       "    <tr>\n",
       "      <th>4</th>\n",
       "      <td>What were the main takeaways from the AI Safet...</td>\n",
       "      <td>['관련된 경우 해당 국가와 결과를 공유하며, 적절한 시기에 공동 표준 개발을 위해...</td>\n",
       "      <td>The main takeaways from the AI Safety Summit o...</td>\n",
       "      <td>reasoning</td>\n",
       "      <td>[{'source': 'data/SPRI_AI_Brief_2023년12월호_F.pd...</td>\n",
       "      <td>True</td>\n",
       "    </tr>\n",
       "  </tbody>\n",
       "</table>\n",
       "</div>"
      ],
      "text/plain": [
       "                                            question  \\\n",
       "0  What specific recent developments in generativ...   \n",
       "1      What are the dates and location for CES 2024?   \n",
       "2  What are the key aspects of AI global cooperat...   \n",
       "3  What measures are suggested to enhance data pr...   \n",
       "4  What were the main takeaways from the AI Safet...   \n",
       "\n",
       "                                            contexts  \\\n",
       "0  ['SPRi AI Brief |\\n2023-12월호\\n삼성전자, 자체 개발 생성 A...   \n",
       "1  ['Ⅱ\\n. 주요 행사 일정\\n행사명 행사 주요 개요\\n- 미국 소비자기술 협회(C...   \n",
       "2  ['문제를 방지하는 조치를 확대\\n∙ 형사사법 시스템에서 AI 사용 모범사례를 개발...   \n",
       "3  ['∙ 첨단 AI 시스템의 성능과 한계를 공개하고 적절하거나 부적절한 사용영역을 알...   \n",
       "4  ['관련된 경우 해당 국가와 결과를 공유하며, 적절한 시기에 공동 표준 개발을 위해...   \n",
       "\n",
       "                                        ground_truth evolution_type  \\\n",
       "0  TechRepublic highlighted several recent develo...         simple   \n",
       "1  CES 2024 will take place from January 9 to Jan...         simple   \n",
       "2  The key aspects of AI global cooperation highl...         simple   \n",
       "3  The context suggests several measures to enhan...         simple   \n",
       "4  The main takeaways from the AI Safety Summit o...      reasoning   \n",
       "\n",
       "                                            metadata  episode_done  \n",
       "0  [{'source': 'data/SPRI_AI_Brief_2023년12월호_F.pd...          True  \n",
       "1  [{'source': 'data/SPRI_AI_Brief_2023년12월호_F.pd...          True  \n",
       "2  [{'source': 'data/SPRI_AI_Brief_2023년12월호_F.pd...          True  \n",
       "3  [{'source': 'data/SPRI_AI_Brief_2023년12월호_F.pd...          True  \n",
       "4  [{'source': 'data/SPRI_AI_Brief_2023년12월호_F.pd...          True  "
      ]
     },
     "execution_count": 3,
     "metadata": {},
     "output_type": "execute_result"
    }
   ],
   "source": [
    "import pandas as pd\n",
    "\n",
    "df = pd.read_csv(\"data/ragas_synthetic_dataset.csv\")\n",
    "df.head()"
   ]
  },
  {
   "cell_type": "code",
   "execution_count": null,
   "metadata": {},
   "outputs": [],
   "source": []
  }
 ],
 "metadata": {
  "kernelspec": {
   "display_name": "llm",
   "language": "python",
   "name": "python3"
  },
  "language_info": {
   "codemirror_mode": {
    "name": "ipython",
    "version": 3
   },
   "file_extension": ".py",
   "mimetype": "text/x-python",
   "name": "python",
   "nbconvert_exporter": "python",
   "pygments_lexer": "ipython3",
   "version": "3.11.11"
  }
 },
 "nbformat": 4,
 "nbformat_minor": 2
}
