{
 "cells": [
  {
   "cell_type": "markdown",
   "metadata": {},
   "source": [
    "TypedDict\n",
    "- dict와 TypedDict의 차이점과 TypedDict가 왜 dict 대신 사용되는지 설명해드리겠습니다.\n",
    "\n",
    "dict와 TypedDict의 주요 차이점\n",
    "1. 타입 검사\n",
    "- dict: 런타임에 타입 검사를 하지 않습니다.\n",
    "- TypedDict: 정적 타입 검사를 제공합니다. 즉, 코드 작성 시 IDE나 타입 체커가 오류를 미리 잡아낼 수 있습니다.\n",
    "\n",
    "2. 키와 값의 타입\n",
    "- dict: 키와 값의 타입을 일반적으로 지정합니다 (예: Dict[str, str]).\n",
    "- TypedDict: 각 키에 대해 구체적인 타입을 지정할 수 있습니다.\n",
    "\n",
    "3. 유연성\n",
    "- dict: 런타임에 키를 추가하거나 제거할 수 있습니다.\n",
    "- TypedDict: 정의된 구조를 따라야 합니다. 추가적인 키는 타입 오류를 발생시킵니다.\n",
    "\n",
    "4. TypedDict가 dict 대신 사용되는 이유\n",
    "- 타입 안정성\n",
    "  - TypedDict는 더 엄격한 타입 검사를 제공하여 잠재적인 버그를 미리 방지할 수 있습니다.\n",
    "- 코드 가독성\n",
    "  - TypedDict를 사용하면 딕셔너리의 구조를 명확하게 정의할 수 있어 코드의 가독성이 향상됩니다.\n",
    "- IDE 지원\n",
    "  - TypedDict를 사용하면 IDE에서 자동 완성 및 타입 힌트를 더 정확하게 제공받을 수 있습니다.\n",
    "- 문서화\n",
    "  - TypedDict는 코드 자체가 문서의 역할을 하여 딕셔너리의 구조를 명확히 보여줍니다."
   ]
  },
  {
   "cell_type": "code",
   "execution_count": 1,
   "metadata": {},
   "outputs": [],
   "source": [
    "# TypedDict와 Dict의 차이점 예시\n",
    "from typing import Dict, TypedDict\n",
    "\n",
    "# 일반적인 파이썬 딕셔너리(dict) 사용\n",
    "sample_dict: Dict[str, str] = {\n",
    "    \"name\": \"테디\",\n",
    "    \"age\": \"30\",  # 문자열로 저장 (dict 에서는 가능)\n",
    "    \"job\": \"개발자\",\n",
    "}\n",
    "\n",
    "\n",
    "# TypedDict 사용\n",
    "class Person(TypedDict):\n",
    "    name: str\n",
    "    age: int  # 정수형으로 명시\n",
    "    job: str\n",
    "\n",
    "\n",
    "typed_dict: Person = {\"name\": \"셜리\", \"age\": 25, \"job\": \"디자이너\"}"
   ]
  },
  {
   "cell_type": "code",
   "execution_count": 3,
   "metadata": {},
   "outputs": [
    {
     "data": {
      "text/plain": [
       "{'name': '셜리', 'age': '35', 'job': '디자이너', 'new_field': '추가 정보'}"
      ]
     },
     "execution_count": 3,
     "metadata": {},
     "output_type": "execute_result"
    }
   ],
   "source": [
    "# dict의 경우\n",
    "sample_dict[\"age\"] = 35  # 문자열에서 정수로 변경되어도 오류 없음\n",
    "sample_dict[\"new_field\"] = \"추가 정보\"  # 새로운 필드 추가 가능\n",
    "\n",
    "# TypedDict의 경우\n",
    "typed_dict[\"age\"] = 35  # 정수형으로 올바르게 사용\n",
    "typed_dict[\"age\"] = \"35\"  # 타입 체커가 오류를 감지함\n",
    "typed_dict[\"new_field\"] = (\n",
    "    \"추가 정보\"  # 타입 체커가 정의되지 않은 키라고 오류를 발생시킴\n",
    ")\n",
    "typed_dict\n"
   ]
  },
  {
   "cell_type": "markdown",
   "metadata": {},
   "source": [
    "Annotated\n",
    "- 이 문법은 타입 힌트에 메타데이터를 추가할 수 있게 해줍니다. \n",
    "\n",
    "Annotated를 사용하는 주요 이유\n",
    "- 추가 정보 제공(타입 힌트) / 문서화\n",
    "- 타입 힌트에 추가적인 정보를 포함시킬 수 있습니다. 이는 코드를 읽는 사람이나 도구에 더 많은 컨텍스트를 제공합니다.\n",
    "- 코드에 대한 추가 설명을 타입 힌트에 직접 포함시킬 수 있습니다.\n",
    "\n",
    "- name: Annotated[str, \"이름\"]\n",
    "- age: Annotated[int, \"나이\"]\n",
    "\n"
   ]
  },
  {
   "cell_type": "code",
   "execution_count": 5,
   "metadata": {},
   "outputs": [],
   "source": [
    "from typing import Annotated\n",
    "\n",
    "name: Annotated[str, \"사용자 이름\"]\n",
    "age: Annotated[int, \"사용자 나이 (0-150)\"]"
   ]
  },
  {
   "cell_type": "code",
   "execution_count": 6,
   "metadata": {},
   "outputs": [
    {
     "name": "stdout",
     "output_type": "stream",
     "text": [
      "유효한 직원 데이터: id=1 name='코봉이' age=30 salary=1000.0 skills=['Python', 'LangChain']\n",
      "유효성 검사 오류:\n",
      "- id: Field required\n",
      "- name: String should have at least 3 characters\n",
      "- age: Input should be greater than 18\n",
      "- salary: Input should be less than 10000\n",
      "- skills: Input should be a valid list\n"
     ]
    }
   ],
   "source": [
    "# Pydantic과 함께 사용\n",
    "from typing import Annotated, List\n",
    "from pydantic import Field, BaseModel, ValidationError\n",
    "\n",
    "\n",
    "class Employee(BaseModel):\n",
    "    id: Annotated[int, Field(..., description=\"직원 ID\")]\n",
    "    name: Annotated[str, Field(..., min_length=3, max_length=50, description=\"이름\")]\n",
    "    age: Annotated[int, Field(gt=18, lt=65, description=\"나이 (19-64세)\")]\n",
    "    salary: Annotated[\n",
    "        float, Field(gt=0, lt=10000, description=\"연봉 (단위: 만원, 최대 10억)\")\n",
    "    ]\n",
    "    skills: Annotated[\n",
    "        List[str], Field(min_items=1, max_items=10, description=\"보유 기술 (1-10개)\")\n",
    "    ]\n",
    "\n",
    "\n",
    "# 유효한 데이터로 인스턴스 생성\n",
    "try:\n",
    "    valid_employee = Employee(\n",
    "        id=1, name=\"코봉이\", age=30, salary=1000, skills=[\"Python\", \"LangChain\"]\n",
    "    )\n",
    "    print(\"유효한 직원 데이터:\", valid_employee)\n",
    "except ValidationError as e:\n",
    "    print(\"유효성 검사 오류:\", e)\n",
    "\n",
    "# 유효하지 않은 데이터로 인스턴스 생성 시도\n",
    "try:\n",
    "    invalid_employee = Employee(\n",
    "        name=\"코봉\",  # 이름이 너무 짧음\n",
    "        age=17,  # 나이가 범위를 벗어남\n",
    "        salary=20000,  # 급여가 범위를 벗어남\n",
    "        skills=\"Python\",  # 리스트가 아님\n",
    "    )\n",
    "except ValidationError as e:\n",
    "    print(\"유효성 검사 오류:\")\n",
    "    for error in e.errors():\n",
    "        print(f\"- {error['loc'][0]}: {error['msg']}\")\n"
   ]
  },
  {
   "cell_type": "markdown",
   "metadata": {},
   "source": [
    "LangGraph에서의 사용(add_messages)\n",
    "- add_messages는 LangGraph에서 메시지를 리스트에 추가하는 함수입니다."
   ]
  },
  {
   "cell_type": "code",
   "execution_count": 7,
   "metadata": {},
   "outputs": [],
   "source": [
    "from typing import Annotated, TypedDict\n",
    "from langgraph.graph import add_messages\n",
    "\n",
    "\n",
    "class MyData(TypedDict):\n",
    "    messages: Annotated[list, add_messages]"
   ]
  },
  {
   "cell_type": "code",
   "execution_count": 8,
   "metadata": {},
   "outputs": [
    {
     "name": "stdout",
     "output_type": "stream",
     "text": [
      "[HumanMessage(content='안녕하세요?', additional_kwargs={}, response_metadata={}, id='1'), AIMessage(content='반갑습니다~', additional_kwargs={}, response_metadata={}, id='2')]\n"
     ]
    }
   ],
   "source": [
    "from langchain_core.messages import AIMessage, HumanMessage\n",
    "from langgraph.graph import add_messages\n",
    "\n",
    "# 기본 사용 예시\n",
    "msgs1 = [HumanMessage(content=\"안녕하세요?\", id=\"1\")]\n",
    "msgs2 = [AIMessage(content=\"반갑습니다~\", id=\"2\")]\n",
    "\n",
    "result1 = add_messages(msgs1, msgs2)\n",
    "print(result1)"
   ]
  },
  {
   "cell_type": "code",
   "execution_count": 9,
   "metadata": {},
   "outputs": [
    {
     "name": "stdout",
     "output_type": "stream",
     "text": [
      "[HumanMessage(content='반갑습니다~', additional_kwargs={}, response_metadata={}, id='1')]\n"
     ]
    }
   ],
   "source": [
    "# 동일한 ID를 가진 메시지 대체 예시\n",
    "msgs1 = [HumanMessage(content=\"안녕하세요?\", id=\"1\")]\n",
    "msgs2 = [HumanMessage(content=\"반갑습니다~\", id=\"1\")]\n",
    "\n",
    "result2 = add_messages(msgs1, msgs2)\n",
    "print(result2)\n"
   ]
  },
  {
   "cell_type": "code",
   "execution_count": null,
   "metadata": {},
   "outputs": [],
   "source": []
  }
 ],
 "metadata": {
  "kernelspec": {
   "display_name": "llm",
   "language": "python",
   "name": "python3"
  },
  "language_info": {
   "codemirror_mode": {
    "name": "ipython",
    "version": 3
   },
   "file_extension": ".py",
   "mimetype": "text/x-python",
   "name": "python",
   "nbconvert_exporter": "python",
   "pygments_lexer": "ipython3",
   "version": "3.11.11"
  }
 },
 "nbformat": 4,
 "nbformat_minor": 2
}
