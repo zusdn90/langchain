{
 "cells": [
  {
   "cell_type": "markdown",
   "metadata": {},
   "source": [
    "현재 챗봇은 과거 상호작용을 스스로 기억할 수 없어 일관된 다중 턴 대화를 진행하는 데 제한이 있습니다.\n",
    "\n",
    "이번 튜토리얼에서는 이를 해결하기 위해 memory 를 추가합니다."
   ]
  },
  {
   "cell_type": "markdown",
   "metadata": {},
   "source": [
    "참고\n",
    "\n",
    "이번에는 pre-built 되어있는 ToolNode 와 tools_condition 을 활용합니다.\n",
    "\n",
    "- ToolNode: 도구 호출을 위한 노드\n",
    "- tools_condition: 도구 호출 여부에 따른 조건 분기\n",
    "우리의 챗봇은 이제 도구를 사용하여 사용자 질문에 답할 수 있지만, 이전 상호작용의 context를 기억하지 못합니다. 이는 멀티턴(multi-turn) 대화를 진행하는 능력을 제한합니다.\n",
    "\n",
    "LangGraph는 persistent checkpointing 을 통해 이 문제를 해결합니다.\n",
    "\n",
    "그래프를 컴파일할 때 checkpointer를 제공하고 그래프를 호출할 때 thread_id를 제공하면, LangGraph는 각 단계 후 상태를 자동으로 저장 합니다. 동일한 thread_id를 사용하여 그래프를 다시 호출하면, 그래프는 저장된 상태를 로드하여 챗봇이 이전에 중단한 지점에서 대화를 이어갈 수 있게 합니다.\n",
    "\n",
    "checkpointing 는 LangChain 의 메모리 기능보다 훨씬 강력합니다. (아마 이 튜토리얼을 완수하면 자연스럽게 이를 확인할 수 있습니다.)"
   ]
  },
  {
   "cell_type": "code",
   "execution_count": 10,
   "metadata": {},
   "outputs": [
    {
     "data": {
      "text/plain": [
       "True"
      ]
     },
     "execution_count": 10,
     "metadata": {},
     "output_type": "execute_result"
    }
   ],
   "source": [
    "# API 키를 환경변수로 관리하기 위한 설정 파일\n",
    "from dotenv import load_dotenv\n",
    "\n",
    "# API 키 정보 로드\n",
    "load_dotenv()"
   ]
  },
  {
   "cell_type": "code",
   "execution_count": 11,
   "metadata": {},
   "outputs": [
    {
     "name": "stdout",
     "output_type": "stream",
     "text": [
      "LangSmith 추적을 시작합니다.\n",
      "[프로젝트명]\n",
      "CH17-LangGraph-Modules\n"
     ]
    }
   ],
   "source": [
    "# LangSmith 추적을 설정합니다. https://smith.langchain.com\n",
    "# !pip install -qU langchain-teddynote\n",
    "from langchain_teddynote import logging\n",
    "\n",
    "# 프로젝트 이름을 입력합니다.\n",
    "logging.langsmith(\"CH17-LangGraph-Modules\")\n"
   ]
  },
  {
   "cell_type": "markdown",
   "metadata": {},
   "source": [
    "멀티턴(multi-turn) 대화를 가능하게 하기 위해 checkpointing을 추가해 보도록 하겠습니다.\n",
    "\n",
    "MemorySaver checkpointer를 생성합니다."
   ]
  },
  {
   "cell_type": "code",
   "execution_count": 3,
   "metadata": {},
   "outputs": [],
   "source": [
    "from langgraph.checkpoint.memory import MemorySaver\n",
    "\n",
    "# 메모리 저장소 생성\n",
    "memory = MemorySaver()\n"
   ]
  },
  {
   "cell_type": "markdown",
   "metadata": {},
   "source": [
    "참고\n",
    "\n",
    "이번 튜토리얼에서는 in-memory checkpointer 를 사용합니다.\n",
    "\n",
    "하지만, 프로덕션 단계에서는 이를 SqliteSaver 또는 PostgresSaver 로 변경하고 자체 DB에 연결할 수 있습니다."
   ]
  },
  {
   "cell_type": "code",
   "execution_count": 4,
   "metadata": {},
   "outputs": [
    {
     "data": {
      "text/plain": [
       "<langgraph.graph.state.StateGraph at 0x114d4ea90>"
      ]
     },
     "execution_count": 4,
     "metadata": {},
     "output_type": "execute_result"
    }
   ],
   "source": [
    "from typing import Annotated\n",
    "from typing_extensions import TypedDict\n",
    "from langchain_openai import ChatOpenAI\n",
    "from langchain_teddynote.tools.tavily import TavilySearch\n",
    "from langgraph.graph import StateGraph, START, END\n",
    "from langgraph.graph.message import add_messages\n",
    "from langgraph.prebuilt import ToolNode, tools_condition\n",
    "\n",
    "\n",
    "########## 1. 상태 정의 ##########\n",
    "# 상태 정의\n",
    "class State(TypedDict):\n",
    "    # 메시지 목록 주석 추가\n",
    "    messages: Annotated[list, add_messages]\n",
    "\n",
    "\n",
    "########## 2. 도구 정의 및 바인딩 ##########\n",
    "# 도구 초기화\n",
    "tool = TavilySearch(max_results=3)\n",
    "tools = [tool]\n",
    "\n",
    "# LLM 초기화\n",
    "llm = ChatOpenAI(\n",
    "    api_key=\"ollama\",\n",
    "    model=\"llama3.2:1b\",\n",
    "    base_url=\"http://localhost:11434/v1\",\n",
    "    temperature=0,\n",
    ")\n",
    "\n",
    "# 도구와 LLM 결합\n",
    "llm_with_tools = llm.bind_tools(tools)\n",
    "\n",
    "\n",
    "########## 3. 노드 추가 ##########\n",
    "# 챗봇 함수 정의\n",
    "def chatbot(state: State):\n",
    "    # 메시지 호출 및 반환\n",
    "    return {\"messages\": [llm_with_tools.invoke(state[\"messages\"])]}\n",
    "\n",
    "\n",
    "# 상태 그래프 생성\n",
    "graph_builder = StateGraph(State)\n",
    "\n",
    "# 챗봇 노드 추가\n",
    "graph_builder.add_node(\"chatbot\", chatbot)\n",
    "\n",
    "# 도구 노드 생성 및 추가\n",
    "tool_node = ToolNode(tools=[tool])\n",
    "\n",
    "# 도구 노드 추가\n",
    "graph_builder.add_node(\"tools\", tool_node)\n",
    "\n",
    "# 조건부 엣지\n",
    "graph_builder.add_conditional_edges(\n",
    "    \"chatbot\",\n",
    "    tools_condition,\n",
    ")\n",
    "\n",
    "########## 4. 엣지 추가 ##########\n",
    "\n",
    "# tools > chatbot\n",
    "graph_builder.add_edge(\"tools\", \"chatbot\")\n",
    "\n",
    "# START > chatbot\n",
    "graph_builder.add_edge(START, \"chatbot\")\n",
    "\n",
    "# chatbot > END\n",
    "graph_builder.add_edge(\"chatbot\", END)\n"
   ]
  },
  {
   "cell_type": "code",
   "execution_count": 5,
   "metadata": {},
   "outputs": [],
   "source": [
    "# 그래프 빌더 컴파일\n",
    "graph = graph_builder.compile(checkpointer=memory)"
   ]
  },
  {
   "cell_type": "code",
   "execution_count": 6,
   "metadata": {},
   "outputs": [
    {
     "data": {
      "image/png": "[encoded data removed]",
      "text/plain": [
       "<IPython.core.display.Image object>"
      ]
     },
     "metadata": {},
     "output_type": "display_data"
    }
   ],
   "source": [
    "from langchain_teddynote.graphs import visualize_graph\n",
    "\n",
    "# 그래프 시각화\n",
    "visualize_graph(graph)"
   ]
  },
  {
   "cell_type": "markdown",
   "metadata": {},
   "source": [
    "RunnableConfig 설정\n",
    "\n",
    "RunnableConfig 을 정의하고 recursion_limit 과 thread_id 를 설정합니다.\n",
    "\n",
    "- recursion_limit: 최대 방문할 노드 수. 그 이상은 RecursionError 발생\n",
    "- thread_id: 스레드 ID 설정\n",
    "- thread_id 는 대화 세션을 구분하는 데 사용됩니다. 즉, 메모리의 저장은 thread_id 에 따라 개별적으로 이루어집니다."
   ]
  },
  {
   "cell_type": "code",
   "execution_count": 7,
   "metadata": {},
   "outputs": [],
   "source": [
    "from langchain_core.runnables import RunnableConfig\n",
    "\n",
    "config = RunnableConfig(\n",
    "    recursion_limit=10,  # 최대 10개의 노드까지 방문. 그 이상은 RecursionError 발생\n",
    "    configurable={\"thread_id\": \"1\"},  # 스레드 ID 설정\n",
    ")"
   ]
  },
  {
   "cell_type": "code",
   "execution_count": 8,
   "metadata": {},
   "outputs": [
    {
     "name": "stdout",
     "output_type": "stream",
     "text": [
      "==================================\u001b[1m Ai Message \u001b[0m==================================\n",
      "Tool Calls:\n",
      "  tavily_web_search (call_dp15z3k7)\n",
      " Call ID: call_dp15z3k7\n",
      "  Args:\n",
      "    query: ko봉이\n",
      "=================================\u001b[1m Tool Message \u001b[0m=================================\n",
      "Name: tavily_web_search\n",
      "\n",
      "[{\"title\": \"애봉이 - 나무위키\", \"url\": \"https://namu.wiki/w/애봉이\", \"content\": \"아프리카 TV 먹방 BJ 겸 먹방 유튜버. 2014년 7월 2일 아프리카TV에서 먹방 방송을 시작하였으며 40대 답지 않은 해맑은 분위기로 먹방을 하는 것으로 유명하다. 닉네임의 유래는 네이버 웹툰 마음의 소리 에 등장하는 캐릭터 애봉이 이다. 물론 해당 인물과는 절대 무관하다. 먹방을 할 때, 미니\", \"score\": 0.28394565, \"raw_content\": null}, {\"title\": \"점보도시락 1인분 공간춘 도전먹방! #jumboramen - YouTube\", \"url\": \"https://www.youtube.com/watch?v=3LIPX9UFBhE\", \"content\": \"#JumboRamen #spicyfood #점보도시락🔆짜파게티가짱이다🔆📍애봉이채널 구독하기 https://youtube.com/@aebongeee📍애봉이채널 가입하기\", \"score\": 0.12073936, \"raw_content\": null}, {\"title\": \"aebong Mukbang - YouTube\", \"url\": \"https://www.youtube.com/channel/UCdwLMpZeFXN5ODyCO9warSw\", \"content\": \"혼자놀기고수🔴V-Log로컬푸드맛집 ㅣ오므라이스 ㅣ탄탄면ㅣ아인슈폐너ㅣ비스켓ㅣ짐하우스ㅣ헬스장탐방ㅣ인생네컷#EatingShow #eatingasmr #asmr #koreafood\", \"score\": 0.07423823, \"raw_content\": null}]\n",
      "==================================\u001b[1m Ai Message \u001b[0m==================================\n",
      "\n",
      "안녕하세요, 코봉이입니다. 현재 개발자로 일하고 있어요. 만나서 반가워요.\n"
     ]
    }
   ],
   "source": [
    "# 첫 질문\n",
    "question = (\n",
    "    \"내 이름은 `코봉이` 입니다. 현재 개발자로 일하고 있어요. 만나서 반가워요\"\n",
    ")\n",
    "\n",
    "for event in graph.stream({\"messages\": [(\"user\", question)]}, config=config):\n",
    "    for value in event.values():\n",
    "        value[\"messages\"][-1].pretty_print()"
   ]
  },
  {
   "cell_type": "code",
   "execution_count": 9,
   "metadata": {},
   "outputs": [
    {
     "name": "stdout",
     "output_type": "stream",
     "text": [
      "==================================\u001b[1m Ai Message \u001b[0m==================================\n",
      "Tool Calls:\n",
      "  tavily_web_search (call_ypjtmand)\n",
      " Call ID: call_ypjtmand\n",
      "  Args:\n",
      "    query: 내 이름이 뭐라고 했지?\n",
      "=================================\u001b[1m Tool Message \u001b[0m=================================\n",
      "Name: tavily_web_search\n",
      "\n",
      "[{\"title\": \"which is more natural one ? ⚠️ ...you! What did you say ... - HiNative\", \"url\": \"https://hinative.com/questions/23301565\", \"content\": \"@allimart \\\"why did it have to be this of all things?\\\" / \\\"why this of all things?\\\" / etc 문맥이 없어서 정확하게 번역하느라 되게 애를 먹었어요 ㅜ|What did you call me? = 나를 뭐라고 불렀어요? What did you just call me?! = 날 뭐라고 불렀냐?! What did you say my name was earlier [just now]? = 아까[방금] 내 이름이 뭐라고 했지요? What did you say\", \"score\": 0.64719695, \"raw_content\": \"\\n\\nQuality Point(s): 19\\n\\nAnswer: 3\\n\\nLike: 25\\n\\nwhich is more natural one  ?  ⚠️...you! What did you say 'my' name was earlier?...you! What did you say my name was?.. you! What did you say about my name earlier..?!... you!  what did you say 'my name' just now?\\n\\n\\n\\nQuality Point(s): 1540\\n\\nAnswer: 245\\n\\nLike: 210\\n\\n@allimart \\\"why did it have to be this of all things?\\\" / \\\"why this of all things?\\\" / etc문맥이 없어서 정확하게 번역하느라 되게 애를 먹었어요 ㅜ\\n\\nWas this answer helpful?\\n\\n\\n\\nQuality Point(s): 1540\\n\\nAnswer: 245\\n\\nLike: 210\\n\\nWhat did you call me? = 나를 뭐라고 불렀어요?What did you just call me?! = 날 뭐라고 불렀냐?!What did you say my name was earlier [just now]? = 아까[방금] 내 이름이 뭐라고 했지요?What did you say about my name earlier [just now]? = 아까[방금] 내 이름에 대해 뭐라고 했지요?\\n\\nWas this answer helpful?\\n\\n\\n\\nQuality Point(s): 19\\n\\nAnswer: 3\\n\\nLike: 25\\n\\n\\n\\nQuality Point(s): 1540\\n\\nAnswer: 245\\n\\nLike: 210\\n\\n@allimart ...you! what did you say 'my' name was earlier?\\n\\nWas this answer helpful?\\n\\n\\n\\nQuality Point(s): 19\\n\\nAnswer: 3\\n\\nLike: 25\\n\\n\\n\\nQuality Point(s): 1540\\n\\nAnswer: 245\\n\\nLike: 210\\n\\n@allimart 흠 아주 약간 부자연스러운 것 같아요 왜냐하면 아포스트로피가 있으니까... 아포스트로피가 빼면 자연스러워요\\n\\nWas this answer helpful?\\n\\n\\n\\nQuality Point(s): 19\\n\\nAnswer: 3\\n\\nLike: 25\\n\\n\\n\\nQuality Point(s): 19\\n\\nAnswer: 3\\n\\nLike: 25\\n\\n\\n\\nQuality Point(s): 1540\\n\\nAnswer: 245\\n\\nLike: 210\\n\\n@allimart \\\"why did it have to be this of all things?\\\" / \\\"why this of all things?\\\" / etc문맥이 없어서 정확하게 번역하느라 되게 애를 먹었어요 ㅜ\\n\\nWas this answer helpful?\\n\\n\\n\\nThe Language Level symbol shows a user's proficiency in the languages they're interested in. Setting your Language Level helps other users provide you with answers that aren't too complex or too simple.\\n\\nHas difficulty understanding even short answers in this language.\\n\\nCan ask simple questions and can understand simple answers.\\n\\nCan ask all types of general questions and can understand longer answers.\\n\\nCan understand long, complex answers.\\n\\nShow your appreciation in a way that likes and stamps can't.\\n\\nBy sending a gift to someone, they will be more likely to answer your questions again!\\n\\nIf you post a question after sending a gift to someone, your question will be displayed in a special section on that person’s feed.\\n\\nAsk native speakers questions for free\\n\\nSolve your problems more easily with the app!\\n\\n\"}, {\"title\": \"이름이 뭐라고 했지? In English - YouTube\", \"url\": \"https://www.youtube.com/watch?v=2Z9YElXBb6w\", \"content\": \"원어민이 사용하는 하루 한문장 The EnglishWhat's your name again?이름이 뭐라고 했지?여러분의 영어공부에 작은 도움이 되길 바랍니다. 감사합니다. By\", \"score\": 0.5832277, \"raw_content\": null}, {\"title\": \"유용한 영어표현 (222): I never did catch your name : 네이버 블로그\", \"url\": \"https://m.blog.naver.com/trainday00/221859820367\", \"content\": \"크게 이름을 물어보는 상황을 몇 가지로 나눠 볼 수 있는데요, (물론 더 다양한 표현이 있겠지만, 대표적인 것들만 적어봅니다.) 첫 번째 는 이름을 한번 들었는데, 시간이 좀 지나거나, 한참 뒤에 다시 만났는데 기억이 나지 않을 경우  'I didn't catch your name.' 'I didn't get your name\", \"score\": 0.11501327, \"raw_content\": \"블로그\\n\\n카테고리 이동\\n\\n\\n\\n\\nJAY의 이삭줍기 미드영어\\n\\n유용한 영어표현(222): I never did catch your name\\n\\n2020. 3. 18. 12:37\\n\\n안녕하세요, JAY입니다.\\n\\n​\\n\\n이번에 알아볼 표현은\\n\\n'I never did catch your name'입니다.\\n\\n​\\n\\n이름과 관련된 표현입니다.\\n\\n틈만 나면 복습의 기회를 엿보는 저 이기에 ^^\\n\\n예전에 'name'이 나왔던 표현을\\n\\n잠시 떠 올려보겠습니다.\\n\\n​\\n\\n물론, 지금 보는 표현과는 관계가 없습니다만,\\n\\n'name'이라는 하나의 연결고리로\\n\\n혹시 궁금하신 분들은 찾아보시고 복습하시길 바랍니다.\\n\\n​\\n\\n안녕하세요, JAY입니다. ​이번에 다뤄 볼 표현은 'You're calling him names?'입니다....\\n\\nblog.naver.com\\n\\n​\\n\\n자 그러면 이번 표현에 대해 이야기해 보도록 하겠습니다.\\n\\n​\\n\\n누군가에 이름을 물어볼 때\\n\\n우리가 최고로 잘 아는 표현\\n\\n'What's your name?'이 있습니다.\\n\\n​\\n\\n하지만, 이름을 물어보는 표현하나만\\n\\n알고 있기에는 현실에서는 더 다양한\\n\\n상황이 펼쳐집니다.\\n\\n​\\n\\n한번 물어본 이름에 대해 다시 물어보게 될 경우\\n\\n또는 이름 물어보는 다른 뉘앙스의 표현에\\n\\n대해서는 어떻게 할까요?\\n\\n​\\n\\n한국어로 표현하면 이런 것들이죠.\\n\\n​\\n\\n이름이 뭐라고 했었죠?\\n\\n이름이 뭐였더라?\\n\\n근데 이름이...\\n\\n이름을 못물어봤네요.\\n\\n통속명을 못했네요.\\n\\n미안하지만, 이름이 뭐였죠?\\n\\n등등\\n\\n​\\n\\n여러가지 상황에서의 다양한\\n\\n표현들이 있습니다.\\n\\n이 모든 표현을 'What's you name?'하나로\\n\\n해결하기에는 부족함이 있습니다.\\n\\n​\\n\\n이런 표현들을 어떻게 할지에 대해\\n\\n먼저 아래 대화내용을 살펴보면서\\n\\n알아보도록 하겠습니다.\\n\\n[상황]지미의 과거 철부지 젊었던 시절 한 장면이 나온다. 술집에서 만난듯한 어떤 남자와 술에 취해 신이나서 길거리를 활보하면서 이야기를 하고 있다.\\n[상황]\\n\\n지미의 과거 철부지 젊었던 시절 한 장면이 나온다. 술집에서 만난듯한 어떤 남자와 술에 취해 신이나서 길거리를 활보하면서 이야기를 하고 있다.\\n\\n[대사]Jimmy: Hey, I know thisafter-hoursplace over--A couple blocks off Cermak. You wanna hit it?[직역] 지미: 이봐, 내가 영업시간 외 영업 장소를 알고 있다. 서맥 벗어난 두블럭쯤. 그것을 때리길 원해?[의역] 지미: 내가 심야 영업을 하는 데를 알아 서맥에서 두 블록쯤 가는데. 가 볼래?​Some Guy:Hells, yeah. Let's do it.[직역] 지미: 당연한 말씀, 그래, 그것하자.[의역] 지미: 당연하지, 가자.​Jimmy: That's what I'm talking about.[직역]지미: 그게 내말이야.[직역]지미: 그래야지.​===장면전환===(두 사람은 술에 취해 늑대울음 소리를 내며 거리를 활보하고 있음)​Jimmy: Not in her ear, right?[직역]지미: 그녀의 귀에는 안되지? 맞지?[직역]지미: 귀에 대고는 안 되지?(* 위의 표현은 늑대울음소리를 내며 두 남자가 성적인 농담을 하는 것. 무슨 소린지 하시는 분이 계실까바 코맨트 남깁니다. 특별한 표현은 아니므로 그냥 읽고 넘어가시면 될 것 같네요.)​Some Guy: Right, Not in her ear. Hey, bro,I never did catch your name.[직역] 지미: 맞아, 그녀의 귀에는 안돼. 이바 친구, 나는 너의 이름을 잡지 못했어.[의역] 지미: 그래, 귀에는 안 돼. 참, 친구 이름을 못 물어봤네.​Jimmy: Saul.[직역]지미: 사울.[직역]지미: 사울.\\n[대사 내, 추가 단어 알아보기]※ after hour: 영업 시간외※ Hells: 지당한 말씀, 당연한 소리(slang)\\n[대사]\\n\\nJimmy: Hey, I know this after-hours place over--A couple blocks off Cermak. You wanna hit it?\\n\\n[직역] 지미: 이봐, 내가 영업시간 외 영업 장소를 알고 있다. 서맥 벗어난 두블럭쯤. 그것을 때리길 원해?\\n\\n[의역] 지미: 내가 심야 영업을 하는 데를 알아 서맥에서 두 블록쯤 가는데. 가 볼래?\\n\\n​\\n\\nSome Guy: Hells, yeah. Let's do it.\\n\\n[직역] 지미: 당연한 말씀, 그래, 그것하자.\\n\\n[의역] 지미: 당연하지, 가자.\\n\\n​\\n\\nJimmy: That's what I'm talking about.\\n\\n[직역]지미: 그게 내말이야.\\n\\n[직역]지미: 그래야지.\\n\\n​\\n\\n===장면전환===\\n\\n(두 사람은 술에 취해 늑대울음 소리를 내며 거리를 활보하고 있음)\\n\\n​\\n\\nJimmy: Not in her ear, right?\\n\\n[직역]지미: 그녀의 귀에는 안되지? 맞지?\\n\\n[직역]지미: 귀에 대고는 안 되지?\\n\\n(* 위의 표현은 늑대울음소리를 내며 두 남자가 성적인 농담을 하는 것. 무슨 소린지 하시는 분이 계실까바 코맨트 남깁니다. 특별한 표현은 아니므로 그냥 읽고 넘어가시면 될 것 같네요.)\\n\\n​\\n\\nSome Guy: Right, Not in her ear. Hey, bro, I never did catch your name.\\n\\n[직역] 지미: 맞아, 그녀의 귀에는 안돼. 이바 친구, 나는 너의 이름을 잡지 못했어.\\n\\n[의역] 지미: 그래, 귀에는 안 돼. 참, 친구 이름을 못 물어봤네.\\n\\n​\\n\\nJimmy: Saul.\\n\\n[직역]지미: 사울.\\n\\n[직역]지미: 사울.\\n\\n[대사 내, 추가 단어 알아보기]\\n\\n※ after hour: 영업 시간외\\n\\n※ Hells: 지당한 말씀, 당연한 소리(slang)\\n\\n[발음 들어보기]\\n\\n'I never did catch your name.'에서\\n\\n먼저 'catch'는 잡다라는 알고 계신\\n\\n표현이 맞습니다.\\n\\n​\\n\\n한국에서 대화에서도 'catch'를\\n\\n그대로 쓰는 경우가 있죠.\\n\\n예를 들어\\n\\n​\\n\\n\\\"지금부터 내가 말해줄테니까\\n\\n중요한 내용을 잘 캐치해봐.\\\"\\n\\n​\\n\\n요런 식으로 쓰곤 하죠~\\n\\n​\\n\\n'catch'는 어떤 말이 귀로 들어가면\\n\\n다른 귀로 나가지 않고, 머리 속에\\n\\n잡아둔다는 표현이라고 보시면 됩니다.\\n\\n'기억하다', '알다', '이해하다' 등으로\\n\\n쓸 수 있겠죠?\\n\\n​\\n\\n이번 표현처럼 부정의 표현이 들어가면\\n\\n그 의미는 반대가 되겠죠?\\n\\nnot catch something\\n\\nspoken to not hear or understand\\n\\nwhat someone says\\n\\n누군가가 말한 것을 듣지 못하거나\\n\\n이해하지 못한다는 말\\n\\n크게 이름을 물어보는 상황을\\n\\n몇 가지로 나눠 볼 수 있는데요,\\n\\n(물론 더 다양한 표현이 있겠지만,\\n\\n대표적인 것들만 적어봅니다.)\\n\\n​\\n\\n​\\n\\n첫 번째는 이름을 한번 들었는데,\\n\\n시간이 좀 지나거나, 한참 뒤에 다시 만났는데\\n\\n기억이 나지 않을 경우\\n\\n​\\n\\n<이름이 뭐라고 하셨죠?>\\n\\n'I didn't catch your name.'\\n\\n'I didn't get your name.'\\n\\n'Sorry, What was your name, again?'\\n\\n​\\n\\n두 번째로 이름을 들었는데, (안들렸거나,\\n\\n이름이 어려워서) 잘 듣지 못하고 바로\\n\\n다시 물어볼 경우.\\n\\n​\\n\\n<뭐라고요?>\\n\\n'What was that?'\\n\\n'What did you say?'\\n\\n'I'm sorry I couldn't hear you.'\\n\\n'What?', 'Eh?', 'Say again'\\n\\n(밑에 3가지는 가장 캐주얼한 표현)\\n\\n​\\n\\n세 번째는 처음 만나서 이야기는 했는데\\n\\n헤어질 때쯤 이름을 못 물어봤다고 할 경우\\n\\n​\\n\\n<이름을 못물어봤네요.>\\n\\nI never did catch your name.\\n\\nI never caught your name.\\n\\nI never got your name.\\n\\n​\\n\\n위의 표현 중에\\n\\nI didn't catch(get) your name 역시\\n\\n처음보는 사람에게도\\n\\n\\\"누구시더라~\\\"라는 표현으로 씁니다.\\n\\n​\\n\\n한국말에서도 이름을\\n\\n들은 적이 없는데요,\\n\\n\\\"아 근데 이름이 뭐라고 하셨더라~\\\"\\n\\n라고 말하는 경우가 있습니다.\\n\\n이 말의 뉘앙스는 상대방이 이름을 말했건,\\n\\n말하지 않았건간에 지금 이름을\\n\\n말해주길 원하는 표현입니다.\\n\\n사실, 위의 표현들을 상황에 따라 구분없이\\n\\n섞어 쓰는 경우가 많아 좀 헷갈릴 수 있습니다.\\n\\n​\\n\\n참고로\\n\\n너 나한테 이름 안 알려줬어.\\n\\n라고 말할 수도 있을텐데요,\\n\\n이럴 때는\\n\\n'You never told me your name'\\n\\n이라고 하시면 됩니다.\\n\\n​\\n\\n한국말에서도 그렇지만 이름을\\n\\n듣고 기억을 못한다는 둥, 까먹었다는둥의\\n\\n표현은 할 수도 있겠지만,\\n\\n상대의 기분을 상하게 할 수 있으므로\\n\\n되도록 이면 그런 표현보다는\\n\\n위의 3가지 상황에서 알맞은\\n\\n제스추어와 함께 쓰시기 바랍니다.\\n\\n​\\n\\n​\\n\\n이미지출처: 영화 - Dragnet\\n\\nExcuse me, miss. I never did catch your name.\\n\\n실례지만, 아가씨. 이름을 못 물어봤네요.\\n\\n​\\n\\n이미지출처: 영화 - Beverly Hills Cop\\n\\nI'm sorry, I didn't catch your name.\\n\\n미안합니다. 성함이 어떻게 되셨더라.\\n\\n(기억이 안날 때 이름을 다시 물어볼 경우)\\n\\n​\\n\\n이미지출처: 미드 - BreakingBad\\n\\nSorry, I didn't catch your name.\\n\\n죄송합니다. 누구신지.\\n\\n(상대방을 처음볼 경우에도\\n\\n위와 같이 쓸 수 있음)\\n\\n​\\n\\n이미지출처: 영화 - White Chicks\\n\\nI'm sorry, I didn't even get your name.\\n\\n미안해요, 이름도 못 물어봤네요.\\n\\n​\\n\\n이미지출처: 미드 - Game of Thrones\\n\\nWhat was your name again?\\n\\n이름이 뭐라고 했지?\\n\\n​\\n\\n이미지출처: 애니 - Hotel Transylvania\\n\\nI never caught your name.\\n\\n네 이름을 못 물어봤네.\\n\\n​\\n\\n이미지출처: 영화 - The Circle\\n\\nYou never told me your name.\\n\\n넌 나한테 이름도 안 알려줬잖아.\\n\\n​\\n\\n이번에는 예시화면이 많아서 별도의\\n\\n예문은 생략하도록 하겠습니다.\\n\\n​\\n\\n표현이 다양해서 오히려 복잡하게 느껴지고\\n\\n기억에 잘 안남을 수도 있습니다.\\n\\n연습만이 살길입니다. ^^\\n\\n​\\n\\n​\\n\\n* 글을 보시고 괜찮으셨다면\\n\\n댓글이나 공감♥ 부탁드려요 ^_^\\n\\n​\\n\\nSee you~\\n\\nand Always have a nice day!!\\n\\n​\\n\\n​\\n\\n카테고리\\n\\n\"}]\n",
      "==================================\u001b[1m Ai Message \u001b[0m==================================\n",
      "\n",
      "이 문장은 영화 \"Dragnet\"에서 주인공의 대화를 나타내는 것입니다. 이 영화는 1950년대에 제작되었으며, 주인공의 대화를 그대로batim으로 작성한 것입니다.\n",
      "\n",
      "주인공은 \"Excuse me, miss. I never did catch your name.\"라고 말합니다.\n"
     ]
    }
   ],
   "source": [
    "from langchain_core.runnables import RunnableConfig\n",
    "\n",
    "question = \"내 이름이 뭐라고 했지?\"\n",
    "\n",
    "config = RunnableConfig(\n",
    "    recursion_limit=10,  # 최대 10개의 노드까지 방문. 그 이상은 RecursionError 발생\n",
    "    configurable={\"thread_id\": \"2\"},  # 스레드 ID 설정\n",
    ")\n",
    "\n",
    "for event in graph.stream({\"messages\": [(\"user\", question)]}, config=config):\n",
    "    for value in event.values():\n",
    "        value[\"messages\"][-1].pretty_print()"
   ]
  },
  {
   "cell_type": "markdown",
   "metadata": {},
   "source": [
    "스냅샷: 저장된 State 확인\n",
    "- Checkpoint 에는 현재 상태 값, 해당 구성, 그리고 처리할 next 노드가 포함되어 있습니다.\n",
    "- 주어진 설정에서 그래프의 state를 검사하려면 언제든지 get_state(config)를 호출하세요."
   ]
  },
  {
   "cell_type": "code",
   "execution_count": 12,
   "metadata": {},
   "outputs": [
    {
     "data": {
      "text/plain": [
       "[HumanMessage(content='내 이름은 `코봉이` 입니다. 현재 개발자로 일하고 있어요. 만나서 반가워요', additional_kwargs={}, response_metadata={}, id='c23d32c7-e967-4daa-96c1-a7961070a813'),\n",
       " AIMessage(content='', additional_kwargs={'tool_calls': [{'id': 'call_dp15z3k7', 'function': {'arguments': '{\"query\":\"ko봉이\"}', 'name': 'tavily_web_search'}, 'type': 'function', 'index': 0}], 'refusal': None}, response_metadata={'token_usage': {'completion_tokens': 34, 'prompt_tokens': 224, 'total_tokens': 258, 'completion_tokens_details': None, 'prompt_tokens_details': None}, 'model_name': 'llama3.2:1b', 'system_fingerprint': 'fp_ollama', 'id': 'chatcmpl-462', 'finish_reason': 'tool_calls', 'logprobs': None}, id='run-1f9b7528-1d47-405a-990e-9acba561b848-0', tool_calls=[{'name': 'tavily_web_search', 'args': {'query': 'ko봉이'}, 'id': 'call_dp15z3k7', 'type': 'tool_call'}], usage_metadata={'input_tokens': 224, 'output_tokens': 34, 'total_tokens': 258, 'input_token_details': {}, 'output_token_details': {}}),\n",
       " ToolMessage(content='[{\"title\": \"애봉이 - 나무위키\", \"url\": \"https://namu.wiki/w/애봉이\", \"content\": \"아프리카 TV 먹방 BJ 겸 먹방 유튜버. 2014년 7월 2일 아프리카TV에서 먹방 방송을 시작하였으며 40대 답지 않은 해맑은 분위기로 먹방을 하는 것으로 유명하다. 닉네임의 유래는 네이버 웹툰 마음의 소리 에 등장하는 캐릭터 애봉이 이다. 물론 해당 인물과는 절대 무관하다. 먹방을 할 때, 미니\", \"score\": 0.28394565, \"raw_content\": null}, {\"title\": \"점보도시락 1인분 공간춘 도전먹방! #jumboramen - YouTube\", \"url\": \"https://www.youtube.com/watch?v=3LIPX9UFBhE\", \"content\": \"#JumboRamen #spicyfood #점보도시락🔆짜파게티가짱이다🔆📍애봉이채널 구독하기 https://youtube.com/@aebongeee📍애봉이채널 가입하기\", \"score\": 0.12073936, \"raw_content\": null}, {\"title\": \"aebong Mukbang - YouTube\", \"url\": \"https://www.youtube.com/channel/UCdwLMpZeFXN5ODyCO9warSw\", \"content\": \"혼자놀기고수🔴V-Log로컬푸드맛집 ㅣ오므라이스 ㅣ탄탄면ㅣ아인슈폐너ㅣ비스켓ㅣ짐하우스ㅣ헬스장탐방ㅣ인생네컷#EatingShow #eatingasmr #asmr #koreafood\", \"score\": 0.07423823, \"raw_content\": null}]', name='tavily_web_search', id='9ab434bc-5cff-4ab2-9bc7-8c9e7c610775', tool_call_id='call_dp15z3k7'),\n",
       " AIMessage(content='안녕하세요, 코봉이입니다. 현재 개발자로 일하고 있어요. 만나서 반가워요.', additional_kwargs={'refusal': None}, response_metadata={'token_usage': {'completion_tokens': 25, 'prompt_tokens': 538, 'total_tokens': 563, 'completion_tokens_details': None, 'prompt_tokens_details': None}, 'model_name': 'llama3.2:1b', 'system_fingerprint': 'fp_ollama', 'id': 'chatcmpl-890', 'finish_reason': 'stop', 'logprobs': None}, id='run-842f7aea-890b-4713-8a9c-9dbfdf01d87d-0', usage_metadata={'input_tokens': 538, 'output_tokens': 25, 'total_tokens': 563, 'input_token_details': {}, 'output_token_details': {}})]"
      ]
     },
     "execution_count": 12,
     "metadata": {},
     "output_type": "execute_result"
    }
   ],
   "source": [
    "from langchain_core.runnables import RunnableConfig\n",
    "\n",
    "config = RunnableConfig(\n",
    "    configurable={\"thread_id\": \"1\"},  # 스레드 ID 설정\n",
    ")\n",
    "# 그래프 상태 스냅샷 생성\n",
    "snapshot = graph.get_state(config)\n",
    "snapshot.values[\"messages\"]"
   ]
  },
  {
   "cell_type": "code",
   "execution_count": 13,
   "metadata": {},
   "outputs": [
    {
     "data": {
      "text/plain": [
       "{'configurable': {'thread_id': '1',\n",
       "  'checkpoint_ns': '',\n",
       "  'checkpoint_id': '1f00c6ae-197f-69d8-8003-4b188c97484b'}}"
      ]
     },
     "execution_count": 13,
     "metadata": {},
     "output_type": "execute_result"
    }
   ],
   "source": [
    "# 설정된 config 정보\n",
    "snapshot.config"
   ]
  },
  {
   "cell_type": "code",
   "execution_count": 14,
   "metadata": {},
   "outputs": [
    {
     "data": {
      "text/plain": [
       "{'messages': [HumanMessage(content='내 이름은 `코봉이` 입니다. 현재 개발자로 일하고 있어요. 만나서 반가워요', additional_kwargs={}, response_metadata={}, id='c23d32c7-e967-4daa-96c1-a7961070a813'),\n",
       "  AIMessage(content='', additional_kwargs={'tool_calls': [{'id': 'call_dp15z3k7', 'function': {'arguments': '{\"query\":\"ko봉이\"}', 'name': 'tavily_web_search'}, 'type': 'function', 'index': 0}], 'refusal': None}, response_metadata={'token_usage': {'completion_tokens': 34, 'prompt_tokens': 224, 'total_tokens': 258, 'completion_tokens_details': None, 'prompt_tokens_details': None}, 'model_name': 'llama3.2:1b', 'system_fingerprint': 'fp_ollama', 'id': 'chatcmpl-462', 'finish_reason': 'tool_calls', 'logprobs': None}, id='run-1f9b7528-1d47-405a-990e-9acba561b848-0', tool_calls=[{'name': 'tavily_web_search', 'args': {'query': 'ko봉이'}, 'id': 'call_dp15z3k7', 'type': 'tool_call'}], usage_metadata={'input_tokens': 224, 'output_tokens': 34, 'total_tokens': 258, 'input_token_details': {}, 'output_token_details': {}}),\n",
       "  ToolMessage(content='[{\"title\": \"애봉이 - 나무위키\", \"url\": \"https://namu.wiki/w/애봉이\", \"content\": \"아프리카 TV 먹방 BJ 겸 먹방 유튜버. 2014년 7월 2일 아프리카TV에서 먹방 방송을 시작하였으며 40대 답지 않은 해맑은 분위기로 먹방을 하는 것으로 유명하다. 닉네임의 유래는 네이버 웹툰 마음의 소리 에 등장하는 캐릭터 애봉이 이다. 물론 해당 인물과는 절대 무관하다. 먹방을 할 때, 미니\", \"score\": 0.28394565, \"raw_content\": null}, {\"title\": \"점보도시락 1인분 공간춘 도전먹방! #jumboramen - YouTube\", \"url\": \"https://www.youtube.com/watch?v=3LIPX9UFBhE\", \"content\": \"#JumboRamen #spicyfood #점보도시락🔆짜파게티가짱이다🔆📍애봉이채널 구독하기 https://youtube.com/@aebongeee📍애봉이채널 가입하기\", \"score\": 0.12073936, \"raw_content\": null}, {\"title\": \"aebong Mukbang - YouTube\", \"url\": \"https://www.youtube.com/channel/UCdwLMpZeFXN5ODyCO9warSw\", \"content\": \"혼자놀기고수🔴V-Log로컬푸드맛집 ㅣ오므라이스 ㅣ탄탄면ㅣ아인슈폐너ㅣ비스켓ㅣ짐하우스ㅣ헬스장탐방ㅣ인생네컷#EatingShow #eatingasmr #asmr #koreafood\", \"score\": 0.07423823, \"raw_content\": null}]', name='tavily_web_search', id='9ab434bc-5cff-4ab2-9bc7-8c9e7c610775', tool_call_id='call_dp15z3k7'),\n",
       "  AIMessage(content='안녕하세요, 코봉이입니다. 현재 개발자로 일하고 있어요. 만나서 반가워요.', additional_kwargs={'refusal': None}, response_metadata={'token_usage': {'completion_tokens': 25, 'prompt_tokens': 538, 'total_tokens': 563, 'completion_tokens_details': None, 'prompt_tokens_details': None}, 'model_name': 'llama3.2:1b', 'system_fingerprint': 'fp_ollama', 'id': 'chatcmpl-890', 'finish_reason': 'stop', 'logprobs': None}, id='run-842f7aea-890b-4713-8a9c-9dbfdf01d87d-0', usage_metadata={'input_tokens': 538, 'output_tokens': 25, 'total_tokens': 563, 'input_token_details': {}, 'output_token_details': {}})]}"
      ]
     },
     "execution_count": 14,
     "metadata": {},
     "output_type": "execute_result"
    }
   ],
   "source": [
    "# 저장된 값(values)\n",
    "snapshot.values\n"
   ]
  },
  {
   "cell_type": "code",
   "execution_count": 15,
   "metadata": {},
   "outputs": [
    {
     "data": {
      "text/plain": [
       "()"
      ]
     },
     "execution_count": 15,
     "metadata": {},
     "output_type": "execute_result"
    }
   ],
   "source": [
    "# 다음 노드\n",
    "snapshot.next"
   ]
  },
  {
   "cell_type": "code",
   "execution_count": 16,
   "metadata": {},
   "outputs": [
    {
     "data": {
      "text/plain": [
       "AIMessage(content='안녕하세요, 코봉이입니다. 현재 개발자로 일하고 있어요. 만나서 반가워요.', additional_kwargs={'refusal': None}, response_metadata={'token_usage': {'completion_tokens': 25, 'prompt_tokens': 538, 'total_tokens': 563, 'completion_tokens_details': None, 'prompt_tokens_details': None}, 'model_name': 'llama3.2:1b', 'system_fingerprint': 'fp_ollama', 'id': 'chatcmpl-890', 'finish_reason': 'stop', 'logprobs': None}, id='run-842f7aea-890b-4713-8a9c-9dbfdf01d87d-0', usage_metadata={'input_tokens': 538, 'output_tokens': 25, 'total_tokens': 563, 'input_token_details': {}, 'output_token_details': {}})"
      ]
     },
     "execution_count": 16,
     "metadata": {},
     "output_type": "execute_result"
    }
   ],
   "source": [
    "snapshot.metadata[\"writes\"][\"chatbot\"][\"messages\"][0]"
   ]
  },
  {
   "cell_type": "code",
   "execution_count": 17,
   "metadata": {},
   "outputs": [
    {
     "name": "stdout",
     "output_type": "stream",
     "text": [
      "    \u001b[93msource\u001b[0m: \"loop\"\n",
      "    \u001b[93mwrites\u001b[0m:\n",
      "        \u001b[94mchatbot\u001b[0m:\n",
      "            \u001b[95mmessages\u001b[0m:\n",
      "                \u001b[95mindex [0]\u001b[0m\n",
      "                    \u001b[96mcontent\u001b[0m: \"안녕하세요, 코봉이입니다. 현재 개발자로 일하고 있어요. 만나서 반가워요.\"\n",
      "                    \u001b[96madditional_kwargs\u001b[0m: {\"refusal\": None}\n",
      "                    \u001b[96mresponse_metadata\u001b[0m:\n",
      "                        \u001b[96mtoken_usage\u001b[0m: {\"completion_tokens\": 25, \"prompt_tokens\": 538, \"total_tokens\": 563, \"completion_tokens_details\": None, \"prompt_tokens_details\": None}\n",
      "                        \u001b[96mmodel_name\u001b[0m: \"llama3.2:1b\"\n",
      "                        \u001b[96msystem_fingerprint\u001b[0m: \"fp_ollama\"\n",
      "                        \u001b[96mid\u001b[0m: \"chatcmpl-890\"\n",
      "                        \u001b[96mfinish_reason\u001b[0m: \"stop\"\n",
      "                        \u001b[96mlogprobs\u001b[0m: None\n",
      "                    \u001b[96mtype\u001b[0m: \"ai\"\n",
      "                    \u001b[96mname\u001b[0m: None\n",
      "                    \u001b[96mid\u001b[0m: \"run-842f7aea-890b-4713-8a9c-9dbfdf01d87d-0\"\n",
      "                    \u001b[96mexample\u001b[0m: False\n",
      "                    \u001b[96mtool_calls\u001b[0m:\n",
      "                    \u001b[96minvalid_tool_calls\u001b[0m:\n",
      "                    \u001b[96musage_metadata\u001b[0m:\n",
      "                        \u001b[96minput_tokens\u001b[0m: 538\n",
      "                        \u001b[96moutput_tokens\u001b[0m: 25\n",
      "                        \u001b[96mtotal_tokens\u001b[0m: 563\n",
      "                        \u001b[96minput_token_details\u001b[0m: {}\n",
      "                        \u001b[96moutput_token_details\u001b[0m: {}\n",
      "    \u001b[93mthread_id\u001b[0m: \"1\"\n",
      "    \u001b[93mstep\u001b[0m: 3\n",
      "    \u001b[93mparents\u001b[0m: {}\n"
     ]
    }
   ],
   "source": [
    "from langchain_teddynote.messages import display_message_tree\n",
    "\n",
    "# 메타데이터(tree 형태로 출력)\n",
    "display_message_tree(snapshot.metadata)"
   ]
  },
  {
   "cell_type": "code",
   "execution_count": null,
   "metadata": {},
   "outputs": [],
   "source": []
  }
 ],
 "metadata": {
  "kernelspec": {
   "display_name": "llm",
   "language": "python",
   "name": "python3"
  },
  "language_info": {
   "codemirror_mode": {
    "name": "ipython",
    "version": 3
   },
   "file_extension": ".py",
   "mimetype": "text/x-python",
   "name": "python",
   "nbconvert_exporter": "python",
   "pygments_lexer": "ipython3",
   "version": "3.11.11"
  }
 },
 "nbformat": 4,
 "nbformat_minor": 2
}
