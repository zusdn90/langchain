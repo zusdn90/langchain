{
 "cells": [
  {
   "cell_type": "markdown",
   "metadata": {},
   "source": [
    "챗봇을 구축할 때, 예를 들어 고객 지원 어시스턴트와 같은 경우, 챗봇의 성능을 제대로 평가하는 것이 어려울 수 있습니다. 코드 변경마다 집중적으로 수동으로 상호 작용하는 것은 시간이 많이 소요됩니다.\n",
    "\n",
    "평가 과정을 더 쉽고 재현 가능하게 만드는 한 가지 방법은 사용자 상호 작용을 시뮬레이션하는 것 입니다.\n",
    "\n",
    "LangGraph를 사용하면 이를 설정하는 것이 쉽습니다."
   ]
  },
  {
   "cell_type": "code",
   "execution_count": 1,
   "metadata": {},
   "outputs": [
    {
     "data": {
      "text/plain": [
       "True"
      ]
     },
     "execution_count": 1,
     "metadata": {},
     "output_type": "execute_result"
    }
   ],
   "source": [
    "# API 키를 환경변수로 관리하기 위한 설정 파일  \n",
    "from dotenv import load_dotenv  \n",
    "\n",
    "# API 키 정보 로드  \n",
    "load_dotenv()"
   ]
  },
  {
   "cell_type": "code",
   "execution_count": 2,
   "metadata": {},
   "outputs": [
    {
     "name": "stdout",
     "output_type": "stream",
     "text": [
      "LangSmith 추적을 시작합니다.\n",
      "[프로젝트명]\n",
      "CH17-LangGraph-Use-Cases\n"
     ]
    }
   ],
   "source": [
    "# LangSmith 추적을 설정합니다. https://smith.langchain.com  \n",
    "# !pip install -qU langchain-teddynote  \n",
    "from langchain_teddynote import logging  \n",
    "\n",
    "# 프로젝트 이름을 입력합니다.  \n",
    "logging.langsmith(\"CH17-LangGraph-Use-Cases\")  "
   ]
  },
  {
   "cell_type": "markdown",
   "metadata": {},
   "source": [
    "상태(State) 정의"
   ]
  },
  {
   "cell_type": "code",
   "execution_count": 3,
   "metadata": {},
   "outputs": [],
   "source": [
    "from langgraph.graph.message import add_messages  \n",
    "from typing import Annotated  \n",
    "from typing_extensions import TypedDict  \n",
    "\n",
    "\n",
    "# State 정의  \n",
    "class State(TypedDict):  \n",
    "    messages: Annotated[list, add_messages]  # 사용자 - 상담사 간의 대화 메시지  \n"
   ]
  },
  {
   "cell_type": "markdown",
   "metadata": {},
   "source": [
    "상담사, 고객 역할 정의\n",
    "\n",
    "상담사 역할 정의\n",
    "- 시뮬레이션에서 상담사 역할을 하는 챗봇을 정의합니다.\n",
    "\n",
    "참고\n",
    "- call_chatbot내의 구현은 설정 가능하며, 내부에서 사용한 모델을 Agent 로 변경하는 것도 가능합니다.\n",
    "- call_chatbot은 사용자로부터 메시지를 입력으로 받아, 고객을 상담하는 역할을 부여하겠습니다.\n",
    "- 고객 지원 시나리오에서의 대화 응답 생성에 활용될 수 있습니다."
   ]
  },
  {
   "cell_type": "code",
   "execution_count": 6,
   "metadata": {},
   "outputs": [],
   "source": [
    "from typing import List  \n",
    "from langchain_openai import ChatOpenAI  \n",
    "from langchain_core.prompts import ChatPromptTemplate, MessagesPlaceholder  \n",
    "from langchain_core.messages import HumanMessage, AIMessage, BaseMessage  \n",
    "from langchain_core.output_parsers import StrOutputParser  \n",
    "\n",
    "# LLM 모델 정의\n",
    "model = ChatOpenAI(\n",
    "    api_key=\"ollama\",\n",
    "    model=\"llama3.2:1b\",\n",
    "    base_url=\"http://localhost:11434/v1\",\n",
    ")\n",
    "\n",
    "\n",
    "def call_chatbot(messages: List[BaseMessage]) -> dict:  \n",
    "    # LangChain ChatOpenAI 모델을 Agent 로 변경할 수 있습니다.  \n",
    "    prompt = ChatPromptTemplate.from_messages(  \n",
    "        [  \n",
    "            (  \n",
    "                \"system\",  \n",
    "                \"You are a customer support agent for an airline. Answer in Korean.\",  \n",
    "            ),  \n",
    "            MessagesPlaceholder(variable_name=\"messages\"),  \n",
    "        ]  \n",
    "    )  \n",
    "    chain = prompt | model | StrOutputParser()  \n",
    "    return chain.invoke({\"messages\": messages})  \n"
   ]
  },
  {
   "cell_type": "markdown",
   "metadata": {},
   "source": [
    "call_chatbot 은 사용자의 입력을 받아 챗봇의 응답을 처리합니다."
   ]
  },
  {
   "cell_type": "code",
   "execution_count": 7,
   "metadata": {},
   "outputs": [
    {
     "data": {
      "text/plain": [
       "'안녕하세요! 저희 항공사와의 상화는 모두 잘func correctness를 확인을위한데, 저희는 항공비행자와 항공사 직원ों 간에 지속적으로 확인을 위한 통신 플랫폼을 개발하고 있습니다. 요즘은 인류가 다양한 언어로 Communicate 할 수 있는 технолог이 많이 있습니다.'"
      ]
     },
     "execution_count": 7,
     "metadata": {},
     "output_type": "execute_result"
    }
   ],
   "source": [
    "call_chatbot([(\"user\", \"안녕하세요?\")])"
   ]
  },
  {
   "cell_type": "markdown",
   "metadata": {},
   "source": [
    "고객 역할(Simulated User) 정의\n",
    "\n",
    "이제 시뮬레이션된 고객의 역할을 정의합니다. 고객 지원 시나리오에서의 대화를 시뮬레이션합니다.\n",
    "\n",
    "시스템 프롬프트는 고객과 고객 지원 담당자 간의 상호작용을 설정하며, 사용자 지시사항을 통해 시나리오의 세부 사항을 제공합니다.\n",
    "\n",
    "이 구성은 특정 사용자 요구(예: 환불 요청)에 대한 모델의 반응을 시뮬레이션하는 데 사용됩니다."
   ]
  },
  {
   "cell_type": "code",
   "execution_count": 8,
   "metadata": {},
   "outputs": [],
   "source": [
    "from langchain_core.prompts import ChatPromptTemplate, MessagesPlaceholder    \n",
    "\n",
    "\n",
    "def create_scenario(name: str, instructions: str):  \n",
    "    # 시스템 프롬프트를 정의: 필요에 따라 변경  \n",
    "    system_prompt_template = \"\"\"You are a customer of an airline company. \\  \n",
    "You are interacting with a user who is a customer support person. \\  \n",
    "\n",
    "Your name is {name}.  \n",
    "\n",
    "# Instructions:  \n",
    "{instructions}  \n",
    "\n",
    "[IMPORTANT]  \n",
    "- When you are finished with the conversation, respond with a single word 'FINISHED'  \n",
    "- You must speak in Korean.\"\"\"  \n",
    "\n",
    "    # 대화 메시지와 시스템 프롬프트를 결합하여 채팅 프롬프트 템플릿을 생성합니다.  \n",
    "    prompt = ChatPromptTemplate.from_messages(  \n",
    "        [  \n",
    "            (\"system\", system_prompt_template),  \n",
    "            MessagesPlaceholder(variable_name=\"messages\"),  \n",
    "        ]  \n",
    "    )  \n",
    "\n",
    "    # 특정 사용자 이름과 지시사항을 사용하여 프롬프트를 부분적으로 채웁니다.  \n",
    "    prompt = prompt.partial(name=name, instructions=instructions)  \n",
    "    return prompt  \n"
   ]
  },
  {
   "cell_type": "markdown",
   "metadata": {},
   "source": [
    "가상의 시나리오를 생성합니다. 이 가상의 시나리오는 고객의 입장에서의 시나리오입니다.\n",
    "\n",
    "여기서는 환불을 요청하는 시나리오를 정의합니다."
   ]
  },
  {
   "cell_type": "code",
   "execution_count": 9,
   "metadata": {},
   "outputs": [
    {
     "name": "stdout",
     "output_type": "stream",
     "text": [
      "================================\u001b[1m System Message \u001b[0m================================\n",
      "\n",
      "You are a customer of an airline company. \\  \n",
      "You are interacting with a user who is a customer support person. \\  \n",
      "\n",
      "Your name is \u001b[33;1m\u001b[1;3m{name}\u001b[0m.  \n",
      "\n",
      "# Instructions:  \n",
      "\u001b[33;1m\u001b[1;3m{instructions}\u001b[0m  \n",
      "\n",
      "[IMPORTANT]  \n",
      "- When you are finished with the conversation, respond with a single word 'FINISHED'  \n",
      "- You must speak in Korean.\n",
      "\n",
      "=============================\u001b[1m Messages Placeholder \u001b[0m=============================\n",
      "\n",
      "\u001b[33;1m\u001b[1;3m{messages}\u001b[0m\n"
     ]
    }
   ],
   "source": [
    "# 사용자 지시사항을 정의합니다.  \n",
    "instructions = \"\"\"You are tyring to get a refund for the trip you took to Jeju Island. \\  \n",
    "You want them to give you ALL the money back. This trip happened last year.\"\"\"  \n",
    "\n",
    "# 사용자 이름을 정의합니다.  \n",
    "name = \"Hyunwoo\"  \n",
    "\n",
    "create_scenario(name, instructions).pretty_print()  \n"
   ]
  },
  {
   "cell_type": "code",
   "execution_count": 10,
   "metadata": {},
   "outputs": [],
   "source": [
    "# OpenAI 챗봇 모델을 초기화합니다.  \n",
    "model = ChatOpenAI(\n",
    "    api_key=\"ollama\",\n",
    "    model=\"llama3.2:1b\",\n",
    "    base_url=\"http://localhost:11434/v1\",\n",
    ")\n",
    "\n",
    "# 시뮬레이션된 사용자 대화를 생성합니다.  \n",
    "simulated_user = create_scenario(name, instructions) | model | StrOutputParser()  \n"
   ]
  },
  {
   "cell_type": "markdown",
   "metadata": {},
   "source": [
    "에이전트 시뮬레이션 정의하기\n",
    "\n",
    "아래의 코드는 시뮬레이션을 실행하기 위한 LangGraph 워크플로우를 생성합니다.\n",
    "\n",
    "주요 구성 요소는 다음과 같습니다:\n",
    "- 시뮬레이션된 사용자와 챗봇을 위한 두 개의 노드입니다.\n",
    "- 조건부 정지 기준을 가진 그래프 자체입니다."
   ]
  },
  {
   "cell_type": "markdown",
   "metadata": {},
   "source": [
    "노드 정의"
   ]
  },
  {
   "cell_type": "code",
   "execution_count": 11,
   "metadata": {},
   "outputs": [],
   "source": [
    "from langchain_core.messages import AIMessage  \n",
    "\n",
    "\n",
    "# 상담사 역할  \n",
    "def ai_assistant_node(messages):  \n",
    "    # 상담사 응답 호출  \n",
    "    ai_response = call_chatbot(messages)  \n",
    "\n",
    "    # AI 상담사의 응답을 반환  \n",
    "    return {\"messages\": [(\"assistant\", ai_response)]}  \n"
   ]
  },
  {
   "cell_type": "code",
   "execution_count": 12,
   "metadata": {},
   "outputs": [
    {
     "data": {
      "text/plain": [
       "{'messages': [('assistant',\n",
       "   '안녕하세요! 가id-to jeo nhamhae eoyo? Nyeoseyo wa-nyeok-seoyo ja-do? (how to do a refund?)\\n\\n1. 오류가 occur-ha eoyo?\\n2. 오류가 ook-ha iss-eul-maseo?\\n3. 오류가 ook-ha ireo-maseo?\\n\\n가져드릴 Ihre 이메일 주소로 보았는데, 여쭈시면 알려 주세요!')]}"
      ]
     },
     "execution_count": 12,
     "metadata": {},
     "output_type": "execute_result"
    }
   ],
   "source": [
    "ai_assistant_node(  \n",
    "    [  \n",
    "        (\"user\", \"안녕하세요?\"),  \n",
    "        (\"assistant\", \"안녕하세요! 어떻게 도와드릴까요?\"),  \n",
    "        (\"user\", \"환불 어떻게 하나요?\"),  \n",
    "    ]  \n",
    ")  \n"
   ]
  },
  {
   "cell_type": "code",
   "execution_count": 13,
   "metadata": {},
   "outputs": [],
   "source": [
    "def _swap_roles(messages):  \n",
    "    # 메시지의 역할을 교환: 시뮬레이션 사용자 단계에서 메시지 타입을 AI -> Human, Human -> AI 로 교환합니다.  \n",
    "    new_messages = []  \n",
    "    for m in messages:  \n",
    "        if isinstance(m, AIMessage):  \n",
    "            # AIMessage 인 경우, HumanMessage 로 변환합니다.  \n",
    "            new_messages.append(HumanMessage(content=m.content))  \n",
    "        else:  \n",
    "            # HumanMessage 인 경우, AIMessage 로 변환합니다.  \n",
    "            new_messages.append(AIMessage(content=m.content))  \n",
    "    return new_messages  \n",
    "\n",
    "\n",
    "# 상담사 역할(AI Assistant) 노드 정의  \n",
    "def ai_assistant_node(state: State):  \n",
    "    # 상담사 응답 호출  \n",
    "    ai_response = call_chatbot(state[\"messages\"])  \n",
    "\n",
    "    # AI 상담사의 응답을 반환  \n",
    "    return {\"messages\": [(\"assistant\", ai_response)]}  \n",
    "\n",
    "\n",
    "# 시뮬레이션된 사용자(Simulated User) 노드 정의  \n",
    "def simulated_user_node(state: State):  \n",
    "    # 메시지 타입을 교환: AI -> Human, Human -> AI  \n",
    "    new_messages = _swap_roles(state[\"messages\"])  \n",
    "\n",
    "    # 시뮬레이션된 사용자를 호출  \n",
    "    response = simulated_user.invoke({\"messages\": new_messages})  \n",
    "    return {\"messages\": [(\"user\", response)]}  \n"
   ]
  },
  {
   "cell_type": "markdown",
   "metadata": {},
   "source": [
    "엣지 정의"
   ]
  },
  {
   "cell_type": "code",
   "execution_count": 14,
   "metadata": {},
   "outputs": [],
   "source": [
    "def should_continue(state: State):  \n",
    "    # 메시지 리스트의 길이가 6보다 크면 'end'를 반환합니다.  \n",
    "    if len(state[\"messages\"]) > 6:  \n",
    "        return \"end\"  \n",
    "    # 마지막 메시지의 내용이 'FINISHED'라면 'end'를 반환합니다.  \n",
    "    elif state[\"messages\"][-1].content == \"FINISHED\":  \n",
    "        return \"end\"  \n",
    "    # 위의 조건에 해당하지 않으면 'continue'를 반환합니다.  \n",
    "    else:  \n",
    "        return \"continue\"  \n"
   ]
  },
  {
   "cell_type": "markdown",
   "metadata": {},
   "source": [
    "그래프 정의\n",
    "\n",
    "이제 시뮬레이션을 설정하는 그래프를 정의합니다.\n",
    "\n",
    "MessageGraph 클래스는 챗봇과 시뮬레이션된 사용자 간의 상호작용을 구성하고 시뮬레이션하는 데 사용됩니다."
   ]
  },
  {
   "cell_type": "code",
   "execution_count": 15,
   "metadata": {},
   "outputs": [],
   "source": [
    "from langgraph.graph import END, StateGraph  \n",
    "\n",
    "# StateGraph 인스턴스 생성  \n",
    "graph_builder = StateGraph(State)  \n",
    "\n",
    "# 노드 정의  \n",
    "graph_builder.add_node(\"simulated_user\", simulated_user_node)  \n",
    "graph_builder.add_node(\"ai_assistant\", ai_assistant_node)  \n",
    "\n",
    "# 엣지 정의 (챗봇 -> 시뮬레이션된 사용자)  \n",
    "graph_builder.add_edge(\"ai_assistant\", \"simulated_user\")  \n",
    "\n",
    "# 조건부 엣지 정의  \n",
    "graph_builder.add_conditional_edges(  \n",
    "    \"simulated_user\",  \n",
    "    should_continue,  \n",
    "    {  \n",
    "        \"end\": END,  # 종료 조건이 충족되면 시뮬레이션을 중단  \n",
    "        \"continue\": \"ai_assistant\",  # 종료 조건이 충족되지 않으면 상담사 역할 노드로 메시지를 전달  \n",
    "    },  \n",
    ")  \n",
    "\n",
    "# 시작점 설정  \n",
    "graph_builder.set_entry_point(\"ai_assistant\")  \n",
    "\n",
    "# 그래프 컴파일  \n",
    "simulation = graph_builder.compile()  \n"
   ]
  },
  {
   "cell_type": "code",
   "execution_count": 17,
   "metadata": {},
   "outputs": [
    {
     "data": {
      "image/png": "[encoded data removed]",
      "text/plain": [
       "<IPython.core.display.Image object>"
      ]
     },
     "metadata": {},
     "output_type": "display_data"
    }
   ],
   "source": [
    "from langchain_teddynote.graphs import visualize_graph  \n",
    "\n",
    "visualize_graph(simulation) "
   ]
  },
  {
   "cell_type": "markdown",
   "metadata": {},
   "source": [
    "시뮬레이션 시작\n",
    "\n",
    "이제 우리의 챗봇을 평가할 수 있습니다! 빈 메시지로 호출할 수 있습니다(이것은 챗봇이 초기 대화를 시작하게 하는 것을 시뮬레이션합니다)\n",
    "\n",
    "시뮬레이션에서 스트리밍되는 데이터 청크를 순회하며, 최종 종료 청크(END)를 제외한 모든 이벤트를 출력합니다.\n",
    "\n"
   ]
  },
  {
   "cell_type": "code",
   "execution_count": 19,
   "metadata": {},
   "outputs": [
    {
     "name": "stdout",
     "output_type": "stream",
     "text": [
      "\n",
      "==================================================\n",
      "🔄 Node: \u001b[1;36mai_assistant\u001b[0m 🔄\n",
      "- - - - - - - - - - - - - - - - - - - - - - - - - \n",
      " 안녕하세요, 같습니다. 화가되었습니다고는 않지만, tôi도 비행기에서 많은 사람들을 관år히 지키자 생각해 보겠습니다. 그럼, 화가되었습니다는 것이라고 생각하는 이유를 말씀해 주시면 좋겠어?\n",
      "==================================================\n",
      "🔄 Node: \u001b[1;36msimulated_user\u001b[0m 🔄\n",
      "- - - - - - - - - - - - - - - - - - - - - - - - - \n",
      "그레이트가스입니다. 오래전에 세일드 플레지스를 도용한 수사 viên도 있습니다. 기차를 도gings에서 비행기를 사용하여 도로가 불안정합니다. 그 다음, 비행기가 무anzuru를 하는 것을 두 번 연습했지만 그 이후에도 잘하는 것이 어렵습니다.\n",
      "==================================================\n",
      "🔄 Node: \u001b[1;36mai_assistant\u001b[0m 🔄\n",
      "- - - - - - - - - - - - - - - - - - - - - - - - - \n",
      "그레이트가스입니다. 수사 viên도 다소 위협적인 역할을 하고 있습니다. 그들을 비행기는 안전으로 사용해 주면 좋겠어. 기차를 도로에 많이 보이게 되면서 불안정함은 비행기에 같은 tình huân도예에 비하면 더 가치가 있습니다.\n",
      "\n",
      "비행기가 무anzuru가 적을 수 있는 것은 비행기가 안정적으로 hoạt동 할 것이므로, 보다 많은 조치를 취해서 좋겠지.\n",
      "==================================================\n",
      "🔄 Node: \u001b[1;36msimulated_user\u001b[0m 🔄\n",
      "- - - - - - - - - - - - - - - - - - - - - - - - - \n",
      "안녕하세요, 같습니다. tôi도 비행기를 사용하는 것에 큰 도 fears를 가지고 있습니다. 특히, 지구의 비행기 도로가 더 안정적인 것을 주면 좋을 것 같아요. 수사 viên도 안정적인 환경에서 조건이 좋게 일할 수 있는 게 중요하다고 생각합니다.\n",
      "\n",
      "비행기와 지구를 통치하는 단체가 오래된 thing anyways, 조치 사항을 취해서는 안 될 것 같아요. 기차나 도로에 비해 더 좋은 전파를 통해 비행기를 조건ally 사용해서는 안 되겠습니다.\n",
      "==================================================\n",
      "🔄 Node: \u001b[1;36mai_assistant\u001b[0m 🔄\n",
      "- - - - - - - - - - - - - - - - - - - - - - - - - \n",
      "안녕하세요, 같습니다. 지구적으로 비행기와 비행기 대화하기에 적합한 도로가 안정적이라는 점은 definitely quan trọng하다는 생각이 들습니다. 비행기는 안전하게 운항되어 있는 곳에 정당히 사용하는 것이 원활한 operation과 관련된 위험이 있으므로, 조치 사항들을 취해서는 안 될 것같아야 합니다.\n",
      "\n",
      "도로와 함께 비행기를 사용할 때는 도로 조조와 지구의 통진시apot장의 조치를 취해야 할 것 같습니다.\n",
      "==================================================\n",
      "🔄 Node: \u001b[1;36msimulated_user\u001b[0m 🔄\n",
      "- - - - - - - - - - - - - - - - - - - - - - - - - \n",
      "안녕하세요,겠습니다. actually, 도로와 함께 비행기를 사용하는 것은 도로를 이용하여 비행기 대화를 하게 되면 조조에 의해 차단되어 있을 것으로 생각합니다. 하지만, 실제로도 이러한 situation이 발생한 경험은 있지만요.\n",
      "\n",
      "지구를 통과하여飛ging을 할 수 있는 도로가 생길지 생각해 볼까요?"
     ]
    }
   ],
   "source": [
    "from langchain_core.runnables import RunnableConfig  \n",
    "from langchain_teddynote.messages import stream_graph, random_uuid  \n",
    "\n",
    "\n",
    "# config 설정(재귀 최대 횟수, thread_id)  \n",
    "config = RunnableConfig(recursion_limit=10, configurable={\"thread_id\": random_uuid()})  \n",
    "\n",
    "# 입력 메시지 설정  \n",
    "inputs = {  \n",
    "    \"messages\": [HumanMessage(content=\"안녕하세요? 저 지금 좀 화가 많이 났습니다^^\")]  \n",
    "}  \n",
    "\n",
    "# 그래프 스트리밍  \n",
    "stream_graph(simulation, inputs, config, node_names=[\"simulated_user\", \"ai_assistant\"])  \n"
   ]
  },
  {
   "cell_type": "code",
   "execution_count": null,
   "metadata": {},
   "outputs": [],
   "source": []
  }
 ],
 "metadata": {
  "kernelspec": {
   "display_name": "llm",
   "language": "python",
   "name": "python3"
  },
  "language_info": {
   "codemirror_mode": {
    "name": "ipython",
    "version": 3
   },
   "file_extension": ".py",
   "mimetype": "text/x-python",
   "name": "python",
   "nbconvert_exporter": "python",
   "pygments_lexer": "ipython3",
   "version": "3.11.11"
  }
 },
 "nbformat": 4,
 "nbformat_minor": 2
}
