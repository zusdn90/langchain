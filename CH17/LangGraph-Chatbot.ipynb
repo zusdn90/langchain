{
 "cells": [
  {
   "cell_type": "markdown",
   "metadata": {},
   "source": [
    "StateGraph를 생성하는 것으로 시작하십시오. StateGraph 객체는 챗봇의 구조를 \"상태 기계(State Machine)\"로 정의합니다.\n",
    "\n",
    "nodes를 추가하여 챗봇이 호출할 수 있는 llm과 함수들을 나타내고, edges를 추가하여 봇이 이러한 함수들 간에 어떻게 전환해야 하는지를 지정합니다."
   ]
  },
  {
   "cell_type": "code",
   "execution_count": 1,
   "metadata": {},
   "outputs": [
    {
     "data": {
      "text/plain": [
       "True"
      ]
     },
     "execution_count": 1,
     "metadata": {},
     "output_type": "execute_result"
    }
   ],
   "source": [
    "# API 키를 환경변수로 관리하기 위한 설정 파일\n",
    "from dotenv import load_dotenv\n",
    "\n",
    "# API 키 정보 로드\n",
    "load_dotenv()"
   ]
  },
  {
   "cell_type": "code",
   "execution_count": 2,
   "metadata": {},
   "outputs": [
    {
     "name": "stdout",
     "output_type": "stream",
     "text": [
      "LangSmith 추적을 시작합니다.\n",
      "[프로젝트명]\n",
      "CH17-LangGraph\n"
     ]
    }
   ],
   "source": [
    "# LangSmith 추적을 설정합니다. https://smith.langchain.com\n",
    "# !pip install -qU langchain-teddynote\n",
    "from langchain_teddynote import logging\n",
    "\n",
    "# 프로젝트 이름을 입력합니다.\n",
    "logging.langsmith(\"CH17-LangGraph\")\n"
   ]
  },
  {
   "cell_type": "markdown",
   "metadata": {},
   "source": [
    "Step-by-Step 개념 이해하기!"
   ]
  },
  {
   "cell_type": "markdown",
   "metadata": {},
   "source": [
    "STEP 1. 상태(State) 정의"
   ]
  },
  {
   "cell_type": "code",
   "execution_count": 3,
   "metadata": {},
   "outputs": [],
   "source": [
    "from typing import Annotated, TypedDict\n",
    "from langgraph.graph import StateGraph, START, END\n",
    "from langgraph.graph.message import add_messages\n",
    "\n",
    "\n",
    "class State(TypedDict):\n",
    "    # 메시지 정의(list type 이며 add_messages 함수를 사용하여 메시지를 추가)\n",
    "    messages: Annotated[list, add_messages]\n"
   ]
  },
  {
   "cell_type": "markdown",
   "metadata": {},
   "source": [
    "STEP 2. 노드(Node) 정의\n",
    "- 다음으로 \"chatbot\" 노드를 추가합니다.\n",
    "- 노드는 작업의 단위를 나타내며, 일반적으로 정규 Python 함수입니다."
   ]
  },
  {
   "cell_type": "code",
   "execution_count": 11,
   "metadata": {},
   "outputs": [
    {
     "name": "stderr",
     "output_type": "stream",
     "text": [
      "/var/folders/5d/4yvbq7s16359fdr947szsx5h0000gn/T/ipykernel_29355/1255631509.py:5: LangChainDeprecationWarning: The class `ChatOllama` was deprecated in LangChain 0.3.1 and will be removed in 1.0.0. An updated version of the class exists in the :class:`~langchain-ollama package and should be used instead. To use it run `pip install -U :class:`~langchain-ollama` and import as `from :class:`~langchain_ollama import ChatOllama``.\n",
      "  llm = ChatOllama(model=\"gemma3:1b\")\n"
     ]
    }
   ],
   "source": [
    "from langchain_openai import ChatOpenAI\n",
    "from langchain_community.chat_models import ChatOllama\n",
    "\n",
    "# Ollama 모델을 불러옵니다.\n",
    "llm = ChatOllama(model=\"gemma3:1b\")\n",
    "\n",
    "# LLM 정의\n",
    "# llm = ChatOpenAI(\n",
    "#     api_key=\"ollama\",\n",
    "#     model=\"llama3.2:1b\",\n",
    "#     base_url=\"http://localhost:11434/v1\",\n",
    "# )\n",
    "\n",
    "\n",
    "# 챗봇 함수 정의\n",
    "def chatbot(state: State):\n",
    "    # 메시지 호출 및 반환\n",
    "    return {\"messages\": [llm.invoke(state[\"messages\"])]}\n"
   ]
  },
  {
   "cell_type": "markdown",
   "metadata": {},
   "source": [
    "STEP 3. 그래프(Graph) 정의, 노드 추가"
   ]
  },
  {
   "cell_type": "code",
   "execution_count": 12,
   "metadata": {},
   "outputs": [
    {
     "data": {
      "text/plain": [
       "<langgraph.graph.state.StateGraph at 0x10e528e90>"
      ]
     },
     "execution_count": 12,
     "metadata": {},
     "output_type": "execute_result"
    }
   ],
   "source": [
    "# 그래프 생성\n",
    "graph_builder = StateGraph(State)\n",
    "\n",
    "# 노드 이름, 함수 혹은 callable 객체를 인자로 받아 노드를 추가\n",
    "graph_builder.add_node(\"chatbot\", chatbot)\n"
   ]
  },
  {
   "cell_type": "markdown",
   "metadata": {},
   "source": [
    "STEP 4. 그래프 엣지(Edge) 추가\n",
    "- 다음으로, START 지점을 추가하세요. START는 그래프가 실행될 때마다 작업을 시작할 위치 입니다."
   ]
  },
  {
   "cell_type": "code",
   "execution_count": 13,
   "metadata": {},
   "outputs": [
    {
     "data": {
      "text/plain": [
       "<langgraph.graph.state.StateGraph at 0x10e528e90>"
      ]
     },
     "execution_count": 13,
     "metadata": {},
     "output_type": "execute_result"
    }
   ],
   "source": [
    "# 시작 노드에서 챗봇 노드로의 엣지 추가\n",
    "graph_builder.add_edge(START, \"chatbot\")"
   ]
  },
  {
   "cell_type": "markdown",
   "metadata": {},
   "source": [
    "마찬가지로, END 지점을 설정하십시오. 이는 그래프 흐름의 종료(끝지점) 를 나타냅니다."
   ]
  },
  {
   "cell_type": "code",
   "execution_count": 14,
   "metadata": {},
   "outputs": [
    {
     "data": {
      "text/plain": [
       "<langgraph.graph.state.StateGraph at 0x10e528e90>"
      ]
     },
     "execution_count": 14,
     "metadata": {},
     "output_type": "execute_result"
    }
   ],
   "source": [
    "# 그래프에 엣지 추가\n",
    "graph_builder.add_edge(\"chatbot\", END)"
   ]
  },
  {
   "cell_type": "markdown",
   "metadata": {},
   "source": [
    "STEP 5. 그래프 컴파일(compile)\n",
    "- 마지막으로, 그래프를 실행할 수 있어야 합니다. 이를 위해 그래프 빌더에서 \"compile()\"을 호출합니다. 이렇게 하면 상태에서 호출할 수 있는 \"CompiledGraph\"가 생성됩니다."
   ]
  },
  {
   "cell_type": "code",
   "execution_count": 15,
   "metadata": {},
   "outputs": [],
   "source": [
    "# 그래프 컴파일\n",
    "graph = graph_builder.compile()"
   ]
  },
  {
   "cell_type": "markdown",
   "metadata": {},
   "source": [
    "STEP 6. 그래프 시각화"
   ]
  },
  {
   "cell_type": "code",
   "execution_count": 16,
   "metadata": {},
   "outputs": [
    {
     "data": {
      "image/png": "[encoded data removed]",
      "text/plain": [
       "<IPython.core.display.Image object>"
      ]
     },
     "metadata": {},
     "output_type": "display_data"
    }
   ],
   "source": [
    "from langchain_teddynote.graphs import visualize_graph\n",
    "\n",
    "# 그래프 시각화\n",
    "visualize_graph(graph)\n"
   ]
  },
  {
   "cell_type": "markdown",
   "metadata": {},
   "source": [
    "STEP 7. 그래프 실행"
   ]
  },
  {
   "cell_type": "code",
   "execution_count": 17,
   "metadata": {},
   "outputs": [
    {
     "name": "stdout",
     "output_type": "stream",
     "text": [
      "Assistant: 서울의 유명 맛집 TOP 10을 추천해 드릴게요! 맛집은 개인 취향에 따라 다르니, 참고해서 즐겨보세요.\n",
      "\n",
      "**1. 뱅가이드 (뱅가이드 블로그)**\n",
      "\n",
      "*   **특징:** 서울의 숨겨진 맛집을 찾아주는 뱅가이드의 서울 맛집 추천은 서울의 다양한 음식과 분위기를 경험할 수 있는 최고의 방법입니다.\n",
      "*   **추천 메뉴:** 떡갈비, 닭갈비, 흑임자 떡볶이 등\n",
      "*   **링크:** [https://blog.bangvid.kr/best-hidden-restaurants-in-seoul/](https://blog.bangvid.kr/best-hidden-restaurants-in-seoul/)\n",
      "\n",
      "**2. 쌈지길**\n",
      "\n",
      "*   **특징:** 쌈 채소와 쌈밥으로 유명한 쌈지길은 낭만적인 분위기 속에서 즐기는 음식 맛집입니다.\n",
      "*   **추천 메뉴:** 쌈밥, 쌈무, 쌈장 등\n",
      "*   **링크:** [https://www.sambi.co.kr/](https://www.sambi.co.kr/)\n",
      "\n",
      "**3. 르완다**\n",
      "\n",
      "*   **특징:** 르완다는 쌀국수와 곁들임 요리가 유명한 곳입니다. 쌀국수의 풍미를 제대로 느낄 수 있는 곳입니다.\n",
      "*   **추천 메뉴:** 쌀국수, 꼬치구이, 샐러드 등\n",
      "*   **링크:** [https://www.lwanza.com/](https://www.lwanza.com/)\n",
      "\n",
      "**4. 갓 mark**\n",
      "\n",
      "*   **특징:** 갓 mark는 얇게 썬 고기를 튀겨서 곁들인 튀김 요리 전문점입니다.\n",
      "*   **추천 메뉴:** 튀김 들bait, 튀김 족발 등\n",
      "*   **링크:** [https://www.godmark.com/](https://www.godmark.com/)\n",
      "\n",
      "**5. 앤트맨**\n",
      "\n",
      "*   **특징:** 앤트맨은 닭갈비와 볶음밥을 맛볼 수 있는 곳입니다. 닭갈비의 매콤함과 볶음밥의 부드러움이 어우러져 있습니다.\n",
      "*   **추천 메뉴:** 닭갈비, 볶음밥, 닭갈비 볶음 등\n",
      "*   **링크:** [https://www.andman.co.kr/](https://www.andman.co.kr/)\n",
      "\n",
      "**6. 혜진김밥**\n",
      "\n",
      "*   **특징:** 혜진김밥은 100% 쌀국수를 사용하여 만든 김밥입니다. 밥맛이 좋고, 쫄깃한 쌀국수가 특징입니다.\n",
      "*   **추천 메뉴:** 혜진김밥, 혜진김밥 볶음밥 등\n",
      "*   **링크:** [https://www.hyebinkim.com/](https://www.hyebinkim.com/)\n",
      "\n",
      "**7. 몽탄**\n",
      "\n",
      "*   **특징:** 몽탄은 얇게 썬 고기를 튀겨서 겉은 바삭하고 속은 촉촉한 튀김 요리입니다.\n",
      "*   **추천 메뉴:** 몽탄, 몽탄 족발 등\n",
      "*   **링크:** [https://www.montan.com/](https://www.montan.com/)\n",
      "\n",
      "**8. 꼬마집**\n",
      "\n",
      "*   **특징:** 꼬마집은 100% 쌀국수를 사용하여 만든 김밥입니다. 밥맛이 좋고, 쫄깃한 쌀국수가 특징입니다.\n",
      "*   **추천 메뉴:** 꼬마집 김밥, 꼬마집 족발 등\n",
      "*   **링크:** [https://www.komaet.co.kr/](https://www.komaet.co.kr/)\n",
      "\n",
      "**9. 앤드류스**\n",
      "\n",
      "*   **특징:** 앤드류스는 100% 쌀국수를 사용하여 만든 김밥입니다. 밥맛이 좋고, 쫄깃한 쌀국수가 특징입니다.\n",
      "*   **추천 메뉴:** 앤드류스 김밥, 앤드류스 족발 등\n",
      "*   **링크:** [https://www.andrus.co.kr/](https://www.andrus.co.kr/)\n",
      "\n",
      "**10. 앤드류스 족발**\n",
      "\n",
      "*   **특징:** 앤드류스 족발은 100% 쌀국수를 사용하여 만든 족발입니다. 족발의 쫄깃한 식감과 쌀국수의 풍미가 어우러져 있습니다.\n",
      "*   **추천 메뉴:** 족발, 족발 볶음밥 등\n",
      "*   **링크:** [https://www.andrus.co.kr/](https://www.andrus.co.kr/)\n",
      "\n",
      "**팁:**\n",
      "\n",
      "*   **평점과 리뷰 확인:** 맛집 검색 시 평점과 리뷰를 꼼꼼히 확인하여 방문 전에 맛과 분위기를 미리 파악하는 것이 좋습니다.\n",
      "*   **메뉴 확인:** 각 맛집마다 특색 있는 메뉴가 있으니, 본인의 취향에 맞는 메뉴를 선택하세요.\n",
      "*   **예약:** 인기 맛집은 예약이 필수인 경우가 많으니, 미리 예약하는 것이 좋습니다.\n",
      "\n",
      "즐거운 서울 맛집 탐방 되세요!\n"
     ]
    }
   ],
   "source": [
    "question = \"서울의 유명한 맛집 TOP 10 추천해줘\"\n",
    "\n",
    "# 그래프 이벤트 스트리밍\n",
    "for event in graph.stream({\"messages\": [(\"user\", question)]}):\n",
    "    # 이벤트 값 출력\n",
    "    for value in event.values():\n",
    "        print(\"Assistant:\", value[\"messages\"][-1].content)\n"
   ]
  },
  {
   "cell_type": "code",
   "execution_count": null,
   "metadata": {},
   "outputs": [],
   "source": []
  }
 ],
 "metadata": {
  "kernelspec": {
   "display_name": "llm",
   "language": "python",
   "name": "python3"
  },
  "language_info": {
   "codemirror_mode": {
    "name": "ipython",
    "version": 3
   },
   "file_extension": ".py",
   "mimetype": "text/x-python",
   "name": "python",
   "nbconvert_exporter": "python",
   "pygments_lexer": "ipython3",
   "version": "3.11.11"
  }
 },
 "nbformat": 4,
 "nbformat_minor": 2
}
