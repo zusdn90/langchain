{
 "cells": [
  {
   "cell_type": "markdown",
   "metadata": {},
   "source": [
    "에이전트는 신뢰할 수 없으며 작업을 성공적으로 수행하기 위해 인간의 입력이 필요할 수 있습니다.\n",
    "\n",
    "마찬가지로, 일부 작업에 대해서는 모든 것이 의도한 대로 실행되고 있는지 확인하기 위해 실행 전에 사람이 직접 개입하여 \"승인\" 을 요구하고 싶을 수 있습니다.\n",
    "\n",
    "LangGraph는 여러 가지 방법으로 human-in-the-loop 워크플로를 지원합니다.\n",
    "\n",
    "이번 튜토리얼의 시작은 LangGraph의 interrupt_before 기능을 사용하여 항상 도구 노드를 중단하도록 하겠습니다.\n",
    "\n"
   ]
  },
  {
   "cell_type": "code",
   "execution_count": 1,
   "metadata": {},
   "outputs": [
    {
     "data": {
      "text/plain": [
       "True"
      ]
     },
     "execution_count": 1,
     "metadata": {},
     "output_type": "execute_result"
    }
   ],
   "source": [
    "# API 키를 환경변수로 관리하기 위한 설정 파일\n",
    "from dotenv import load_dotenv\n",
    "\n",
    "# API 키 정보 로드\n",
    "load_dotenv()\n"
   ]
  },
  {
   "cell_type": "code",
   "execution_count": 2,
   "metadata": {},
   "outputs": [
    {
     "name": "stdout",
     "output_type": "stream",
     "text": [
      "LangSmith 추적을 시작합니다.\n",
      "[프로젝트명]\n",
      "CH17-LangGraph-Modules\n"
     ]
    }
   ],
   "source": [
    "# LangSmith 추적을 설정합니다. https://smith.langchain.com\n",
    "# !pip install -qU langchain-teddynote\n",
    "from langchain_teddynote import logging\n",
    "\n",
    "# 프로젝트 이름을 입력합니다.\n",
    "logging.langsmith(\"CH17-LangGraph-Modules\")"
   ]
  },
  {
   "cell_type": "code",
   "execution_count": 3,
   "metadata": {},
   "outputs": [],
   "source": [
    "from typing import Annotated, List, Dict\n",
    "from typing_extensions import TypedDict\n",
    "\n",
    "from langchain_core.tools import tool\n",
    "from langchain_openai import ChatOpenAI\n",
    "from langgraph.checkpoint.memory import MemorySaver\n",
    "from langgraph.graph import StateGraph, START, END\n",
    "from langgraph.graph.message import add_messages\n",
    "from langgraph.prebuilt import ToolNode, tools_condition\n",
    "from langchain_teddynote.graphs import visualize_graph\n",
    "from langchain_teddynote.tools import GoogleNews\n",
    "\n",
    "\n",
    "########## 1. 상태 정의 ##########\n",
    "# 상태 정의\n",
    "class State(TypedDict):\n",
    "    # 메시지 목록 주석 추가\n",
    "    messages: Annotated[list, add_messages]\n",
    "\n",
    "\n",
    "########## 2. 도구 정의 및 바인딩 ##########\n",
    "# 도구 초기화\n",
    "# 키워드로 뉴스 검색하는 도구 생성\n",
    "news_tool = GoogleNews()\n",
    "\n",
    "\n",
    "@tool\n",
    "def search_keyword(query: str) -> List[Dict[str, str]]:\n",
    "    \"\"\"Look up news by keyword\"\"\"\n",
    "    news_tool = GoogleNews()\n",
    "    return news_tool.search_by_keyword(query, k=5)\n",
    "\n",
    "\n",
    "tools = [search_keyword]\n",
    "\n",
    "# LLM 초기화\n",
    "llm = ChatOpenAI(\n",
    "            api_key=\"ollama\",\n",
    "            model=\"llama3.2:1b\",\n",
    "            base_url=\"http://localhost:11434/v1\",\n",
    "            temperature=0,\n",
    "        )\n",
    "\n",
    "# 도구와 LLM 결합\n",
    "llm_with_tools = llm.bind_tools(tools)\n",
    "\n",
    "\n",
    "########## 3. 노드 추가 ##########\n",
    "# 챗봇 함수 정의\n",
    "def chatbot(state: State):\n",
    "    # 메시지 호출 및 반환\n",
    "    return {\"messages\": [llm_with_tools.invoke(state[\"messages\"])]}\n",
    "\n",
    "\n",
    "# 상태 그래프 생성\n",
    "graph_builder = StateGraph(State)\n",
    "\n",
    "# 챗봇 노드 추가\n",
    "graph_builder.add_node(\"chatbot\", chatbot)\n",
    "\n",
    "\n",
    "# 도구 노드 생성 및 추가\n",
    "tool_node = ToolNode(tools=tools)\n",
    "\n",
    "# 도구 노드 추가\n",
    "graph_builder.add_node(\"tools\", tool_node)\n",
    "\n",
    "# 조건부 엣지\n",
    "graph_builder.add_conditional_edges(\n",
    "    \"chatbot\",\n",
    "    tools_condition,\n",
    ")\n",
    "\n",
    "########## 4. 엣지 추가 ##########\n",
    "\n",
    "# tools > chatbot\n",
    "graph_builder.add_edge(\"tools\", \"chatbot\")\n",
    "\n",
    "# START > chatbot\n",
    "graph_builder.add_edge(START, \"chatbot\")\n",
    "\n",
    "# chatbot > END\n",
    "graph_builder.add_edge(\"chatbot\", END)\n",
    "\n",
    "########## 5. MemorySaver 추가 ##########\n",
    "\n",
    "# 메모리 저장소 초기화\n",
    "memory = MemorySaver()\n"
   ]
  },
  {
   "cell_type": "code",
   "execution_count": 4,
   "metadata": {},
   "outputs": [],
   "source": [
    "########## 6. interrupt_before 추가 ##########\n",
    "\n",
    "# 그래프 빌더 컴파일\n",
    "graph = graph_builder.compile(checkpointer=memory)"
   ]
  },
  {
   "cell_type": "code",
   "execution_count": 5,
   "metadata": {},
   "outputs": [
    {
     "data": {
      "image/png": "[encoded data removed]",
      "text/plain": [
       "<IPython.core.display.Image object>"
      ]
     },
     "metadata": {},
     "output_type": "display_data"
    }
   ],
   "source": [
    "########## 7. 그래프 시각화 ##########\n",
    "# 그래프 시각화\n",
    "visualize_graph(graph)"
   ]
  },
  {
   "cell_type": "code",
   "execution_count": 6,
   "metadata": {},
   "outputs": [
    {
     "name": "stdout",
     "output_type": "stream",
     "text": [
      "\n",
      "[messages]\n",
      "\n",
      "================================\u001b[1m Human Message \u001b[0m=================================\n",
      "\n",
      "AI 관련 최신 뉴스를 알려주세요.\n",
      "\n",
      "[messages]\n",
      "\n",
      "================================\u001b[1m Human Message \u001b[0m=================================\n",
      "\n",
      "AI 관련 최신 뉴스를 알려주세요.\n",
      "==================================\u001b[1m Ai Message \u001b[0m==================================\n",
      "Tool Calls:\n",
      "  search_keyword (call_2rsh42fz)\n",
      " Call ID: call_2rsh42fz\n",
      "  Args:\n",
      "    query: AI\n"
     ]
    }
   ],
   "source": [
    "from langchain_teddynote.messages import pretty_print_messages\n",
    "from langchain_core.runnables import RunnableConfig\n",
    "\n",
    "# 질문\n",
    "question = \"AI 관련 최신 뉴스를 알려주세요.\"\n",
    "\n",
    "# 초기 입력 State 를 정의\n",
    "input = State(messages=[(\"user\", question)])\n",
    "\n",
    "# config 설정\n",
    "config = RunnableConfig(\n",
    "    recursion_limit=10,  # 최대 10개의 노드까지 방문. 그 이상은 RecursionError 발생\n",
    "    configurable={\"thread_id\": \"1\"},  # 스레드 ID 설정\n",
    "    tags=[\"my-rag\"],  # Tag\n",
    ")\n",
    "\n",
    "for event in graph.stream(\n",
    "    input=input,\n",
    "    config=config,\n",
    "    stream_mode=\"values\",\n",
    "    interrupt_before=[\"tools\"],  # tools 실행 전 interrupt(tools 노드 실행 전 중단)\n",
    "):\n",
    "    for key, value in event.items():\n",
    "        # key 는 노드 이름\n",
    "        print(f\"\\n[{key}]\\n\")\n",
    "\n",
    "        # value 는 노드의 출력값\n",
    "        # print(value)\n",
    "        pretty_print_messages(value)\n",
    "\n",
    "        # value 에는 state 가 dict 형태로 저장(values 의 key 값)\n",
    "        if \"messages\" in value:\n",
    "            print(f\"메시지 개수: {len(value['messages'])}\")\n"
   ]
  },
  {
   "cell_type": "code",
   "execution_count": 7,
   "metadata": {},
   "outputs": [
    {
     "data": {
      "text/plain": [
       "('tools',)"
      ]
     },
     "execution_count": 7,
     "metadata": {},
     "output_type": "execute_result"
    }
   ],
   "source": [
    "# 그래프 상태 스냅샷 생성\n",
    "snapshot = graph.get_state(config)\n",
    "\n",
    "# 다음 스냅샷 상태\n",
    "snapshot.next\n"
   ]
  },
  {
   "cell_type": "code",
   "execution_count": 8,
   "metadata": {},
   "outputs": [
    {
     "name": "stdout",
     "output_type": "stream",
     "text": [
      "    \u001b[96mindex [0]\u001b[0m\n",
      "        \u001b[94mname\u001b[0m: \"search_keyword\"\n",
      "        \u001b[94margs\u001b[0m: {\"query\": \"AI\"}\n",
      "        \u001b[94mid\u001b[0m: \"call_2rsh42fz\"\n",
      "        \u001b[94mtype\u001b[0m: \"tool_call\"\n"
     ]
    }
   ],
   "source": [
    "from langchain_teddynote.messages import display_message_tree\n",
    "\n",
    "# 메시지 스냅샷에서 마지막 메시지 추출\n",
    "existing_message = snapshot.values[\"messages\"][-1]\n",
    "\n",
    "# 메시지 트리 표시\n",
    "display_message_tree(existing_message.tool_calls)"
   ]
  },
  {
   "cell_type": "code",
   "execution_count": 9,
   "metadata": {},
   "outputs": [
    {
     "name": "stdout",
     "output_type": "stream",
     "text": [
      "==================================\u001b[1m Ai Message \u001b[0m==================================\n",
      "Tool Calls:\n",
      "  search_keyword (call_2rsh42fz)\n",
      " Call ID: call_2rsh42fz\n",
      "  Args:\n",
      "    query: AI\n",
      "=================================\u001b[1m Tool Message \u001b[0m=================================\n",
      "Name: search_keyword\n",
      "\n",
      "[{\"url\": \"https://news.google.com/rss/articles/CBMic0FVX3lxTE0wRERSckowMWh2cVYzSEwwNlFWUEpITlVMTkRZRDZNWDN5OU5rR0hJdVF1YXkzZVNpN0JLaWRRR20zZjhiZ1JCSXdDN2ZTQ252eHlwSXhNbFI2VHE2Q25ZeldaZXJPZEVlcnFyQzFTeVZ5NzQ?oc=5\", \"content\": \"AI, 연구 논문 이해할 수 있을까…오픈AI '페이퍼벤치' 공개 - 디지털투데이\"}, {\"url\": \"https://news.google.com/rss/articles/CBMiVkFVX3lxTE5VR3BRR3FZbnotNEtqMWpTS3pRMm5fdGY3bU1UTjNRa1FERVl0U25peEdWOWpPY0RSV2l4RldEdUJ4cWhYWGw1Z0doWERxN0RmNW92VHVR?oc=5\", \"content\": \"[AI는 지금] 中 딥시크 파장 컸나…폐쇄형 고집하던 오픈AI, '오픈소스 모델' 출시 - 지디넷코리아\"}, {\"url\": \"https://news.google.com/rss/articles/CBMiakFVX3lxTE11T2x5cnRaQmJMZWxZU19HdUhtVkFmeV8wMUxjQk5ubWJpSzAzRmhjejY1N28ydDh4eS1xcjF4YWs1VEltQTBUR3duLXliUUkxRHdpZDVYWnVmc1pCWU10bDdfSTREWERlOWc?oc=5\", \"content\": \"오픈AI, 'ML 논문 실행'으로 AI 평가하는 벤치마크 출시...\\\"인간은 41% 기록\\\" - AI타임스\"}, {\"url\": \"https://news.google.com/rss/articles/CBMiU0FVX3lxTE83R2hNTFlFdzRMbExhNWhMWVd3Z2JtbmJYV3lpRGphNUZ0dzczZVhCZVNSbjNydG95dzNaeVdzU0duZjJ1OWtFSnNzRmdPc1oybjBV?oc=5\", \"content\": \"챗GPT '지브리 열풍'에 日 \\\"화풍은 아이디어…AI 저작권 침해 아니다\\\" - 네이트 뉴스\"}, {\"url\": \"https://news.google.com/rss/articles/CBMiW0FVX3lxTE1VbFJwaElYb3E2T0hrV0t6Rlh4WHFTcVdrWEdQcFdaUV8wVXZxOUtrNDdhMHU4aE5rOHI2SnpjZ3FvMDJ0clFUSk1EX1hQYkpfX2tKckJvXzVuQXfSAWBBVV95cUxPUndxSnNmbm9yTDZ0TlpJNk84MlgwWGJkRHRIWUhtS1QtcVFZV3IwYnVQdVc0UDlSVW9lRDVJdi03Vy1nNTd4QU93LWxyblFPdFBuNEJZaDMybkpXajBpb2w?oc=5\", \"content\": \"오픈AI, 챗GPT 가입자 5억명 돌파…3개월만에 30% 이상 늘어 - 연합뉴스\"}]\n",
      "==================================\u001b[1m Ai Message \u001b[0m==================================\n",
      "\n",
      " latest 뉴스 về AI:\n",
      "\n",
      "* 오픈AI '페이퍼벤치'는 디지털투데이에서 발표되었으며, 연구 논문 이해할 수 있을까 nói고 있습니다.\n",
      "* 오픈AI, '오픈소스 모델' 출시했으며, 중 딥시크 파장 컸나... 폐쇄형 고집하던 오픈AI, '오픈소스 모델' 출시했습니다. (지디넷코리아)\n",
      "* 오픈AI, 'ML 논문executer'으로 AI 평가하는 벤치마크 출시... \"인간은 41% 기록\" said AI타임스.\n",
      "* 챗GPT '지브리 열풍'에 day \"화풍은 아이디어…AI 저작권 침해 아니다\" said 네이트 뉴스.\n",
      "* 오픈AI, 챗GPT 가입자 5억명 돌파...3개월만에 30% 이상 늘어 said 연합뉴스.\n"
     ]
    }
   ],
   "source": [
    "# `None`는 현재 상태에 아무것도 추가하지 않음\n",
    "events = graph.stream(None, config, stream_mode=\"values\")\n",
    "\n",
    "# 이벤트 반복 처리\n",
    "for event in events:\n",
    "    # 메시지가 이벤트에 포함된 경우\n",
    "    if \"messages\" in event:\n",
    "        # 마지막 메시지의 예쁜 출력\n",
    "        event[\"messages\"][-1].pretty_print()\n"
   ]
  },
  {
   "cell_type": "code",
   "execution_count": 10,
   "metadata": {},
   "outputs": [
    {
     "name": "stdout",
     "output_type": "stream",
     "text": [
      "메시지 수:  4 다음 노드:  ()\n",
      "--------------------------------------------------------------------------------\n",
      "메시지 수:  3 다음 노드:  ('chatbot',)\n",
      "--------------------------------------------------------------------------------\n",
      "메시지 수:  2 다음 노드:  ('tools',)\n",
      "--------------------------------------------------------------------------------\n",
      "메시지 수:  1 다음 노드:  ('chatbot',)\n",
      "--------------------------------------------------------------------------------\n",
      "메시지 수:  0 다음 노드:  ('__start__',)\n",
      "--------------------------------------------------------------------------------\n"
     ]
    }
   ],
   "source": [
    "to_replay = None\n",
    "\n",
    "# 상태 기록 가져오기\n",
    "for state in graph.get_state_history(config):\n",
    "    # 메시지 수 및 다음 상태 출력\n",
    "    print(\"메시지 수: \", len(state.values[\"messages\"]), \"다음 노드: \", state.next)\n",
    "    print(\"-\" * 80)\n",
    "    # 특정 상태 선택 기준: 채팅 메시지 수\n",
    "    if len(state.values[\"messages\"]) == 3:\n",
    "        to_replay = state\n"
   ]
  },
  {
   "cell_type": "code",
   "execution_count": 11,
   "metadata": {},
   "outputs": [
    {
     "name": "stdout",
     "output_type": "stream",
     "text": [
      "('chatbot',)\n",
      "{'configurable': {'thread_id': '1', 'checkpoint_ns': '', 'checkpoint_id': '1f010926-82d3-6726-8002-dd4f360491ff'}}\n"
     ]
    }
   ],
   "source": [
    "# 다음 항목의 다음 요소 출력\n",
    "print(to_replay.next)\n",
    "\n",
    "# 다음 항목의 설정 정보 출력\n",
    "print(to_replay.config)"
   ]
  },
  {
   "cell_type": "code",
   "execution_count": 12,
   "metadata": {},
   "outputs": [
    {
     "data": {
      "text/plain": [
       "{'configurable': {'thread_id': '1',\n",
       "  'checkpoint_ns': '',\n",
       "  'checkpoint_id': '1f010926-82d3-6726-8002-dd4f360491ff'}}"
      ]
     },
     "execution_count": 12,
     "metadata": {},
     "output_type": "execute_result"
    }
   ],
   "source": [
    "to_replay.config"
   ]
  },
  {
   "cell_type": "code",
   "execution_count": 13,
   "metadata": {},
   "outputs": [
    {
     "name": "stdout",
     "output_type": "stream",
     "text": [
      "=================================\u001b[1m Tool Message \u001b[0m=================================\n",
      "Name: search_keyword\n",
      "\n",
      "[{\"url\": \"https://news.google.com/rss/articles/CBMic0FVX3lxTE0wRERSckowMWh2cVYzSEwwNlFWUEpITlVMTkRZRDZNWDN5OU5rR0hJdVF1YXkzZVNpN0JLaWRRR20zZjhiZ1JCSXdDN2ZTQ252eHlwSXhNbFI2VHE2Q25ZeldaZXJPZEVlcnFyQzFTeVZ5NzQ?oc=5\", \"content\": \"AI, 연구 논문 이해할 수 있을까…오픈AI '페이퍼벤치' 공개 - 디지털투데이\"}, {\"url\": \"https://news.google.com/rss/articles/CBMiVkFVX3lxTE5VR3BRR3FZbnotNEtqMWpTS3pRMm5fdGY3bU1UTjNRa1FERVl0U25peEdWOWpPY0RSV2l4RldEdUJ4cWhYWGw1Z0doWERxN0RmNW92VHVR?oc=5\", \"content\": \"[AI는 지금] 中 딥시크 파장 컸나…폐쇄형 고집하던 오픈AI, '오픈소스 모델' 출시 - 지디넷코리아\"}, {\"url\": \"https://news.google.com/rss/articles/CBMiakFVX3lxTE11T2x5cnRaQmJMZWxZU19HdUhtVkFmeV8wMUxjQk5ubWJpSzAzRmhjejY1N28ydDh4eS1xcjF4YWs1VEltQTBUR3duLXliUUkxRHdpZDVYWnVmc1pCWU10bDdfSTREWERlOWc?oc=5\", \"content\": \"오픈AI, 'ML 논문 실행'으로 AI 평가하는 벤치마크 출시...\\\"인간은 41% 기록\\\" - AI타임스\"}, {\"url\": \"https://news.google.com/rss/articles/CBMiU0FVX3lxTE83R2hNTFlFdzRMbExhNWhMWVd3Z2JtbmJYV3lpRGphNUZ0dzczZVhCZVNSbjNydG95dzNaeVdzU0duZjJ1OWtFSnNzRmdPc1oybjBV?oc=5\", \"content\": \"챗GPT '지브리 열풍'에 日 \\\"화풍은 아이디어…AI 저작권 침해 아니다\\\" - 네이트 뉴스\"}, {\"url\": \"https://news.google.com/rss/articles/CBMiW0FVX3lxTE1VbFJwaElYb3E2T0hrV0t6Rlh4WHFTcVdrWEdQcFdaUV8wVXZxOUtrNDdhMHU4aE5rOHI2SnpjZ3FvMDJ0clFUSk1EX1hQYkpfX2tKckJvXzVuQXfSAWBBVV95cUxPUndxSnNmbm9yTDZ0TlpJNk84MlgwWGJkRHRIWUhtS1QtcVFZV3IwYnVQdVc0UDlSVW9lRDVJdi03Vy1nNTd4QU93LWxyblFPdFBuNEJZaDMybkpXajBpb2w?oc=5\", \"content\": \"오픈AI, 챗GPT 가입자 5억명 돌파…3개월만에 30% 이상 늘어 - 연합뉴스\"}]\n",
      "==================================\u001b[1m Ai Message \u001b[0m==================================\n",
      "\n",
      " latest 뉴스 중 하나는 \"오픈AI '페이퍼벤치' 공개\"라는 제목의 뉴스 article가 있습니다. 이 article에서 오픈AI '페이퍼벤치'라는 이름의 새로운 AI 모델이 출시되었습니다. 이 모델은 현재 연구 논문에 이해할 수 있을까 कहन的是, 오픈AI는 지금까지의 AI 모델과 다르게 연구 논문에 이해할 수 있을까 कहन다는 의미입니다.\n",
      "\n",
      "또한, 오픈AI '오픈소스 모델' 출시라는 제목의 뉴스 article도 있습니다. 이 모델은 현재 오픈소스 모델로 출시되었습니다. 오픈소스 모델은 anyone가 사용할 수 있는 AI 모델이기 때문에, 오픈AI가 출시된다는 의미입니다.\n",
      "\n",
      "이 두 가지 뉴스는 AI 관련 최신 뉴스를 제공합니다.\n"
     ]
    }
   ],
   "source": [
    "# `to_replay.config`는 `checkpoint_id`는 체크포인터에 저장된 상태에 해당\n",
    "for event in graph.stream(None, to_replay.config, stream_mode=\"values\"):\n",
    "    # 메시지가 이벤트에 포함된 경우\n",
    "    if \"messages\" in event:\n",
    "        # 마지막 메시지 출력\n",
    "        event[\"messages\"][-1].pretty_print()"
   ]
  },
  {
   "cell_type": "code",
   "execution_count": null,
   "metadata": {},
   "outputs": [],
   "source": []
  }
 ],
 "metadata": {
  "kernelspec": {
   "display_name": "llm",
   "language": "python",
   "name": "python3"
  },
  "language_info": {
   "codemirror_mode": {
    "name": "ipython",
    "version": 3
   },
   "file_extension": ".py",
   "mimetype": "text/x-python",
   "name": "python",
   "nbconvert_exporter": "python",
   "pygments_lexer": "ipython3",
   "version": "3.11.11"
  }
 },
 "nbformat": 4,
 "nbformat_minor": 2
}
