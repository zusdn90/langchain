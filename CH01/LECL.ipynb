{
 "cells": [
  {
   "cell_type": "code",
   "execution_count": 3,
   "metadata": {},
   "outputs": [
    {
     "name": "stdout",
     "output_type": "stream",
     "text": [
      "Requirement already satisfied: langchain in /Users/hyunoozzing/.pyenv/versions/3.11.11/envs/llm/lib/python3.11/site-packages (0.3.19)\n",
      "Collecting langchain\n",
      "  Downloading langchain-0.3.21-py3-none-any.whl.metadata (7.8 kB)\n",
      "Collecting langchain-openai\n",
      "  Downloading langchain_openai-0.3.9-py3-none-any.whl.metadata (2.3 kB)\n",
      "Collecting langchain-core<1.0.0,>=0.3.45 (from langchain)\n",
      "  Downloading langchain_core-0.3.47-py3-none-any.whl.metadata (5.9 kB)\n",
      "Collecting langchain-text-splitters<1.0.0,>=0.3.7 (from langchain)\n",
      "  Downloading langchain_text_splitters-0.3.7-py3-none-any.whl.metadata (1.9 kB)\n",
      "Requirement already satisfied: langsmith<0.4,>=0.1.17 in /Users/hyunoozzing/.pyenv/versions/3.11.11/envs/llm/lib/python3.11/site-packages (from langchain) (0.3.11)\n",
      "Requirement already satisfied: pydantic<3.0.0,>=2.7.4 in /Users/hyunoozzing/.pyenv/versions/3.11.11/envs/llm/lib/python3.11/site-packages (from langchain) (2.10.6)\n",
      "Requirement already satisfied: SQLAlchemy<3,>=1.4 in /Users/hyunoozzing/.pyenv/versions/3.11.11/envs/llm/lib/python3.11/site-packages (from langchain) (2.0.38)\n",
      "Requirement already satisfied: requests<3,>=2 in /Users/hyunoozzing/.pyenv/versions/3.11.11/envs/llm/lib/python3.11/site-packages (from langchain) (2.32.3)\n",
      "Requirement already satisfied: PyYAML>=5.3 in /Users/hyunoozzing/.pyenv/versions/3.11.11/envs/llm/lib/python3.11/site-packages (from langchain) (6.0.2)\n",
      "Collecting openai<2.0.0,>=1.66.3 (from langchain-openai)\n",
      "  Downloading openai-1.68.2-py3-none-any.whl.metadata (25 kB)\n",
      "Requirement already satisfied: tiktoken<1,>=0.7 in /Users/hyunoozzing/.pyenv/versions/3.11.11/envs/llm/lib/python3.11/site-packages (from langchain-openai) (0.9.0)\n",
      "Requirement already satisfied: tenacity!=8.4.0,<10.0.0,>=8.1.0 in /Users/hyunoozzing/.pyenv/versions/3.11.11/envs/llm/lib/python3.11/site-packages (from langchain-core<1.0.0,>=0.3.45->langchain) (9.0.0)\n",
      "Requirement already satisfied: jsonpatch<2.0,>=1.33 in /Users/hyunoozzing/.pyenv/versions/3.11.11/envs/llm/lib/python3.11/site-packages (from langchain-core<1.0.0,>=0.3.45->langchain) (1.33)\n",
      "Requirement already satisfied: packaging<25,>=23.2 in /Users/hyunoozzing/.pyenv/versions/3.11.11/envs/llm/lib/python3.11/site-packages (from langchain-core<1.0.0,>=0.3.45->langchain) (23.2)\n",
      "Requirement already satisfied: typing-extensions>=4.7 in /Users/hyunoozzing/.pyenv/versions/3.11.11/envs/llm/lib/python3.11/site-packages (from langchain-core<1.0.0,>=0.3.45->langchain) (4.12.2)\n",
      "Requirement already satisfied: httpx<1,>=0.23.0 in /Users/hyunoozzing/.pyenv/versions/3.11.11/envs/llm/lib/python3.11/site-packages (from langsmith<0.4,>=0.1.17->langchain) (0.28.1)\n",
      "Requirement already satisfied: orjson<4.0.0,>=3.9.14 in /Users/hyunoozzing/.pyenv/versions/3.11.11/envs/llm/lib/python3.11/site-packages (from langsmith<0.4,>=0.1.17->langchain) (3.10.15)\n",
      "Requirement already satisfied: requests-toolbelt<2.0.0,>=1.0.0 in /Users/hyunoozzing/.pyenv/versions/3.11.11/envs/llm/lib/python3.11/site-packages (from langsmith<0.4,>=0.1.17->langchain) (1.0.0)\n",
      "Requirement already satisfied: zstandard<0.24.0,>=0.23.0 in /Users/hyunoozzing/.pyenv/versions/3.11.11/envs/llm/lib/python3.11/site-packages (from langsmith<0.4,>=0.1.17->langchain) (0.23.0)\n",
      "Requirement already satisfied: anyio<5,>=3.5.0 in /Users/hyunoozzing/.pyenv/versions/3.11.11/envs/llm/lib/python3.11/site-packages (from openai<2.0.0,>=1.66.3->langchain-openai) (4.8.0)\n",
      "Requirement already satisfied: distro<2,>=1.7.0 in /Users/hyunoozzing/.pyenv/versions/3.11.11/envs/llm/lib/python3.11/site-packages (from openai<2.0.0,>=1.66.3->langchain-openai) (1.9.0)\n",
      "Requirement already satisfied: jiter<1,>=0.4.0 in /Users/hyunoozzing/.pyenv/versions/3.11.11/envs/llm/lib/python3.11/site-packages (from openai<2.0.0,>=1.66.3->langchain-openai) (0.8.2)\n",
      "Requirement already satisfied: sniffio in /Users/hyunoozzing/.pyenv/versions/3.11.11/envs/llm/lib/python3.11/site-packages (from openai<2.0.0,>=1.66.3->langchain-openai) (1.3.1)\n",
      "Requirement already satisfied: tqdm>4 in /Users/hyunoozzing/.pyenv/versions/3.11.11/envs/llm/lib/python3.11/site-packages (from openai<2.0.0,>=1.66.3->langchain-openai) (4.67.1)\n",
      "Requirement already satisfied: annotated-types>=0.6.0 in /Users/hyunoozzing/.pyenv/versions/3.11.11/envs/llm/lib/python3.11/site-packages (from pydantic<3.0.0,>=2.7.4->langchain) (0.7.0)\n",
      "Requirement already satisfied: pydantic-core==2.27.2 in /Users/hyunoozzing/.pyenv/versions/3.11.11/envs/llm/lib/python3.11/site-packages (from pydantic<3.0.0,>=2.7.4->langchain) (2.27.2)\n",
      "Requirement already satisfied: charset-normalizer<4,>=2 in /Users/hyunoozzing/.pyenv/versions/3.11.11/envs/llm/lib/python3.11/site-packages (from requests<3,>=2->langchain) (3.4.1)\n",
      "Requirement already satisfied: idna<4,>=2.5 in /Users/hyunoozzing/.pyenv/versions/3.11.11/envs/llm/lib/python3.11/site-packages (from requests<3,>=2->langchain) (3.10)\n",
      "Requirement already satisfied: urllib3<3,>=1.21.1 in /Users/hyunoozzing/.pyenv/versions/3.11.11/envs/llm/lib/python3.11/site-packages (from requests<3,>=2->langchain) (2.3.0)\n",
      "Requirement already satisfied: certifi>=2017.4.17 in /Users/hyunoozzing/.pyenv/versions/3.11.11/envs/llm/lib/python3.11/site-packages (from requests<3,>=2->langchain) (2025.1.31)\n",
      "Requirement already satisfied: regex>=2022.1.18 in /Users/hyunoozzing/.pyenv/versions/3.11.11/envs/llm/lib/python3.11/site-packages (from tiktoken<1,>=0.7->langchain-openai) (2024.11.6)\n",
      "Requirement already satisfied: httpcore==1.* in /Users/hyunoozzing/.pyenv/versions/3.11.11/envs/llm/lib/python3.11/site-packages (from httpx<1,>=0.23.0->langsmith<0.4,>=0.1.17->langchain) (1.0.7)\n",
      "Requirement already satisfied: h11<0.15,>=0.13 in /Users/hyunoozzing/.pyenv/versions/3.11.11/envs/llm/lib/python3.11/site-packages (from httpcore==1.*->httpx<1,>=0.23.0->langsmith<0.4,>=0.1.17->langchain) (0.14.0)\n",
      "Requirement already satisfied: jsonpointer>=1.9 in /Users/hyunoozzing/.pyenv/versions/3.11.11/envs/llm/lib/python3.11/site-packages (from jsonpatch<2.0,>=1.33->langchain-core<1.0.0,>=0.3.45->langchain) (3.0.0)\n",
      "Downloading langchain-0.3.21-py3-none-any.whl (1.0 MB)\n",
      "\u001b[2K   \u001b[90m━━━━━━━━━━━━━━━━━━━━━━━━━━━━━━━━━━━━━━━━\u001b[0m \u001b[32m1.0/1.0 MB\u001b[0m \u001b[31m8.2 MB/s\u001b[0m eta \u001b[36m0:00:00\u001b[0ma \u001b[36m0:00:01\u001b[0m\n",
      "\u001b[?25hDownloading langchain_openai-0.3.9-py3-none-any.whl (60 kB)\n",
      "\u001b[2K   \u001b[90m━━━━━━━━━━━━━━━━━━━━━━━━━━━━━━━━━━━━━━━━\u001b[0m \u001b[32m60.9/60.9 kB\u001b[0m \u001b[31m5.0 MB/s\u001b[0m eta \u001b[36m0:00:00\u001b[0m\n",
      "\u001b[?25hDownloading langchain_core-0.3.47-py3-none-any.whl (417 kB)\n",
      "\u001b[2K   \u001b[90m━━━━━━━━━━━━━━━━━━━━━━━━━━━━━━━━━━━━━━━━\u001b[0m \u001b[32m417.1/417.1 kB\u001b[0m \u001b[31m8.8 MB/s\u001b[0m eta \u001b[36m0:00:00\u001b[0ma \u001b[36m0:00:01\u001b[0m\n",
      "\u001b[?25hDownloading langchain_text_splitters-0.3.7-py3-none-any.whl (32 kB)\n",
      "Downloading openai-1.68.2-py3-none-any.whl (606 kB)\n",
      "\u001b[2K   \u001b[90m━━━━━━━━━━━━━━━━━━━━━━━━━━━━━━━━━━━━━━━━\u001b[0m \u001b[32m606.1/606.1 kB\u001b[0m \u001b[31m8.4 MB/s\u001b[0m eta \u001b[36m0:00:00\u001b[0ma \u001b[36m0:00:01\u001b[0m\n",
      "\u001b[?25hInstalling collected packages: openai, langchain-core, langchain-text-splitters, langchain-openai, langchain\n",
      "  Attempting uninstall: openai\n",
      "    Found existing installation: openai 1.65.4\n",
      "    Uninstalling openai-1.65.4:\n",
      "      Successfully uninstalled openai-1.65.4\n",
      "  Attempting uninstall: langchain-core\n",
      "    Found existing installation: langchain-core 0.3.41\n",
      "    Uninstalling langchain-core-0.3.41:\n",
      "      Successfully uninstalled langchain-core-0.3.41\n",
      "  Attempting uninstall: langchain-text-splitters\n",
      "    Found existing installation: langchain-text-splitters 0.3.6\n",
      "    Uninstalling langchain-text-splitters-0.3.6:\n",
      "      Successfully uninstalled langchain-text-splitters-0.3.6\n",
      "  Attempting uninstall: langchain\n",
      "    Found existing installation: langchain 0.3.19\n",
      "    Uninstalling langchain-0.3.19:\n",
      "      Successfully uninstalled langchain-0.3.19\n",
      "\u001b[31mERROR: pip's dependency resolver does not currently take into account all the packages that are installed. This behaviour is the source of the following dependency conflicts.\n",
      "open-webui 0.5.20 requires langchain==0.3.19, but you have langchain 0.3.21 which is incompatible.\u001b[0m\u001b[31m\n",
      "\u001b[0mSuccessfully installed langchain-0.3.21 langchain-core-0.3.47 langchain-openai-0.3.9 langchain-text-splitters-0.3.7 openai-1.68.2\n",
      "\n",
      "\u001b[1m[\u001b[0m\u001b[34;49mnotice\u001b[0m\u001b[1;39;49m]\u001b[0m\u001b[39;49m A new release of pip is available: \u001b[0m\u001b[31;49m24.0\u001b[0m\u001b[39;49m -> \u001b[0m\u001b[32;49m25.0.1\u001b[0m\n",
      "\u001b[1m[\u001b[0m\u001b[34;49mnotice\u001b[0m\u001b[1;39;49m]\u001b[0m\u001b[39;49m To update, run: \u001b[0m\u001b[32;49mpip install --upgrade pip\u001b[0m\n"
     ]
    }
   ],
   "source": [
    "!pip install -U langchain langchain-openai"
   ]
  },
  {
   "cell_type": "code",
   "execution_count": null,
   "metadata": {},
   "outputs": [
    {
     "name": "stdout",
     "output_type": "stream",
     "text": [
      "Requirement already satisfied: langchain-teddynote in /Users/hyunoozzing/.pyenv/versions/3.11.11/envs/llm/lib/python3.11/site-packages (0.3.44)\n",
      "Requirement already satisfied: langchain in /Users/hyunoozzing/.pyenv/versions/3.11.11/envs/llm/lib/python3.11/site-packages (from langchain-teddynote) (0.3.21)\n",
      "Requirement already satisfied: langgraph in /Users/hyunoozzing/.pyenv/versions/3.11.11/envs/llm/lib/python3.11/site-packages (from langchain-teddynote) (0.3.18)\n",
      "Requirement already satisfied: kiwipiepy in /Users/hyunoozzing/.pyenv/versions/3.11.11/envs/llm/lib/python3.11/site-packages (from langchain-teddynote) (0.20.4)\n",
      "Requirement already satisfied: rank_bm25 in /Users/hyunoozzing/.pyenv/versions/3.11.11/envs/llm/lib/python3.11/site-packages (from langchain-teddynote) (0.2.2)\n",
      "Requirement already satisfied: pinecone-client[grpc] in /Users/hyunoozzing/.pyenv/versions/3.11.11/envs/llm/lib/python3.11/site-packages (from langchain-teddynote) (6.0.0)\n",
      "Requirement already satisfied: pinecone-text in /Users/hyunoozzing/.pyenv/versions/3.11.11/envs/llm/lib/python3.11/site-packages (from langchain-teddynote) (0.10.0)\n",
      "Requirement already satisfied: olefile in /Users/hyunoozzing/.pyenv/versions/3.11.11/envs/llm/lib/python3.11/site-packages (from langchain-teddynote) (0.47)\n",
      "Requirement already satisfied: pdf2image in /Users/hyunoozzing/.pyenv/versions/3.11.11/envs/llm/lib/python3.11/site-packages (from langchain-teddynote) (1.17.0)\n",
      "Requirement already satisfied: openai in /Users/hyunoozzing/.pyenv/versions/3.11.11/envs/llm/lib/python3.11/site-packages (from langchain-teddynote) (1.68.2)\n",
      "Requirement already satisfied: anthropic in /Users/hyunoozzing/.pyenv/versions/3.11.11/envs/llm/lib/python3.11/site-packages (from langchain-teddynote) (0.49.0)\n",
      "Requirement already satisfied: deepl in /Users/hyunoozzing/.pyenv/versions/3.11.11/envs/llm/lib/python3.11/site-packages (from langchain-teddynote) (1.21.1)\n",
      "Requirement already satisfied: feedparser in /Users/hyunoozzing/.pyenv/versions/3.11.11/envs/llm/lib/python3.11/site-packages (from langchain-teddynote) (6.0.11)\n",
      "Requirement already satisfied: tavily-python in /Users/hyunoozzing/.pyenv/versions/3.11.11/envs/llm/lib/python3.11/site-packages (from langchain-teddynote) (0.5.1)\n",
      "Requirement already satisfied: pandas in /Users/hyunoozzing/.pyenv/versions/3.11.11/envs/llm/lib/python3.11/site-packages (from langchain-teddynote) (2.2.3)\n",
      "Requirement already satisfied: anyio<5,>=3.5.0 in /Users/hyunoozzing/.pyenv/versions/3.11.11/envs/llm/lib/python3.11/site-packages (from anthropic->langchain-teddynote) (4.8.0)\n",
      "Requirement already satisfied: distro<2,>=1.7.0 in /Users/hyunoozzing/.pyenv/versions/3.11.11/envs/llm/lib/python3.11/site-packages (from anthropic->langchain-teddynote) (1.9.0)\n",
      "Requirement already satisfied: httpx<1,>=0.23.0 in /Users/hyunoozzing/.pyenv/versions/3.11.11/envs/llm/lib/python3.11/site-packages (from anthropic->langchain-teddynote) (0.28.1)\n",
      "Requirement already satisfied: jiter<1,>=0.4.0 in /Users/hyunoozzing/.pyenv/versions/3.11.11/envs/llm/lib/python3.11/site-packages (from anthropic->langchain-teddynote) (0.8.2)\n",
      "Requirement already satisfied: pydantic<3,>=1.9.0 in /Users/hyunoozzing/.pyenv/versions/3.11.11/envs/llm/lib/python3.11/site-packages (from anthropic->langchain-teddynote) (2.10.6)\n",
      "Requirement already satisfied: sniffio in /Users/hyunoozzing/.pyenv/versions/3.11.11/envs/llm/lib/python3.11/site-packages (from anthropic->langchain-teddynote) (1.3.1)\n",
      "Requirement already satisfied: typing-extensions<5,>=4.10 in /Users/hyunoozzing/.pyenv/versions/3.11.11/envs/llm/lib/python3.11/site-packages (from anthropic->langchain-teddynote) (4.12.2)\n",
      "Requirement already satisfied: requests<3,>=2 in /Users/hyunoozzing/.pyenv/versions/3.11.11/envs/llm/lib/python3.11/site-packages (from deepl->langchain-teddynote) (2.32.3)\n",
      "Requirement already satisfied: sgmllib3k in /Users/hyunoozzing/.pyenv/versions/3.11.11/envs/llm/lib/python3.11/site-packages (from feedparser->langchain-teddynote) (1.0.0)\n",
      "Requirement already satisfied: kiwipiepy-model<0.21,>=0.20 in /Users/hyunoozzing/.pyenv/versions/3.11.11/envs/llm/lib/python3.11/site-packages (from kiwipiepy->langchain-teddynote) (0.20.0)\n",
      "Requirement already satisfied: tqdm in /Users/hyunoozzing/.pyenv/versions/3.11.11/envs/llm/lib/python3.11/site-packages (from kiwipiepy->langchain-teddynote) (4.67.1)\n",
      "Requirement already satisfied: numpy in /Users/hyunoozzing/.pyenv/versions/3.11.11/envs/llm/lib/python3.11/site-packages (from kiwipiepy->langchain-teddynote) (1.26.4)\n",
      "Requirement already satisfied: langchain-core<1.0.0,>=0.3.45 in /Users/hyunoozzing/.pyenv/versions/3.11.11/envs/llm/lib/python3.11/site-packages (from langchain->langchain-teddynote) (0.3.47)\n",
      "Requirement already satisfied: langchain-text-splitters<1.0.0,>=0.3.7 in /Users/hyunoozzing/.pyenv/versions/3.11.11/envs/llm/lib/python3.11/site-packages (from langchain->langchain-teddynote) (0.3.7)\n",
      "Requirement already satisfied: langsmith<0.4,>=0.1.17 in /Users/hyunoozzing/.pyenv/versions/3.11.11/envs/llm/lib/python3.11/site-packages (from langchain->langchain-teddynote) (0.3.11)\n",
      "Requirement already satisfied: SQLAlchemy<3,>=1.4 in /Users/hyunoozzing/.pyenv/versions/3.11.11/envs/llm/lib/python3.11/site-packages (from langchain->langchain-teddynote) (2.0.38)\n",
      "Requirement already satisfied: PyYAML>=5.3 in /Users/hyunoozzing/.pyenv/versions/3.11.11/envs/llm/lib/python3.11/site-packages (from langchain->langchain-teddynote) (6.0.2)\n",
      "Requirement already satisfied: langgraph-checkpoint<3.0.0,>=2.0.10 in /Users/hyunoozzing/.pyenv/versions/3.11.11/envs/llm/lib/python3.11/site-packages (from langgraph->langchain-teddynote) (2.0.21)\n",
      "Requirement already satisfied: langgraph-prebuilt<0.2,>=0.1.1 in /Users/hyunoozzing/.pyenv/versions/3.11.11/envs/llm/lib/python3.11/site-packages (from langgraph->langchain-teddynote) (0.1.4)\n",
      "Requirement already satisfied: langgraph-sdk<0.2.0,>=0.1.42 in /Users/hyunoozzing/.pyenv/versions/3.11.11/envs/llm/lib/python3.11/site-packages (from langgraph->langchain-teddynote) (0.1.58)\n",
      "Requirement already satisfied: python-dateutil>=2.8.2 in /Users/hyunoozzing/.pyenv/versions/3.11.11/envs/llm/lib/python3.11/site-packages (from pandas->langchain-teddynote) (2.9.0.post0)\n",
      "Requirement already satisfied: pytz>=2020.1 in /Users/hyunoozzing/.pyenv/versions/3.11.11/envs/llm/lib/python3.11/site-packages (from pandas->langchain-teddynote) (2025.1)\n",
      "Requirement already satisfied: tzdata>=2022.7 in /Users/hyunoozzing/.pyenv/versions/3.11.11/envs/llm/lib/python3.11/site-packages (from pandas->langchain-teddynote) (2025.1)\n",
      "Requirement already satisfied: pillow in /Users/hyunoozzing/.pyenv/versions/3.11.11/envs/llm/lib/python3.11/site-packages (from pdf2image->langchain-teddynote) (11.1.0)\n",
      "Requirement already satisfied: certifi>=2019.11.17 in /Users/hyunoozzing/.pyenv/versions/3.11.11/envs/llm/lib/python3.11/site-packages (from pinecone-client[grpc]->langchain-teddynote) (2025.1.31)\n",
      "Requirement already satisfied: googleapis-common-protos>=1.66.0 in /Users/hyunoozzing/.pyenv/versions/3.11.11/envs/llm/lib/python3.11/site-packages (from pinecone-client[grpc]->langchain-teddynote) (1.69.2)\n",
      "Requirement already satisfied: grpcio>=1.59.0 in /Users/hyunoozzing/.pyenv/versions/3.11.11/envs/llm/lib/python3.11/site-packages (from pinecone-client[grpc]->langchain-teddynote) (1.67.1)\n",
      "Requirement already satisfied: lz4>=3.1.3 in /Users/hyunoozzing/.pyenv/versions/3.11.11/envs/llm/lib/python3.11/site-packages (from pinecone-client[grpc]->langchain-teddynote) (4.4.3)\n",
      "Requirement already satisfied: pinecone-plugin-interface<0.0.8,>=0.0.7 in /Users/hyunoozzing/.pyenv/versions/3.11.11/envs/llm/lib/python3.11/site-packages (from pinecone-client[grpc]->langchain-teddynote) (0.0.7)\n",
      "Requirement already satisfied: protobuf<6.0,>=5.29 in /Users/hyunoozzing/.pyenv/versions/3.11.11/envs/llm/lib/python3.11/site-packages (from pinecone-client[grpc]->langchain-teddynote) (5.29.4)\n",
      "Requirement already satisfied: protoc-gen-openapiv2<0.0.2,>=0.0.1 in /Users/hyunoozzing/.pyenv/versions/3.11.11/envs/llm/lib/python3.11/site-packages (from pinecone-client[grpc]->langchain-teddynote) (0.0.1)\n",
      "Requirement already satisfied: urllib3>=1.26.0 in /Users/hyunoozzing/.pyenv/versions/3.11.11/envs/llm/lib/python3.11/site-packages (from pinecone-client[grpc]->langchain-teddynote) (2.3.0)\n",
      "Requirement already satisfied: mmh3<5.0.0,>=4.1.0 in /Users/hyunoozzing/.pyenv/versions/3.11.11/envs/llm/lib/python3.11/site-packages (from pinecone-text->langchain-teddynote) (4.1.0)\n",
      "Requirement already satisfied: nltk<4.0.0,>=3.9.1 in /Users/hyunoozzing/.pyenv/versions/3.11.11/envs/llm/lib/python3.11/site-packages (from pinecone-text->langchain-teddynote) (3.9.1)\n",
      "Requirement already satisfied: python-dotenv<2.0.0,>=1.0.1 in /Users/hyunoozzing/.pyenv/versions/3.11.11/envs/llm/lib/python3.11/site-packages (from pinecone-text->langchain-teddynote) (1.0.1)\n",
      "Requirement already satisfied: types-requests<3.0.0,>=2.25.0 in /Users/hyunoozzing/.pyenv/versions/3.11.11/envs/llm/lib/python3.11/site-packages (from pinecone-text->langchain-teddynote) (2.32.0.20250306)\n",
      "Requirement already satisfied: tiktoken>=0.5.1 in /Users/hyunoozzing/.pyenv/versions/3.11.11/envs/llm/lib/python3.11/site-packages (from tavily-python->langchain-teddynote) (0.9.0)\n",
      "Requirement already satisfied: idna>=2.8 in /Users/hyunoozzing/.pyenv/versions/3.11.11/envs/llm/lib/python3.11/site-packages (from anyio<5,>=3.5.0->anthropic->langchain-teddynote) (3.10)\n",
      "Requirement already satisfied: httpcore==1.* in /Users/hyunoozzing/.pyenv/versions/3.11.11/envs/llm/lib/python3.11/site-packages (from httpx<1,>=0.23.0->anthropic->langchain-teddynote) (1.0.7)\n",
      "Requirement already satisfied: h11<0.15,>=0.13 in /Users/hyunoozzing/.pyenv/versions/3.11.11/envs/llm/lib/python3.11/site-packages (from httpcore==1.*->httpx<1,>=0.23.0->anthropic->langchain-teddynote) (0.14.0)\n",
      "Requirement already satisfied: tenacity!=8.4.0,<10.0.0,>=8.1.0 in /Users/hyunoozzing/.pyenv/versions/3.11.11/envs/llm/lib/python3.11/site-packages (from langchain-core<1.0.0,>=0.3.45->langchain->langchain-teddynote) (9.0.0)\n",
      "Requirement already satisfied: jsonpatch<2.0,>=1.33 in /Users/hyunoozzing/.pyenv/versions/3.11.11/envs/llm/lib/python3.11/site-packages (from langchain-core<1.0.0,>=0.3.45->langchain->langchain-teddynote) (1.33)\n",
      "Requirement already satisfied: packaging<25,>=23.2 in /Users/hyunoozzing/.pyenv/versions/3.11.11/envs/llm/lib/python3.11/site-packages (from langchain-core<1.0.0,>=0.3.45->langchain->langchain-teddynote) (23.2)\n",
      "Requirement already satisfied: msgpack<2.0.0,>=1.1.0 in /Users/hyunoozzing/.pyenv/versions/3.11.11/envs/llm/lib/python3.11/site-packages (from langgraph-checkpoint<3.0.0,>=2.0.10->langgraph->langchain-teddynote) (1.1.0)\n",
      "Requirement already satisfied: orjson>=3.10.1 in /Users/hyunoozzing/.pyenv/versions/3.11.11/envs/llm/lib/python3.11/site-packages (from langgraph-sdk<0.2.0,>=0.1.42->langgraph->langchain-teddynote) (3.10.15)\n",
      "Requirement already satisfied: requests-toolbelt<2.0.0,>=1.0.0 in /Users/hyunoozzing/.pyenv/versions/3.11.11/envs/llm/lib/python3.11/site-packages (from langsmith<0.4,>=0.1.17->langchain->langchain-teddynote) (1.0.0)\n",
      "Requirement already satisfied: zstandard<0.24.0,>=0.23.0 in /Users/hyunoozzing/.pyenv/versions/3.11.11/envs/llm/lib/python3.11/site-packages (from langsmith<0.4,>=0.1.17->langchain->langchain-teddynote) (0.23.0)\n",
      "Requirement already satisfied: click in /Users/hyunoozzing/.pyenv/versions/3.11.11/envs/llm/lib/python3.11/site-packages (from nltk<4.0.0,>=3.9.1->pinecone-text->langchain-teddynote) (8.1.8)\n",
      "Requirement already satisfied: joblib in /Users/hyunoozzing/.pyenv/versions/3.11.11/envs/llm/lib/python3.11/site-packages (from nltk<4.0.0,>=3.9.1->pinecone-text->langchain-teddynote) (1.4.2)\n",
      "Requirement already satisfied: regex>=2021.8.3 in /Users/hyunoozzing/.pyenv/versions/3.11.11/envs/llm/lib/python3.11/site-packages (from nltk<4.0.0,>=3.9.1->pinecone-text->langchain-teddynote) (2024.11.6)\n",
      "Requirement already satisfied: annotated-types>=0.6.0 in /Users/hyunoozzing/.pyenv/versions/3.11.11/envs/llm/lib/python3.11/site-packages (from pydantic<3,>=1.9.0->anthropic->langchain-teddynote) (0.7.0)\n",
      "Requirement already satisfied: pydantic-core==2.27.2 in /Users/hyunoozzing/.pyenv/versions/3.11.11/envs/llm/lib/python3.11/site-packages (from pydantic<3,>=1.9.0->anthropic->langchain-teddynote) (2.27.2)\n",
      "Requirement already satisfied: six>=1.5 in /Users/hyunoozzing/.pyenv/versions/3.11.11/envs/llm/lib/python3.11/site-packages (from python-dateutil>=2.8.2->pandas->langchain-teddynote) (1.17.0)\n",
      "Requirement already satisfied: charset-normalizer<4,>=2 in /Users/hyunoozzing/.pyenv/versions/3.11.11/envs/llm/lib/python3.11/site-packages (from requests<3,>=2->deepl->langchain-teddynote) (3.4.1)\n",
      "Requirement already satisfied: jsonpointer>=1.9 in /Users/hyunoozzing/.pyenv/versions/3.11.11/envs/llm/lib/python3.11/site-packages (from jsonpatch<2.0,>=1.33->langchain-core<1.0.0,>=0.3.45->langchain->langchain-teddynote) (3.0.0)\n",
      "\n",
      "\u001b[1m[\u001b[0m\u001b[34;49mnotice\u001b[0m\u001b[1;39;49m]\u001b[0m\u001b[39;49m A new release of pip is available: \u001b[0m\u001b[31;49m24.0\u001b[0m\u001b[39;49m -> \u001b[0m\u001b[32;49m25.0.1\u001b[0m\n",
      "\u001b[1m[\u001b[0m\u001b[34;49mnotice\u001b[0m\u001b[1;39;49m]\u001b[0m\u001b[39;49m To update, run: \u001b[0m\u001b[32;49mpip install --upgrade pip\u001b[0m\n"
     ]
    }
   ],
   "source": [
    "!pip install langchain-teddynote"
   ]
  },
  {
   "cell_type": "code",
   "execution_count": 1,
   "metadata": {},
   "outputs": [
    {
     "data": {
      "text/plain": [
       "True"
      ]
     },
     "execution_count": 1,
     "metadata": {},
     "output_type": "execute_result"
    }
   ],
   "source": [
    "# API KEY를 환경변수로 관리하기 위한 설정 파일\n",
    "from dotenv import load_dotenv\n",
    "\n",
    "# API KEY 정보로드\n",
    "load_dotenv()"
   ]
  },
  {
   "cell_type": "code",
   "execution_count": 2,
   "metadata": {},
   "outputs": [
    {
     "name": "stdout",
     "output_type": "stream",
     "text": [
      "LangSmith 추적을 시작합니다.\n",
      "[프로젝트명]\n",
      "hhw_langchain_toy_project\n"
     ]
    }
   ],
   "source": [
    "from langchain_teddynote import logging\n",
    "\n",
    "# 프로젝트 이름을 입력합니다.\n",
    "logging.langsmith(\"hhw_langchain_toy_project\")"
   ]
  },
  {
   "cell_type": "code",
   "execution_count": 3,
   "metadata": {},
   "outputs": [
    {
     "name": "stderr",
     "output_type": "stream",
     "text": [
      "/var/folders/5d/4yvbq7s16359fdr947szsx5h0000gn/T/ipykernel_12612/2549913344.py:7: LangChainDeprecationWarning: The class `ChatOllama` was deprecated in LangChain 0.3.1 and will be removed in 1.0.0. An updated version of the class exists in the :class:`~langchain-ollama package and should be used instead. To use it run `pip install -U :class:`~langchain-ollama` and import as `from :class:`~langchain_ollama import ChatOllama``.\n",
      "  llm = ChatOllama(model=\"gemma3:1b\")\n"
     ]
    }
   ],
   "source": [
    "from langchain_community.chat_models import ChatOllama\n",
    "from langchain_core.output_parsers import StrOutputParser\n",
    "from langchain_core.prompts import ChatPromptTemplate\n",
    "from langchain_teddynote.messages import stream_response\n",
    "\n",
    "# Ollama 모델을 불러옵니다.\n",
    "llm = ChatOllama(model=\"gemma3:1b\")"
   ]
  },
  {
   "cell_type": "code",
   "execution_count": 14,
   "metadata": {},
   "outputs": [
    {
     "name": "stdout",
     "output_type": "stream",
     "text": [
      "## Deep Learning이란 무엇일까요?\n",
      "\n",
      "Deep Learning은 인공지능 분야에서 가장 중요한 기술 중 하나로, **인간의 두뇌처럼 복잡한 데이터에서 스스로 학습하여 문제를 해결하는 알고리즘**을 개발하는 것을 목표로 합니다. \n",
      "\n",
      "**쉽게 말해, 컴퓨터가 스스로 학습하고 문제를 해결할 수 있도록 돕는 기술**이라고 할 수 있습니다.\n",
      "\n",
      "**Deep Learning의 핵심은 '깊은 신경망(Deep Neural Network)'이라는 구조**입니다. 신경망은 여러 개의 층(layer)으로 구성되어 있으며, 각 층은 이전 층의 결과를 받아 더 복잡한 결과를 만들어냅니다. 이러한 '깊이' 덕분에 Deep Learning은 매우 복잡한 패턴을 학습하고 분석할 수 있습니다.\n",
      "\n",
      "**Deep Learning의 작동 방식:**\n",
      "\n",
      "1.  **데이터 입력:** Deep Learning 모델은 많은 양의 데이터를 입력으로 받습니다.\n",
      "2.  **학습 과정:** 모델은 입력 데이터를 바탕으로 스스로 패턴을 찾고, 이를 통해 예측 또는 분류를 수행합니다.\n",
      "3.  **결과 출력:** 학습이 완료되면 모델은 예측 또는 분류 결과를 출력합니다.\n",
      "4.  **반복 학습:** 모델은 학습된 결과를 바탕으로 다시 데이터를 입력하고, 예측을 반복하여 성능을 개선합니다.\n",
      "\n",
      "**Deep Learning의 주요 특징:**\n",
      "\n",
      "*   **자동 특징 추출:** 사람이 직접 특징을 추출하는 과정 없이, 데이터 자체에서 자동으로 특징을 추출합니다.\n",
      "*   **높은 성능:** 복잡한 데이터 분석 및 예측에 뛰어난 성능을 보입니다.\n",
      "*   **데이터 의존성:** 많은 데이터가 필요합니다.\n",
      "*   **높은 컴퓨팅 자원:** 학습 및 실행에 많은 컴퓨팅 자원이 필요합니다.\n",
      "\n",
      "**Deep Learning의 활용 분야:**\n",
      "\n",
      "*   **이미지 인식:** 얼굴 인식, 자율 주행 자동차, 의료 영상 분석 등\n",
      "*   **자연어 처리:** 챗봇, 번역, 텍스트 분석 등\n",
      "*   **음성 인식:** 음성 비서, 자동 음성 검색 등\n",
      "*   **추천 시스템:** 영화, 음악, 상품 추천 등\n",
      "*   **게임:** 게임 AI, 몬스터 AI 등\n",
      "\n",
      "**Deep Learning의 종류:**\n",
      "\n",
      "*   **Convolutional Neural Network (CNN):** 이미지 인식에 주로 사용됩니다.\n",
      "*   **Recurrent Neural Network (RNN):** 시퀀스 데이터(텍스트, 음성 등) 처리에 사용됩니다.\n",
      "*   **Generative Adversarial Network (GAN):** 새로운 데이터를 생성하는 데 사용됩니다.\n",
      "\n",
      "**더 궁금한 점이 있으신가요?**\n",
      "\n",
      "*   Deep Learning의 특정 분야 (예: 이미지 인식, 자연어 처리)에 대해 더 자세히 알고 싶으신가요?\n",
      "*   Deep Learning을 적용할 때 고려해야 할 사항이 궁금하신가요?\n",
      "*   Deep Learning 관련 자료를 찾고 계신가요?"
     ]
    }
   ],
   "source": [
    "# 프롬프트\n",
    "prompt = ChatPromptTemplate.from_template(\"{topic} 에 대하여 간략히 설명해 줘.\")\n",
    "\n",
    "# 체인 생성\n",
    "chain = prompt | llm | StrOutputParser()\n",
    "\n",
    "# 간결성을 위해 응답은 터미널에 출력됩니다.\n",
    "answer = chain.stream({\"topic\": \"deep learning\"})\n",
    "\n",
    "# 스트리밍 출력\n",
    "stream_response(answer)"
   ]
  },
  {
   "cell_type": "code",
   "execution_count": 4,
   "metadata": {},
   "outputs": [],
   "source": [
    "template = \"\"\"\n",
    "당신은 영어를 가르치는 10년차 영어 선생님입니다. 상황에 [FORMAT]에 영어 회화를 작성해 주세요.\n",
    "\n",
    "상황:\n",
    "{question}\n",
    "\n",
    "FORMAT:\n",
    "- 영어 회화:\n",
    "- 한글 해석:\n",
    "\"\"\""
   ]
  },
  {
   "cell_type": "code",
   "execution_count": 6,
   "metadata": {},
   "outputs": [],
   "source": [
    "from langchain_teddynote.messages import stream_response  # 스트리밍 출력\n",
    "from langchain_core.prompts import PromptTemplate"
   ]
  },
  {
   "cell_type": "code",
   "execution_count": 7,
   "metadata": {},
   "outputs": [],
   "source": [
    "template = \"\"\"\n",
    "당신은 영어를 가르치는 10년차 영어 선생님입니다. 상황에 [FORMAT]에 영어 회화를 작성해 주세요.\n",
    "\n",
    "상황:\n",
    "{question}\n",
    "\n",
    "FORMAT:\n",
    "- 영어 회화:\n",
    "- 한글 해석:\n",
    "\"\"\"\n",
    "\n",
    "# 프롬프트 템플릿을 이용하여 프롬프트를 생성합니다.\n",
    "prompt = PromptTemplate.from_template(template)"
   ]
  },
  {
   "cell_type": "code",
   "execution_count": 8,
   "metadata": {},
   "outputs": [],
   "source": [
    "# 문자열 출력 파서를 초기화합니다.\n",
    "output_parser = StrOutputParser()"
   ]
  },
  {
   "cell_type": "code",
   "execution_count": 10,
   "metadata": {},
   "outputs": [],
   "source": [
    "# 체인을 구성합니다.\n",
    "chain = prompt | llm | output_parser"
   ]
  },
  {
   "cell_type": "code",
   "execution_count": 11,
   "metadata": {},
   "outputs": [
    {
     "name": "stdout",
     "output_type": "stream",
     "text": [
      "Okay, let's craft a simple English conversation for you. Here's a scenario where you're going to a restaurant to order food:\n",
      "\n",
      "**영어 회화:**\n",
      "\n",
      "**English:** \"Excuse me, could I get a table for one, please?\"\n",
      "\n",
      "**한글 해석:** \"실례합니다, 한 분 자리 부탁드려요?\"\n",
      "\n",
      "**설명:**\n",
      "\n",
      "*   **Excuse me:**  \"실례합니다\"는 상대방에게 불편을 끼치지 않기 위해 사용합니다.\n",
      "*   **Could I get a table for one, please?**  \"한 분 자리 부탁드려요?\"는 \"one person table please\"라는 뜻입니다.  \"한 분\"은 \"one person\"을 의미합니다. \"부탁드려요\"는 \"please\"를 의미합니다.\n",
      "\n",
      "---\n",
      "\n",
      "**Would you like me to continue the conversation, or do you have any specific questions about this scenario? For example, would you like to hear a follow-up conversation?**"
     ]
    }
   ],
   "source": [
    "# 완성된 Chain을 실행하여 답변을 얻습니다.\n",
    "# 스트리밍 출력을 위한 요청\n",
    "answer = chain.stream({\"question\": \"저는 식당에 가서 음식을 주문하고 싶어요\"})\n",
    "# 스트리밍 출력\n",
    "stream_response(answer)"
   ]
  },
  {
   "cell_type": "code",
   "execution_count": 12,
   "metadata": {},
   "outputs": [
    {
     "name": "stdout",
     "output_type": "stream",
     "text": [
      "## 상황: 미국에서 피자 주문\n",
      "\n",
      "**영어 회화:**\n",
      "\n",
      "\"Hi, can I get a large pepperoni pizza, please? And make sure it has extra cheese, okay?\"\n",
      "\n",
      "**한글 해석:**\n",
      "\n",
      "\"안녕하세요, 큰 페퍼로니 피자를 주문할 수 있을까요? 그리고 치즈를 추가로 주세요, 알겠습니다?\"\n",
      "\n",
      "**추가적으로, 좀 더 자연스럽게 말하기 위해 다음과 같은 표현을 추가할 수 있습니다:**\n",
      "\n",
      "*   \"Could you please tell me the price?\" (가격이 얼마인가요?)\n",
      "*   \"I'll take it.\" (계속 주문할게요.)\n",
      "*   \"Thank you!\" (감사합니다!)\n",
      "\n",
      "**참고:**  이 회화는 기본적인 주문을 하는 상황을 묘사하고 있습니다.  상황에 따라 더 자세한 요청을 할 수 있습니다. 예를 들어, \"I want a veggie pizza too\" 와 같이 추가할 수 있습니다."
     ]
    }
   ],
   "source": [
    "# 이번에는 question 을 '미국에서 피자 주문'으로 설정하여 실행합니다.\n",
    "# 스트리밍 출력을 위한 요청\n",
    "answer = chain.stream({\"question\": \"미국에서 피자 주문\"})\n",
    "# 스트리밍 출력\n",
    "stream_response(answer)"
   ]
  },
  {
   "cell_type": "code",
   "execution_count": null,
   "metadata": {},
   "outputs": [],
   "source": []
  }
 ],
 "metadata": {
  "kernelspec": {
   "display_name": "llm",
   "language": "python",
   "name": "python3"
  },
  "language_info": {
   "codemirror_mode": {
    "name": "ipython",
    "version": 3
   },
   "file_extension": ".py",
   "mimetype": "text/x-python",
   "name": "python",
   "nbconvert_exporter": "python",
   "pygments_lexer": "ipython3",
   "version": "3.11.11"
  }
 },
 "nbformat": 4,
 "nbformat_minor": 2
}
