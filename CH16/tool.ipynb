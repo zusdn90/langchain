{
 "cells": [
  {
   "cell_type": "markdown",
   "metadata": {},
   "source": [
    "도구 (Tools)\n",
    "\n",
    "도구(Tool)는 에이전트, 체인 또는 LLM이 외부 세계와 상호작용하기 위한 인터페이스입니다.\n",
    "\n",
    "LangChain 에서 기본 제공하는 도구를 사용하여 쉽게 도구를 활용할 수 있으며, 사용자 정의 도구(Custom Tool) 를 쉽게 구축하는 것도 가능합니다."
   ]
  },
  {
   "cell_type": "code",
   "execution_count": 10,
   "metadata": {},
   "outputs": [
    {
     "data": {
      "text/plain": [
       "True"
      ]
     },
     "execution_count": 10,
     "metadata": {},
     "output_type": "execute_result"
    }
   ],
   "source": [
    "# API 키를 환경변수로 관리하기 위한 설정 파일\n",
    "from dotenv import load_dotenv\n",
    "\n",
    "# API 키 정보 로드\n",
    "load_dotenv()"
   ]
  },
  {
   "cell_type": "code",
   "execution_count": 1,
   "metadata": {},
   "outputs": [
    {
     "name": "stdout",
     "output_type": "stream",
     "text": [
      "LangSmith 추적을 시작합니다.\n",
      "[프로젝트명]\n",
      "CH15-Tools\n"
     ]
    }
   ],
   "source": [
    "# LangSmith 추적을 설정합니다. https://smith.langchain.com\n",
    "# !pip install -qU langchain-teddynote\n",
    "from langchain_teddynote import logging\n",
    "\n",
    "# 프로젝트 이름을 입력합니다.\n",
    "logging.langsmith(\"CH15-Tools\")"
   ]
  },
  {
   "cell_type": "code",
   "execution_count": 2,
   "metadata": {},
   "outputs": [],
   "source": [
    "import warnings\n",
    "\n",
    "# 경고 메시지 무시\n",
    "warnings.filterwarnings(\"ignore\")"
   ]
  },
  {
   "cell_type": "code",
   "execution_count": 4,
   "metadata": {},
   "outputs": [
    {
     "name": "stdout",
     "output_type": "stream",
     "text": [
      "Collecting langchain_experimental\n",
      "  Downloading langchain_experimental-0.3.4-py3-none-any.whl.metadata (1.7 kB)\n",
      "Requirement already satisfied: langchain-community<0.4.0,>=0.3.0 in /Users/hyunoozzing/.pyenv/versions/3.11.11/envs/llm/lib/python3.11/site-packages (from langchain_experimental) (0.3.18)\n",
      "Requirement already satisfied: langchain-core<0.4.0,>=0.3.28 in /Users/hyunoozzing/.pyenv/versions/3.11.11/envs/llm/lib/python3.11/site-packages (from langchain_experimental) (0.3.47)\n",
      "Requirement already satisfied: langchain<1.0.0,>=0.3.19 in /Users/hyunoozzing/.pyenv/versions/3.11.11/envs/llm/lib/python3.11/site-packages (from langchain-community<0.4.0,>=0.3.0->langchain_experimental) (0.3.21)\n",
      "Requirement already satisfied: SQLAlchemy<3,>=1.4 in /Users/hyunoozzing/.pyenv/versions/3.11.11/envs/llm/lib/python3.11/site-packages (from langchain-community<0.4.0,>=0.3.0->langchain_experimental) (2.0.38)\n",
      "Requirement already satisfied: requests<3,>=2 in /Users/hyunoozzing/.pyenv/versions/3.11.11/envs/llm/lib/python3.11/site-packages (from langchain-community<0.4.0,>=0.3.0->langchain_experimental) (2.32.3)\n",
      "Requirement already satisfied: PyYAML>=5.3 in /Users/hyunoozzing/.pyenv/versions/3.11.11/envs/llm/lib/python3.11/site-packages (from langchain-community<0.4.0,>=0.3.0->langchain_experimental) (6.0.2)\n",
      "Requirement already satisfied: aiohttp<4.0.0,>=3.8.3 in /Users/hyunoozzing/.pyenv/versions/3.11.11/envs/llm/lib/python3.11/site-packages (from langchain-community<0.4.0,>=0.3.0->langchain_experimental) (3.11.11)\n",
      "Requirement already satisfied: tenacity!=8.4.0,<10,>=8.1.0 in /Users/hyunoozzing/.pyenv/versions/3.11.11/envs/llm/lib/python3.11/site-packages (from langchain-community<0.4.0,>=0.3.0->langchain_experimental) (9.0.0)\n",
      "Requirement already satisfied: dataclasses-json<0.7,>=0.5.7 in /Users/hyunoozzing/.pyenv/versions/3.11.11/envs/llm/lib/python3.11/site-packages (from langchain-community<0.4.0,>=0.3.0->langchain_experimental) (0.6.7)\n",
      "Requirement already satisfied: pydantic-settings<3.0.0,>=2.4.0 in /Users/hyunoozzing/.pyenv/versions/3.11.11/envs/llm/lib/python3.11/site-packages (from langchain-community<0.4.0,>=0.3.0->langchain_experimental) (2.8.1)\n",
      "Requirement already satisfied: langsmith<0.4,>=0.1.125 in /Users/hyunoozzing/.pyenv/versions/3.11.11/envs/llm/lib/python3.11/site-packages (from langchain-community<0.4.0,>=0.3.0->langchain_experimental) (0.3.11)\n",
      "Requirement already satisfied: httpx-sse<1.0.0,>=0.4.0 in /Users/hyunoozzing/.pyenv/versions/3.11.11/envs/llm/lib/python3.11/site-packages (from langchain-community<0.4.0,>=0.3.0->langchain_experimental) (0.4.0)\n",
      "Requirement already satisfied: numpy<2,>=1.26.4 in /Users/hyunoozzing/.pyenv/versions/3.11.11/envs/llm/lib/python3.11/site-packages (from langchain-community<0.4.0,>=0.3.0->langchain_experimental) (1.26.4)\n",
      "Requirement already satisfied: jsonpatch<2.0,>=1.33 in /Users/hyunoozzing/.pyenv/versions/3.11.11/envs/llm/lib/python3.11/site-packages (from langchain-core<0.4.0,>=0.3.28->langchain_experimental) (1.33)\n",
      "Requirement already satisfied: packaging<25,>=23.2 in /Users/hyunoozzing/.pyenv/versions/3.11.11/envs/llm/lib/python3.11/site-packages (from langchain-core<0.4.0,>=0.3.28->langchain_experimental) (23.2)\n",
      "Requirement already satisfied: typing-extensions>=4.7 in /Users/hyunoozzing/.pyenv/versions/3.11.11/envs/llm/lib/python3.11/site-packages (from langchain-core<0.4.0,>=0.3.28->langchain_experimental) (4.12.2)\n",
      "Requirement already satisfied: pydantic<3.0.0,>=2.5.2 in /Users/hyunoozzing/.pyenv/versions/3.11.11/envs/llm/lib/python3.11/site-packages (from langchain-core<0.4.0,>=0.3.28->langchain_experimental) (2.10.6)\n",
      "Requirement already satisfied: aiohappyeyeballs>=2.3.0 in /Users/hyunoozzing/.pyenv/versions/3.11.11/envs/llm/lib/python3.11/site-packages (from aiohttp<4.0.0,>=3.8.3->langchain-community<0.4.0,>=0.3.0->langchain_experimental) (2.5.0)\n",
      "Requirement already satisfied: aiosignal>=1.1.2 in /Users/hyunoozzing/.pyenv/versions/3.11.11/envs/llm/lib/python3.11/site-packages (from aiohttp<4.0.0,>=3.8.3->langchain-community<0.4.0,>=0.3.0->langchain_experimental) (1.3.2)\n",
      "Requirement already satisfied: attrs>=17.3.0 in /Users/hyunoozzing/.pyenv/versions/3.11.11/envs/llm/lib/python3.11/site-packages (from aiohttp<4.0.0,>=3.8.3->langchain-community<0.4.0,>=0.3.0->langchain_experimental) (25.1.0)\n",
      "Requirement already satisfied: frozenlist>=1.1.1 in /Users/hyunoozzing/.pyenv/versions/3.11.11/envs/llm/lib/python3.11/site-packages (from aiohttp<4.0.0,>=3.8.3->langchain-community<0.4.0,>=0.3.0->langchain_experimental) (1.5.0)\n",
      "Requirement already satisfied: multidict<7.0,>=4.5 in /Users/hyunoozzing/.pyenv/versions/3.11.11/envs/llm/lib/python3.11/site-packages (from aiohttp<4.0.0,>=3.8.3->langchain-community<0.4.0,>=0.3.0->langchain_experimental) (6.1.0)\n",
      "Requirement already satisfied: propcache>=0.2.0 in /Users/hyunoozzing/.pyenv/versions/3.11.11/envs/llm/lib/python3.11/site-packages (from aiohttp<4.0.0,>=3.8.3->langchain-community<0.4.0,>=0.3.0->langchain_experimental) (0.3.0)\n",
      "Requirement already satisfied: yarl<2.0,>=1.17.0 in /Users/hyunoozzing/.pyenv/versions/3.11.11/envs/llm/lib/python3.11/site-packages (from aiohttp<4.0.0,>=3.8.3->langchain-community<0.4.0,>=0.3.0->langchain_experimental) (1.18.3)\n",
      "Requirement already satisfied: marshmallow<4.0.0,>=3.18.0 in /Users/hyunoozzing/.pyenv/versions/3.11.11/envs/llm/lib/python3.11/site-packages (from dataclasses-json<0.7,>=0.5.7->langchain-community<0.4.0,>=0.3.0->langchain_experimental) (3.26.1)\n",
      "Requirement already satisfied: typing-inspect<1,>=0.4.0 in /Users/hyunoozzing/.pyenv/versions/3.11.11/envs/llm/lib/python3.11/site-packages (from dataclasses-json<0.7,>=0.5.7->langchain-community<0.4.0,>=0.3.0->langchain_experimental) (0.9.0)\n",
      "Requirement already satisfied: jsonpointer>=1.9 in /Users/hyunoozzing/.pyenv/versions/3.11.11/envs/llm/lib/python3.11/site-packages (from jsonpatch<2.0,>=1.33->langchain-core<0.4.0,>=0.3.28->langchain_experimental) (3.0.0)\n",
      "Requirement already satisfied: langchain-text-splitters<1.0.0,>=0.3.7 in /Users/hyunoozzing/.pyenv/versions/3.11.11/envs/llm/lib/python3.11/site-packages (from langchain<1.0.0,>=0.3.19->langchain-community<0.4.0,>=0.3.0->langchain_experimental) (0.3.7)\n",
      "Requirement already satisfied: httpx<1,>=0.23.0 in /Users/hyunoozzing/.pyenv/versions/3.11.11/envs/llm/lib/python3.11/site-packages (from langsmith<0.4,>=0.1.125->langchain-community<0.4.0,>=0.3.0->langchain_experimental) (0.28.1)\n",
      "Requirement already satisfied: orjson<4.0.0,>=3.9.14 in /Users/hyunoozzing/.pyenv/versions/3.11.11/envs/llm/lib/python3.11/site-packages (from langsmith<0.4,>=0.1.125->langchain-community<0.4.0,>=0.3.0->langchain_experimental) (3.10.15)\n",
      "Requirement already satisfied: requests-toolbelt<2.0.0,>=1.0.0 in /Users/hyunoozzing/.pyenv/versions/3.11.11/envs/llm/lib/python3.11/site-packages (from langsmith<0.4,>=0.1.125->langchain-community<0.4.0,>=0.3.0->langchain_experimental) (1.0.0)\n",
      "Requirement already satisfied: zstandard<0.24.0,>=0.23.0 in /Users/hyunoozzing/.pyenv/versions/3.11.11/envs/llm/lib/python3.11/site-packages (from langsmith<0.4,>=0.1.125->langchain-community<0.4.0,>=0.3.0->langchain_experimental) (0.23.0)\n",
      "Requirement already satisfied: annotated-types>=0.6.0 in /Users/hyunoozzing/.pyenv/versions/3.11.11/envs/llm/lib/python3.11/site-packages (from pydantic<3.0.0,>=2.5.2->langchain-core<0.4.0,>=0.3.28->langchain_experimental) (0.7.0)\n",
      "Requirement already satisfied: pydantic-core==2.27.2 in /Users/hyunoozzing/.pyenv/versions/3.11.11/envs/llm/lib/python3.11/site-packages (from pydantic<3.0.0,>=2.5.2->langchain-core<0.4.0,>=0.3.28->langchain_experimental) (2.27.2)\n",
      "Requirement already satisfied: python-dotenv>=0.21.0 in /Users/hyunoozzing/.pyenv/versions/3.11.11/envs/llm/lib/python3.11/site-packages (from pydantic-settings<3.0.0,>=2.4.0->langchain-community<0.4.0,>=0.3.0->langchain_experimental) (1.0.1)\n",
      "Requirement already satisfied: charset-normalizer<4,>=2 in /Users/hyunoozzing/.pyenv/versions/3.11.11/envs/llm/lib/python3.11/site-packages (from requests<3,>=2->langchain-community<0.4.0,>=0.3.0->langchain_experimental) (3.4.1)\n",
      "Requirement already satisfied: idna<4,>=2.5 in /Users/hyunoozzing/.pyenv/versions/3.11.11/envs/llm/lib/python3.11/site-packages (from requests<3,>=2->langchain-community<0.4.0,>=0.3.0->langchain_experimental) (3.10)\n",
      "Requirement already satisfied: urllib3<3,>=1.21.1 in /Users/hyunoozzing/.pyenv/versions/3.11.11/envs/llm/lib/python3.11/site-packages (from requests<3,>=2->langchain-community<0.4.0,>=0.3.0->langchain_experimental) (2.3.0)\n",
      "Requirement already satisfied: certifi>=2017.4.17 in /Users/hyunoozzing/.pyenv/versions/3.11.11/envs/llm/lib/python3.11/site-packages (from requests<3,>=2->langchain-community<0.4.0,>=0.3.0->langchain_experimental) (2025.1.31)\n",
      "Requirement already satisfied: anyio in /Users/hyunoozzing/.pyenv/versions/3.11.11/envs/llm/lib/python3.11/site-packages (from httpx<1,>=0.23.0->langsmith<0.4,>=0.1.125->langchain-community<0.4.0,>=0.3.0->langchain_experimental) (4.8.0)\n",
      "Requirement already satisfied: httpcore==1.* in /Users/hyunoozzing/.pyenv/versions/3.11.11/envs/llm/lib/python3.11/site-packages (from httpx<1,>=0.23.0->langsmith<0.4,>=0.1.125->langchain-community<0.4.0,>=0.3.0->langchain_experimental) (1.0.7)\n",
      "Requirement already satisfied: h11<0.15,>=0.13 in /Users/hyunoozzing/.pyenv/versions/3.11.11/envs/llm/lib/python3.11/site-packages (from httpcore==1.*->httpx<1,>=0.23.0->langsmith<0.4,>=0.1.125->langchain-community<0.4.0,>=0.3.0->langchain_experimental) (0.14.0)\n",
      "Requirement already satisfied: mypy-extensions>=0.3.0 in /Users/hyunoozzing/.pyenv/versions/3.11.11/envs/llm/lib/python3.11/site-packages (from typing-inspect<1,>=0.4.0->dataclasses-json<0.7,>=0.5.7->langchain-community<0.4.0,>=0.3.0->langchain_experimental) (1.0.0)\n",
      "Requirement already satisfied: sniffio>=1.1 in /Users/hyunoozzing/.pyenv/versions/3.11.11/envs/llm/lib/python3.11/site-packages (from anyio->httpx<1,>=0.23.0->langsmith<0.4,>=0.1.125->langchain-community<0.4.0,>=0.3.0->langchain_experimental) (1.3.1)\n",
      "Downloading langchain_experimental-0.3.4-py3-none-any.whl (209 kB)\n",
      "\u001b[2K   \u001b[90m━━━━━━━━━━━━━━━━━━━━━━━━━━━━━━━━━━━━━━━━\u001b[0m \u001b[32m209.2/209.2 kB\u001b[0m \u001b[31m5.7 MB/s\u001b[0m eta \u001b[36m0:00:00\u001b[0m\n",
      "\u001b[?25hInstalling collected packages: langchain_experimental\n",
      "Successfully installed langchain_experimental-0.3.4\n",
      "\n",
      "\u001b[1m[\u001b[0m\u001b[34;49mnotice\u001b[0m\u001b[1;39;49m]\u001b[0m\u001b[39;49m A new release of pip is available: \u001b[0m\u001b[31;49m24.0\u001b[0m\u001b[39;49m -> \u001b[0m\u001b[32;49m25.0.1\u001b[0m\n",
      "\u001b[1m[\u001b[0m\u001b[34;49mnotice\u001b[0m\u001b[1;39;49m]\u001b[0m\u001b[39;49m To update, run: \u001b[0m\u001b[32;49mpip install --upgrade pip\u001b[0m\n"
     ]
    }
   ],
   "source": [
    "!pip install langchain_experimental"
   ]
  },
  {
   "cell_type": "markdown",
   "metadata": {},
   "source": [
    "빌트인 도구(built-in tools)\n",
    "\n",
    "랭체인에서 제공하는 사전에 정의된 도구(tool) 와 툴킷(toolkit) 을 사용할 수 있습니다.\n",
    "\n",
    "tool 은 단일 도구를 의미하며, toolkit 은 여러 도구를 묶어서 하나의 도구로 사용할 수 있습니다.\n",
    "\n",
    "관련 도구는 아래의 링크에서 참고하실 수 있습니다."
   ]
  },
  {
   "cell_type": "code",
   "execution_count": 5,
   "metadata": {},
   "outputs": [],
   "source": [
    "from langchain_experimental.tools import PythonREPLTool\n",
    "\n",
    "# 파이썬 코드를 실행하는 도구를 생성합니다.\n",
    "python_tool = PythonREPLTool()"
   ]
  },
  {
   "cell_type": "code",
   "execution_count": 6,
   "metadata": {},
   "outputs": [
    {
     "name": "stderr",
     "output_type": "stream",
     "text": [
      "Python REPL can execute arbitrary code. Use with caution.\n"
     ]
    },
    {
     "name": "stdout",
     "output_type": "stream",
     "text": [
      "300\n",
      "\n"
     ]
    }
   ],
   "source": [
    "# 파이썬 코드를 실행하고 결과를 반환합니다.\n",
    "print(python_tool.invoke(\"print(100 + 200)\"))"
   ]
  },
  {
   "cell_type": "markdown",
   "metadata": {},
   "source": [
    "아래는 LLM 에게 파이썬 코드를 작성하도록 요청하고 결과를 반환하는 예제입니다.\n",
    "\n",
    "흐름 정리\n",
    "1. LLM 모델에게 특정 작업을 수행하는 Python 코드를 작성하도록 요청합니다.\n",
    "2. 작성된 코드를 실행하여 결과를 얻습니다.\n",
    "3. 결과를 출력합니다.\n"
   ]
  },
  {
   "cell_type": "code",
   "execution_count": 7,
   "metadata": {},
   "outputs": [
    {
     "name": "stderr",
     "output_type": "stream",
     "text": [
      "/var/folders/5d/4yvbq7s16359fdr947szsx5h0000gn/T/ipykernel_15878/3595998609.py:28: LangChainDeprecationWarning: The class `ChatOllama` was deprecated in LangChain 0.3.1 and will be removed in 1.0.0. An updated version of the class exists in the :class:`~langchain-ollama package and should be used instead. To use it run `pip install -U :class:`~langchain-ollama` and import as `from :class:`~langchain_ollama import ChatOllama``.\n",
      "  llm = ChatOllama(model=\"gemma3:1b\")\n"
     ]
    }
   ],
   "source": [
    "from langchain_community.chat_models import ChatOllama\n",
    "from langchain_core.prompts import ChatPromptTemplate\n",
    "from langchain_core.output_parsers import StrOutputParser\n",
    "from langchain_core.runnables import RunnableLambda\n",
    "\n",
    "\n",
    "# 파이썬 코드를 실행하고 중간 과정을 출력하고 도구 실행 결과를 반환하는 함수\n",
    "def print_and_execute(code, debug=True):\n",
    "    if debug:\n",
    "        print(\"CODE:\")\n",
    "        print(code)\n",
    "    return python_tool.invoke(code)\n",
    "\n",
    "\n",
    "# 파이썬 코드를 작성하도록 요청하는 프롬프트\n",
    "prompt = ChatPromptTemplate.from_messages(\n",
    "    [\n",
    "        (\n",
    "            \"system\",\n",
    "            \"You are Raymond Hetting, an expert python programmer, well versed in meta-programming and elegant, concise and short but well documented code. You follow the PEP8 style guide. \"\n",
    "            \"Return only the code, no intro, no explanation, no chatty, no markdown, no code block, no nothing. Just the code.\",\n",
    "        ),\n",
    "        (\"human\", \"{input}\"),\n",
    "    ]\n",
    ")\n",
    "\n",
    "# Ollama 모델을 불러옵니다.\n",
    "llm = ChatOllama(model=\"gemma3:1b\")\n",
    "\n",
    "# 프롬프트와 LLM 모델을 사용하여 체인 생성\n",
    "chain = prompt | llm | StrOutputParser() | RunnableLambda(print_and_execute)\n"
   ]
  },
  {
   "cell_type": "code",
   "execution_count": 8,
   "metadata": {},
   "outputs": [
    {
     "name": "stdout",
     "output_type": "stream",
     "text": [
      "CODE:\n",
      "```python\n",
      "import random\n",
      "\n",
      "def generate_lottery_numbers(num_numbers=6):\n",
      "    \"\"\"\n",
      "    Generates a list of random lottery numbers.\n",
      "\n",
      "    Args:\n",
      "        num_numbers: The number of lottery numbers to generate.  Defaults to 6.\n",
      "\n",
      "    Returns:\n",
      "        A list of integers representing the generated lottery numbers.\n",
      "    \"\"\"\n",
      "    numbers = random.sample(range(1, 50), num_numbers)  # Generate unique numbers\n",
      "    return numbers\n",
      "\n",
      "if __name__ == \"__main__\":\n",
      "    lottery_numbers = generate_lottery_numbers()\n",
      "    print(lottery_numbers)\n",
      "```\n",
      "\n",
      "\n"
     ]
    }
   ],
   "source": [
    "# 결과 출력\n",
    "print(chain.invoke(\"로또 번호 생성기를 출력하는 코드를 작성하세요.\"))"
   ]
  },
  {
   "cell_type": "markdown",
   "metadata": {},
   "source": [
    "검색 API 도구\n",
    "\n",
    "Tavily 검색 API를 활용하여 검색 기능을 구현하는 도구입니다. 이 도구는 두 가지 주요 클래스를 제공합니다: TavilySearchResults와 TavilyAnswer."
   ]
  },
  {
   "cell_type": "code",
   "execution_count": 11,
   "metadata": {},
   "outputs": [],
   "source": [
    "from langchain_community.tools.tavily_search import TavilySearchResults\n",
    "\n",
    "# 도구 생성\n",
    "tool = TavilySearchResults(\n",
    "    max_results=6,\n",
    "    include_answer=True,\n",
    "    include_raw_content=True,\n",
    "    # include_images=True,\n",
    "    # search_depth=\"advanced\", # or \"basic\"\n",
    "    include_domains=[\"github.io\", \"wikidocs.net\"],\n",
    "    # exclude_domains = []\n",
    ")"
   ]
  },
  {
   "cell_type": "code",
   "execution_count": 12,
   "metadata": {},
   "outputs": [
    {
     "data": {
      "text/plain": [
       "[{'url': 'https://jbcodeforce.github.io/ML-studies/coding/langchain/',\n",
       "  'content': 'LangChain offers an API to the LLM called bind_tools to pass the definition of the tool, as part of each call to the model, so that the application can invoke the tool when appropriate.\\n\\nSee also the load tools api with a list of predefined tools.\\n\\nBelow is the classical application flow using tool calling. The exposed function wraps a remote microservice. [...] When developing a solution based on agent, consider the tools, the services, the agent needs to access. See a code example openAI_agent.py.\\n\\nMany LLM providers support for tool calling, including Anthropic, Cohere, Google, Mistral, OpenAI, see the existing LangChain tools.\\n\\nInteresting tools¶\\n\\nSearch recent news¶\\n\\nA common tool integrated in agent, is the Tavily search API, used to get the last trusted News, so the most recent information created after the cutoff date of the LLM. [...] LangChain Study¶\\n\\nIn LLM application there are a lot of steps to do, trying different prompting, integrating different LLMs, implementing conversation history, at the end there is a lot of glue code to implement.\\n\\nLangChain is a open-source framework for developing applications powered by large language models, connecting them to external data sources, and manage conversation with human.\\n\\nValue propositions¶'},\n",
       " {'url': 'https://langchain-ai.github.io/langgraph/tutorials/introduction/',\n",
       "  'content': \"[](https://langchain-ai.github.io/langgraph/tutorials/introduction/#__codelineno-9-1)Assistant: LangGraph is a library designed to help build stateful multi-agent applications using language models. It provides tools for creating workflows and state machines to coordinate multiple AI agents or language model interactions. LangGraph is built on top of LangChain, leveraging its components while adding graph-based coordination capabilities. It's particularly useful for developing more complex, [...] [](https://langchain-ai.github.io/langgraph/tutorials/introduction/#__codelineno-21-9)   LangGraph is developed by LangChain, a company known for its tools and frameworks in the AI and LLM space.\\n[](https://langchain-ai.github.io/langgraph/tutorials/introduction/#__codelineno-21-10)\\n[](https://langchain-ai.github.io/langgraph/tutorials/introduction/#__codelineno-21-11)3. Key Features: [...] [](https://langchain-ai.github.io/langgraph/tutorials/introduction/#__codelineno-21-23)   LangGraph works in conjunction with LangSmith, another tool by LangChain, to provide an out-of-the-box solution for building complex, production-ready features with LLMs.\\n[](https://langchain-ai.github.io/langgraph/tutorials/introduction/#__codelineno-21-24)\\n[](https://langchain-ai.github.io/langgraph/tutorials/introduction/#__codelineno-21-25)6. Significance:\"},\n",
       " {'url': 'https://langchain-ai.github.io/langgraph/',\n",
       "  'content': 'We use ChatAnthropic as our LLM. NOTE: we need to make sure the model knows that it has these tools available to call. We can do this by converting the LangChain tools into the format for OpenAI tool calling using the .bind_tools() method.\\nWe define the tools we want to use - a search tool in our case. It is really easy to create your own tools - see documentation here on how to do that here.\\n\\nInitialize graph with state. [...] Standardizing these components allows individuals and teams to focus on the behavior of their agent, instead of its supporting infrastructure.\\nThrough LangGraph Platform, LangGraph also provides tooling for the development, deployment, debugging, and monitoring of your applications.\\nLangGraph integrates seamlessly with LangChain and LangSmith (but does not require them). [...] [](https://langchain-ai.github.io/langgraph/#__codelineno-4-2)from langgraph.checkpoint.memory import MemorySaver\\n[](https://langchain-ai.github.io/langgraph/#__codelineno-4-3)from langchain_anthropic import ChatAnthropic\\n[](https://langchain-ai.github.io/langgraph/#__codelineno-4-4)from langchain_core.tools import tool\\n[](https://langchain-ai.github.io/langgraph/#__codelineno-4-5)\\n[](https://langchain-ai.github.io/langgraph/#__codelineno-4-6)# Define the tools for the agent to use'},\n",
       " {'url': 'https://langchain-ai.github.io/langchain-benchmarks/notebooks/tool_usage/intro.html',\n",
       "  'content': \"Name | Type | Dataset ID | Description\\nTool Usage - Typewriter (1 tool) | ToolUsageTask | 59577193-8938-4ccf-92a7-e8a96bcf4f86 | Environment with a single tool that accepts a single letter as input, and prints it on a piece of virtual paper.\\n\\nThe objective of this task is to evaluate the ability of the model to use the provided tools to repeat a given input string.\\n\\nFor example, if the string is 'abc', the tools 'a', 'b', and 'c' must be invoked in that order. [...] The objective of this task is to evaluate the ability to use the provided tools to solve simple math questions and ignore any innate knowledge about math.\\n\\nThis task is associated with 20 test examples.\\nLet’s understand what a tool usage task is in a bit more detail\\n\\nName | Tool Usage - Typewriter (26 tools)\\nType | ToolUsageTask\\nDataset ID | 128af05e-aa00-4e3b-a958-d166dd450581\\nDescription | Environment with 26 tools each tool represents a letter of the alphabet. [...] We’ll use the StandardAgentFactory which under the hood creates a standard LangChain tool calling agent. It can be used with any Chat Model that support tool calling.\\n\\nHere, were the instructions for the task\\n\\nLet’s test it out\\n\\nBenchmarking#\\n\\nHow does one evaluate an agent? Given a particular task and input, an agent uses tools to produce an output AND/OR change the state of the environment.\\n\\nTo evaluate an agent, we can check the following:\\n\\nDid the agent use the expected tools?\"},\n",
       " {'url': 'https://langchain-ai.github.io/langgraph/how-tos/tool-calling/',\n",
       "  'content': \"How to call tools using ToolNode¶\\nThis guide covers how to use LangGraph's prebuilt ToolNode for tool calling.\\nToolNode is a LangChain Runnable that takes graph state (with a list of messages) as input and outputs state update with the result of tool calls. It is designed to work well out-of-box with LangGraph's prebuilt ReAct agent, but can also work with any StateGraph as long as its state has a messages key with an appropriate reducer (see MessagesState).\\nSetup¶\"},\n",
       " {'url': 'https://langchain-ai.github.io/langchain-benchmarks/notebooks/getting_started.html',\n",
       "  'content': \"Name | Type | Dataset ID | Description\\nTool Usage - Typewriter (1 tool) | ToolUsageTask | 59577193-8938-4ccf-92a7-e8a96bcf4f86 | Environment with a single tool that accepts a single letter as input, and prints it on a piece of virtual paper.\\n\\nThe objective of this task is to evaluate the ability of the model to use the provided tools to repeat a given input string.\\n\\nFor example, if the string is 'abc', the tools 'a', 'b', and 'c' must be invoked in that order. [...] For example, multiplication of 5*3 will be re-interpreted as 5*3*1.1. The basic operations retain some basic properties, such as commutativity, associativity, and distributivity; however, the results are different than expected.\\n\\nThe objective of this task is to evaluate the ability to use the provided tools to solve simple math questions and ignore any innate knowledge about math.\"}]"
      ]
     },
     "execution_count": 12,
     "metadata": {},
     "output_type": "execute_result"
    }
   ],
   "source": [
    "# 도구 실행\n",
    "tool.invoke({\"query\": \"LangChain Tools 에 대해서 알려주세요\"})"
   ]
  },
  {
   "cell_type": "code",
   "execution_count": 13,
   "metadata": {},
   "outputs": [
    {
     "name": "stdout",
     "output_type": "stream",
     "text": [
      "Warning: days parameter is ignored for 'general' topic search. Set topic parameter to 'news' to use days.\n",
      "Warning: days parameter is ignored for 'general' topic search. Set topic parameter to 'news' to use days.\n",
      "기본 검색 결과: [\"<document><title>종각역 맛집 베스트 추천 top 10 - 코니코니 해피라이프</title><url>https://hotel-iu.tistory.com/4463</url><content>종각역 맛집 베스트 추천 top 10종각역 맛집 베스트 추천 top 10곳을 소개합니다. 1: 선비옥상호명: 선비옥주소: 서울특별시 종로구 관수동 160-1 지상1층(관수동)전화번호: 02-764-2214관련 키워드: ['평양물냉면', '함흥비빔냉면', '한우육회', '종로3가돼지갈비', '종로3가한우']관련 태그: ['데이트하기 좋은</content></document>\", \"<document><title>종각역 맛집 현지인 추천 베스트 10 (2024)</title><url>https://cncjsgody.mannerguard.com/entry/종각역-맛집-현지인-추천-베스트-10-2024</url><content>오늘의 추천\\\\n\\\\n종각역 맛집 현지인 추천 베스트 10 (2024)\\\\n\\\\n\\\\n\\\\n종각역 여행 중이라면 꼭 가봐야 할 현지인 추천 맛집을 소개합니다. 이번 포스팅에서는 종각역 현지인들이 자주 찾는 인기 맛집 10곳을 소개합니다. 종각역 특유의 맛과 분위기를 즐길 수 있는 다양한 음식점들을 만나보세요. 종각역에서만 맛볼 수 있는 특별한 메뉴를 통해 종각역 여행을 더욱 풍성하게 만들어보세요.\\\\n\\\\n\\\\n\\\\n\\\\n\\\\n\\\\n\\\\n1. 양연화로 종로직영점\\\\n\\\\n\\\\n\\\\n양연화로 종로직영점은 종각역 근처에서 맛있는 돼지고기구이를 즐길 수 있는 고기 전문점으로, 특히 삼겹살의 품질이 뛰어납니다. 신선한 재료와 깔끔한 화로구이 방식은 고기의 풍미를 한층 더 살려줍니다. 넓은 공간과 친절한 서비스 덕분에 가족 모임이나 친구들과의 식사 장소로도 인기가 많습니다. 종각고기집 중에서도 직영점의 신뢰와 맛으로 많은 사랑을 받고 있습니다.\\\\n\\\\n\\\\n\\\\n👉\\xa0양연화로 예약하러 바로가기\\\\n\\\\n\\\\n\\\\n\\\\n\\\\n\\\\n\\\\n2. 고메식당 [...] 고메식당은 오랜 역사와 전통을 자랑하며 미식가들에게 꾸준히 사랑받아온 종각의 대표 맛집입니다. 돼지고기구이의 부드러운 식감과 고소한 풍미가 일품이며, 단순한 식사를 넘어 특별한 미식 경험을 제공합니다. 편안한 분위기와 정성 어린 요리는 방문객들에게 잊지 못할 맛과 기억을 선사합니다.\\\\n\\\\n\\\\n\\\\n👉\\xa0고메식당 예약하러 바로가기\\\\n\\\\n\\\\n\\\\n\\\\n\\\\n\\\\n\\\\n3. 닥터로빈 광화문점\\\\n\\\\n\\\\n\\\\n\\\\n\\\\n닥터로빈 광화문점은 건강한 레시피로 남녀노소 모두가 즐길 수 있는 파스타와 리조또를 선보이는 광화문 디타워의 대표 맛집입니다. 특히, 건강한 재료를 기반으로 한 메뉴 구성은 웰빙을 추구하는 고객들에게 큰 호응을 얻고 있습니다. 세련된 분위기에서 건강하면서도 맛있는 이탈리안 요리를 맛볼 수 있는 특별한 공간입니다.\\\\n\\\\n\\\\n\\\\n👉\\xa0닥터로빈 예약하러 바로가기\\\\n\\\\n\\\\n\\\\n\\\\n\\\\n\\\\n\\\\n4. 미도갈비 [...] 미도갈비는 고기 요리를 사랑하는 이들에게 종각에서 꼭 추천할 만한 맛집입니다. 품질 좋은 육류를 정성껏 구워내는 방식으로 고기의 본연의 맛을 극대화시킵니다. 다양한 사이드 메뉴와 함께 어우러진 식사는 방문객들에게 특별한 식사 경험을 제공합니다.\\\\n\\\\n\\\\n\\\\n👉\\xa0미도갈비 예약하러 바로가기\\\\n\\\\n\\\\n\\\\n\\\\n\\\\n\\\\n\\\\n5. 한양중식 종로점\\\\n\\\\n\\\\n\\\\n\\\\n\\\\n한양중식 종로점은 종로타워에서 중식 요리의 진수를 느낄 수 있는 맛집으로, 특히 탕수육이 유명합니다. 부먹파에게 강력 추천되는 탕수육은 바삭한 튀김과 새콤달콤한 소스가 조화를 이루어 인상적입니다. 깔끔한 인테리어와 함께 수준 높은 중식 요리를 즐길 수 있는 공간입니다.\\\\n\\\\n\\\\n\\\\n👉\\xa0한양중식 예약하러 바로가기\\\\n\\\\n\\\\n\\\\n\\\\n\\\\n\\\\n\\\\n\\\\n\\\\n\\\\n\\\\n6. 익선잡방 브런치</content><raw>오늘의 추천\\n\\n종각역 맛집 현지인 추천 베스트 10 (2024)\\n\\n\\n\\n종각역 여행 중이라면 꼭 가봐야 할 현지인 추천 맛집을 소개합니다. 이번 포스팅에서는 종각역 현지인들이 자주 찾는 인기 맛집 10곳을 소개합니다. 종각역 특유의 맛과 분위기를 즐길 수 있는 다양한 음식점들을 만나보세요. 종각역에서만 맛볼 수 있는 특별한 메뉴를 통해 종각역 여행을 더욱 풍성하게 만들어보세요.\\n\\n\\n\\n\\n\\n\\n\\n1. 양연화로 종로직영점\\n\\n\\n\\n양연화로 종로직영점은 종각역 근처에서 맛있는 돼지고기구이를 즐길 수 있는 고기 전문점으로, 특히 삼겹살의 품질이 뛰어납니다. 신선한 재료와 깔끔한 화로구이 방식은 고기의 풍미를 한층 더 살려줍니다. 넓은 공간과 친절한 서비스 덕분에 가족 모임이나 친구들과의 식사 장소로도 인기가 많습니다. 종각고기집 중에서도 직영점의 신뢰와 맛으로 많은 사랑을 받고 있습니다.\\n\\n\\n\\n👉\\xa0양연화로 예약하러 바로가기\\n\\n\\n\\n\\n\\n\\n\\n2. 고메식당\\n\\n\\n\\n고메식당은 오랜 역사와 전통을 자랑하며 미식가들에게 꾸준히 사랑받아온 종각의 대표 맛집입니다. 돼지고기구이의 부드러운 식감과 고소한 풍미가 일품이며, 단순한 식사를 넘어 특별한 미식 경험을 제공합니다. 편안한 분위기와 정성 어린 요리는 방문객들에게 잊지 못할 맛과 기억을 선사합니다.\\n\\n\\n\\n👉\\xa0고메식당 예약하러 바로가기\\n\\n\\n\\n\\n\\n\\n\\n3. 닥터로빈 광화문점\\n\\n\\n\\n\\n\\n닥터로빈 광화문점은 건강한 레시피로 남녀노소 모두가 즐길 수 있는 파스타와 리조또를 선보이는 광화문 디타워의 대표 맛집입니다. 특히, 건강한 재료를 기반으로 한 메뉴 구성은 웰빙을 추구하는 고객들에게 큰 호응을 얻고 있습니다. 세련된 분위기에서 건강하면서도 맛있는 이탈리안 요리를 맛볼 수 있는 특별한 공간입니다.\\n\\n\\n\\n👉\\xa0닥터로빈 예약하러 바로가기\\n\\n\\n\\n\\n\\n\\n\\n4. 미도갈비\\n\\n\\n\\n\\n\\n미도갈비는 고기 요리를 사랑하는 이들에게 종각에서 꼭 추천할 만한 맛집입니다. 품질 좋은 육류를 정성껏 구워내는 방식으로 고기의 본연의 맛을 극대화시킵니다. 다양한 사이드 메뉴와 함께 어우러진 식사는 방문객들에게 특별한 식사 경험을 제공합니다.\\n\\n\\n\\n👉\\xa0미도갈비 예약하러 바로가기\\n\\n\\n\\n\\n\\n\\n\\n5. 한양중식 종로점\\n\\n\\n\\n\\n\\n한양중식 종로점은 종로타워에서 중식 요리의 진수를 느낄 수 있는 맛집으로, 특히 탕수육이 유명합니다. 부먹파에게 강력 추천되는 탕수육은 바삭한 튀김과 새콤달콤한 소스가 조화를 이루어 인상적입니다. 깔끔한 인테리어와 함께 수준 높은 중식 요리를 즐길 수 있는 공간입니다.\\n\\n\\n\\n👉\\xa0한양중식 예약하러 바로가기\\n\\n\\n\\n\\n\\n\\n\\n\\n\\n\\n\\n6. 익선잡방 브런치\\n\\n\\n\\n\\n\\n익선잡방은 익선동의 한옥 레스토랑으로, 살치살스테이크와 새우로제파스타 같은 독창적인 브런치 메뉴가 돋보이는 맛집입니다. 고조리서 수운잡방에서 영감을 얻어 다양한 레시피로 비스트로 메뉴를 선보이며, 느낌 있는 공간에서 올데이 브런치를 즐길 수 있습니다. 익선동의 독특한 매력을 경험하고 싶은 분들에게 추천합니다.\\n\\n\\n\\n👉\\xa0익선잡방 예약하러 바로가기\\n\\n\\n\\n\\n\\n\\n\\n7. 모던샤브하우스 광화문D타워점\\n\\n\\n\\n\\n\\n모던샤브하우스 광화문D타워점은 고급스러운 분위기 속에서 신선한 재료로 만든 샤브샤브를 맛볼 수 있는 광화문역 맛집입니다. 육수와 채소, 고기의 조화가 훌륭하며, 건강하고 든든한 식사를 원하는 분들에게 적합합니다. 종로 샤브샤브 맛집 중에서도 세련된 맛과 분위기를 자랑합니다.\\n\\n\\n\\n👉\\xa0모던샤브하우스 예약하러 바로가기\\n\\n\\n\\n\\n\\n\\n\\n8. 인사동마늘보쌈\\n\\n\\n\\n\\n\\n인사동마늘보쌈은 쌈지길 근처에서 마늘의 깊은 풍미와 함께 보쌈 요리를 즐길 수 있는 인사동 맛집입니다. 부드럽고 촉촉한 보쌈과 고소한 마늘소스가 어우러져 특별한 맛을 선사합니다. 가족이나 친구들과의 식사 자리에서 기억에 남을 만한 메뉴를 제공합니다.\\n\\n\\n\\n👉\\xa0인사동마늘보쌈 예약하러 바로가기\\n\\n\\n\\n\\n\\n\\n\\n9. 기러기둥지 익선동 본점\\n\\n\\n\\n\\n\\n기러기둥지 익선동 본점은 편안한 분위기와 따뜻한 공간에서 사랑하는 사람들과의 시간을 보낼 수 있는 양식 맛집입니다. 철새처럼 바쁜 삶 속에서 잠시 쉬어갈 둥지 같은 공간을 추구하며, 다양한 양식 요리를 제공합니다. 익선동의 감성적인 분위기를 만끽할 수 있는 특별한 장소입니다.\\n\\n\\n\\n👉\\xa0기러기둥지 예약하러 바로가기\\n\\n\\n\\n\\n\\n\\n\\n10. 진중 우육면관\\n\\n\\n\\n\\n\\n진중 우육면관은 미쉐린 서울 2024에 선정된 아시아 요리 전문점으로, 깊은 풍미의 우육면이 대표 메뉴입니다. 고급스러운 맛과 정통 스타일을 고수하며, 종각역 인근에서 특별한 아시아 요리를 경험할 수 있는 곳입니다. 정성껏 준비된 요리는 미식가들에게 특별한 만족감을 선사합니다.\\n\\n\\n\\n\\n\\n\\n\\n\\n\\n종각역을 방문할 때 꼭 한 번 가보면 좋을 맛집들을 소개해드렸습니다. 마음에 드는 곳이 있었나요? 여행 중 맛있는 음식을 먹는 것도 중요한 즐거움 중 하나입니다. 종각역의 현지인 맛집에서 잊지 못할 맛과 추억을 남기세요.\\n\\n\\n\\n'추천이요' 카테고리의 다른 글\\n\\n발산역 맛집 현지인 추천 베스트 10 (2024)(0) | 2024.12.19\\n군자동 맛집 현지인 추천 베스트 10 (2024)(0) | 2024.12.19\\n숙대입구역 맛집 현지인 추천 베스트 10 (2024)(0) | 2024.12.18\\n선릉역 맛집 현지인 추천 베스트 10 (2024)(0) | 2024.12.18\\n삼성역 맛집 현지인 추천 베스트 10 (2024)(0) | 2024.12.18\\n관련글\\n\\nDesigned by 티스토리\\n\\n© Kakao Corp.\\n\\n티스토리툴바\\n\\n\\n\\n</raw></document>\", '<document><title>종각역에서 꼭 가봐야 할 맛집 10곳! | 맛집 추천, 종각역, 식사 장소 - peppercorntc</title><url>https://peppercorntc.com/종각역에서-꼭-가봐야-할-맛집-10곳-맛집-추천-종각역/</url><content>종각역에서 꼭 가봐야 할 맛집 10곳! 서울의 중심부에 위치한 종각역은 다양한 식사 장소가 밀집해 있어 많은 이들에게 사랑받고 있습니다. 먼저, 신선한 해산물이 가득한 해물탕집을 추천합니다. 깊고 진한 국물 맛이 일품입니다. 또한, 소박한 분위기의 백반집도 인기인데, 따끈한 찌개와 정갈한</content></document>', '<document><title>종각역 점심 맛집 리스트 - 2편 - 네이버 블로그</title><url>https://m.blog.naver.com/yeseuldp/223199524050</url><content>서울특별시 종로구 우정국로 26 센트로폴리스 B동 2층\\\\n\\\\n\\u200b\\\\n\\\\n계속해서, 종각 점심 맛집이자 센트로폴리스 맛집!\\\\n\\\\n마이클바이해비치 종로 (michael’s by HAEVICHI)\\\\n\\\\n\\u200b\\\\n\\\\n\\u200b\\\\n\\\\n\\u200b\\\\n\\\\n\\u200b\\\\n\\\\n여기도 앞서 소개해드린 중식당 중심과 마찬가지로 센트로폴리스 2층 로비에 위치하고 있고 해비치에서 운영하는 다이닝입니다. 코스메뉴도 있고 단품도 있어요. 룸도 마련되어 있답니다. 종각역 룸식당 찾으실 때 참고하세요!\\\\n\\\\n\\u200b\\\\n\\\\n\\u200b\\\\n\\\\n\\u200b\\\\n\\\\n\\u200b\\\\n\\\\n마이클바이해비치..\\\\n\\\\n요즘은 자주 안 가지만 제가 다른 직무일 때 특히 정말 자주 먹었던 곳인데요. 근데 여기도 가격대가 있어서.. 누가 사줄 때 가세요ㅋㅋㅋㅋㅋ\\\\n\\\\n\\u200b\\\\n\\\\n\\u200b\\\\n\\\\n\\u200b\\\\n\\\\n\\u200b\\\\n\\\\n보통 평일 점심 만석일 때가 많고, 그럴 땐 포장을 이용하셔도 되는데요. 저는 메뉴 중에 마이클 시그니처버거를 제일 많이 먹은 것 같아요.\\\\n\\\\n\\u200b\\\\n\\\\n\\u200b\\\\n\\\\n\\u200b\\\\n\\\\n\\u200b\\\\n\\\\n포장할 땐.. [...] 짠- 저는 세 명이 갔었나봐요.\\\\n\\\\n우선 회, 초밥 그리고 각종 반찬들이 보이네용~\\\\n\\\\n\\u200b\\\\n\\\\n\\u200b\\\\n\\\\n\\u200b\\\\n\\\\n\\u200b\\\\n\\\\n여기는 진짜.. 회도 맛있는데 반찬이 대박이에여ㅠㅠ\\\\n\\\\n감자조림, 고등어조림, 오징어볶음.. 저 조림들이 최고세요 크휴~~~ 조만간 가야겠어요.\\\\n\\\\n\\u200b\\\\n\\\\n\\u200b\\\\n\\\\n\\u200b\\\\n\\\\n\\u200b\\\\n\\\\n종각역 점심 맛집 리스트 2탄!!!\\\\n\\\\n\\u200b\\\\n\\\\n✔️ 중심 종로 (중식당)\\\\n\\\\n✔️ 엄용백돼지국밥 (국밥)\\\\n\\\\n✔️ 마이클바이해비치 (양식)\\\\n\\\\n✔️ 서린낙지 견지점 (낙지볶음)\\\\n\\\\n✔️ 안래홍 (중국집)\\\\n\\\\n✔️ 진순대 (순댓국)\\\\n\\\\n✔️ 포도나무 (플라워&와인&파스타)\\\\n\\\\n✔️ 황산 샤브샤브 (훠궈)\\\\n\\\\n✔️ 남대문 막내횟집 광교점 (점심특선 회 정식)\\\\n\\\\n\\u200b\\\\n\\\\n이번엔 여기까지만 쓰도록 할게요~~~\\\\n\\\\n\\u200b\\\\n\\\\n\\u200b\\\\n\\\\n⬆️ 영상으로도 확인 가능합니다!\\\\n\\\\n\\u200b\\\\n\\\\n\\u200b\\\\n\\\\n안녕하세요! 센트로폴리스에 근무중인 종로 직장인입니다. 매번 종각역 점심맛집 검색하다가, ‘내가 가는 ...\\\\n\\\\nm.blog.naver.com\\\\n\\\\n⬆️ 종각역 점심 맛집 리스트 2 [...] 맛있을 때도 있고 맛이 좀 덜할 때도 있고 그랬던 것 같아요. 그날 오전 업무에 따른 기분 탓일지도ㅎㅎㅎㅎㅎ\\\\n\\\\n\\u200b\\\\n\\\\n\\u200b\\\\n\\\\n\\u200b\\\\n\\\\n\\u200b\\\\n\\\\n이날은 시그니처버거 아니고 치킨버거~\\\\n\\\\n저는 햄버거를 좋아하고 특히 치킨 버거 좋아해서 시그니처버거 다음으로 많이 먹은 메뉴입니다. 물론 해비치 메뉴 중에 버거류가 가장 포장이 간편하고 가격도 제일 괜찮아요.\\\\n\\\\n\\u200b\\\\n\\\\n\\u200b\\\\n\\\\n\\u200b\\\\n\\\\n\\u200b\\\\n\\\\n감튀도 같이 나오는데 그냥 그래요!\\\\n\\\\n여기도 개인적으로 지인이 종각 놀러왔을 때나 가족들이랑 저녁에 몇 번 갔었어요. 분위기 좋아서 중요한 분 모시고 오거나 생일파티, 청첩장모임 장소로도 괜찮을 것 같아요. 제가 버거 사진만 올렸지만 파스타, 스테이크 등 다양한 메뉴가 있습니다.\\\\n\\\\n\\u200b\\\\n\\\\n\\u200b\\\\n\\\\n\\u200b\\\\n\\\\n\\u200b\\\\n\\\\n서린낙지 견지점 (낙지볶음)\\\\n\\\\n서울특별시 종로구 삼봉로 95 종로1가 대성 스카이렉스\\\\n\\\\n\\u200b\\\\n\\\\n이어지는 종각역 점심 맛집, 서린낙지입니다.</content><raw>블로그\\n\\n카테고리 이동\\n\\n\\n\\n\\n출근만큼여행 - yeseul time\\n\\n종각역 점심 맛집 리스트 - 2편\\n\\n2023. 9. 1. 12:44\\n\\n\\u200b\\n\\n안녕하세요!\\n\\n#출근만큼맛집 오늘은 종각역 점심 맛집 리스트 2편을 시작해볼게요. 작년 봄에 올린 1편 포스팅에 많은 분들이 관심을 보여주셨는데요. 이제서야 2편을 올리네요~\\n\\n\\u200b\\n\\n저는 종각역 3-1번 출구, 센트로폴리스에 근무 중이고 점심 빨리 먹고 쉬는 걸 좋아하는 스타일이라 제가 소개하는 대다수의 점심 맛집들이 종각역과 회사 근처(종각)인 점 참고하세요ㅎㅎㅎㅎ\\n\\n\\u200b\\n\\n\\u200b\\n\\n중심 종로 (중식당)\\n\\n서울특별시 종로구 우정국로 26 센트로폴리스 B동 2층\\n\\n\\u200b\\n\\n센트로폴리스 맛집으로 유명한, 종로 중심\\n\\n중식당 중심은 센트로폴리스 로비(2층)에 위치하고 있는 고급 중국집입니다.\\n\\n\\u200b\\n\\n\\u200b\\n\\n\\u200b\\n\\n\\u200b\\n\\n원래 이 정도 아니었는데 입주사들이 많아져서인지,\\n\\n어느 순간부터 평일 점심은 항상 만석이더라고요.\\n\\n당일 예약은 거의 안된다고 봐야 하고 사전 예약해야 먹을 수 있어요.\\n\\n\\u200b\\n\\n\\u200b\\n\\n\\u200b\\n\\n\\u200b\\n\\n내부 인테리어가 깔끔하고 분위기가 고급스러워서,\\n\\n평일 점심에 외부 손님 대접하거나 중요한 분들과 가기 좋은 곳이에요~ 저는 개인적으로 가족, 지인들과 평일 저녁 그리고 주말에 방문하기도 해요!\\n\\n\\u200b\\n\\n주변 얘기 들어보니, 룸이 있어서 상견례도 많이 하러 온다고 하더라고요. 종로 상견례 장소 찾으시는 분들 참고하세요! 종각역 근처 임원 식사 장소 찾으실 때도 괜찮으실 거예요~~~\\n\\n\\u200b\\n\\n\\u200b\\n\\n\\u200b\\n\\n\\u200b\\n\\n가기는 자주 갔었는데 음식 사진은 많이 안 찍었네요.\\n\\n마파두부덮밥, 삼선짬뽕, 소고기 탕수육, 볶음밥, 짜장면 등 기본 메뉴들 주로 먹었는데요. 음식도 깔끔하고 대체로 맛있는 편입니다^^ 자주 가고 싶어요ㅎㅎㅎㅎㅎ\\n\\n\\u200b\\n\\n\\u200b\\n\\n\\u200b\\n\\n엄용백돼지국밥 종각점 (국밥)\\n\\n서울특별시 종로구 인사동3길 20\\n\\n\\u200b\\n\\n다음은, 엄용백돼지국밥입니다.\\n\\n부산에서 유명한 엄용백돼지국밥을 서울에서도 즐길 수 있어요! 종각역에서 인사동 가는 길에 위치하고 있는데요.\\n\\n\\u200b\\n\\n\\u200b\\n\\n\\u200b\\n\\n\\u200b\\n\\n본관(우측)과 별관(좌측)이 바로 옆에 자리잡고 있어요. 요즘은 어떤지 모르겠는데 제가 자주 갈 때만 해도, 미리 테이블링으로 원격줄서기 하고 갔어요. 대기가 워낙 길어서 미리 등록 안 해놓으면 엄청 늦게 먹어야 함ㅠㅠ\\n\\n\\u200b\\n\\n\\u200b\\n\\n\\u200b\\n\\n\\u200b\\n\\n저는 주로 점심에 가봤는데,\\n\\n저녁에 수육에 술 한 잔 하기 딱이라고 하시더라고요.\\n\\n대만취 조합~~~\\n\\n\\u200b\\n\\n\\u200b\\n\\n\\u200b\\n\\n\\u200b\\n\\n종각역 점심 맛집 엄용백돼지국밥 메뉴는,\\n\\n수육 / 맑은 부산식 국밥 / 진한 밀양식 국밥이 있어요.\\n\\n국밥은 밥과 고기가 국에 말아 나오고,\\n\\n백반은 국•밥•고기가 각각 따로 나옵니다.\\n\\n저는 맑은 부산식을 더 선호해요^^\\n\\n\\u200b\\n\\n\\u200b\\n\\n\\u200b\\n\\n\\u200b\\n\\n명란젓보단 어리굴젓이 어마아마하게 맛있는데 주문 가능한 시즌이 따로 있어서 항상 먹을 수 있는 건 아니더라고요. 여럿이 가면 보통 명란젓이나 어리굴젓 사이드로 시키는 편이에요. 국밥집의 기본을 갖춘 게, 김치도 아주 맛있어요.\\n\\n\\u200b\\n\\n\\u200b\\n\\n\\u200b\\n\\n\\u200b\\n\\n\\u200b\\n\\n이건 맑은 부산식 수육백반입니다!\\n\\n조금 더 국물이 뜨거우면 좋겠는 건 제 개인적인 바람입니다. 그럼 더 맛있을텐데..\\n\\n\\u200b\\n\\n\\u200b\\n\\n\\u200b\\n\\n\\u200b\\n\\n수육백반으로 나오는 수육, 알차고 실해요^^\\n\\n맛있고 좋은데 아무래도 대기 걸고 타이밍 맞춰 일찍 나가고 하는 게 일이다 보니 회사분들과는 자주 안 가게 되더라고요. 일행 전원 도착해야 입장 가능하고요.\\n\\n\\u200b\\n\\n\\u200b\\n\\n\\u200b\\n\\n\\u200b\\n\\n가끔 종각에 친구 놀러오거나 했을 때,\\n\\n종각역 점심 맛집 데려가야 할 때 주로 찾는 엄용백돼지국밥!\\n\\n\\u200b\\n\\n\\u200b\\n\\n\\u200b\\n\\n\\u200b\\n\\n이건 또 다른 날이에요.\\n\\n국밥 먹고 싶을 때 제일 먼저 생각나는 종각역 맛집입니다~~~\\n\\n\\u200b\\n\\n\\u200b\\n\\n\\u200b\\n\\n마이클바이해비치 종로 (양식)\\n\\n서울특별시 종로구 우정국로 26 센트로폴리스 B동 2층\\n\\n\\u200b\\n\\n계속해서, 종각 점심 맛집이자 센트로폴리스 맛집!\\n\\n마이클바이해비치 종로 (michael’s by HAEVICHI)\\n\\n\\u200b\\n\\n\\u200b\\n\\n\\u200b\\n\\n\\u200b\\n\\n여기도 앞서 소개해드린 중식당 중심과 마찬가지로 센트로폴리스 2층 로비에 위치하고 있고 해비치에서 운영하는 다이닝입니다. 코스메뉴도 있고 단품도 있어요. 룸도 마련되어 있답니다. 종각역 룸식당 찾으실 때 참고하세요!\\n\\n\\u200b\\n\\n\\u200b\\n\\n\\u200b\\n\\n\\u200b\\n\\n마이클바이해비치..\\n\\n요즘은 자주 안 가지만 제가 다른 직무일 때 특히 정말 자주 먹었던 곳인데요. 근데 여기도 가격대가 있어서.. 누가 사줄 때 가세요ㅋㅋㅋㅋㅋ\\n\\n\\u200b\\n\\n\\u200b\\n\\n\\u200b\\n\\n\\u200b\\n\\n보통 평일 점심 만석일 때가 많고, 그럴 땐 포장을 이용하셔도 되는데요. 저는 메뉴 중에 마이클 시그니처버거를 제일 많이 먹은 것 같아요.\\n\\n\\u200b\\n\\n\\u200b\\n\\n\\u200b\\n\\n\\u200b\\n\\n포장할 땐..\\n\\n맛있을 때도 있고 맛이 좀 덜할 때도 있고 그랬던 것 같아요. 그날 오전 업무에 따른 기분 탓일지도ㅎㅎㅎㅎㅎ\\n\\n\\u200b\\n\\n\\u200b\\n\\n\\u200b\\n\\n\\u200b\\n\\n이날은 시그니처버거 아니고 치킨버거~\\n\\n저는 햄버거를 좋아하고 특히 치킨 버거 좋아해서 시그니처버거 다음으로 많이 먹은 메뉴입니다. 물론 해비치 메뉴 중에 버거류가 가장 포장이 간편하고 가격도 제일 괜찮아요.\\n\\n\\u200b\\n\\n\\u200b\\n\\n\\u200b\\n\\n\\u200b\\n\\n감튀도 같이 나오는데 그냥 그래요!\\n\\n여기도 개인적으로 지인이 종각 놀러왔을 때나 가족들이랑 저녁에 몇 번 갔었어요. 분위기 좋아서 중요한 분 모시고 오거나 생일파티, 청첩장모임 장소로도 괜찮을 것 같아요. 제가 버거 사진만 올렸지만 파스타, 스테이크 등 다양한 메뉴가 있습니다.\\n\\n\\u200b\\n\\n\\u200b\\n\\n\\u200b\\n\\n\\u200b\\n\\n서린낙지 견지점 (낙지볶음)\\n\\n서울특별시 종로구 삼봉로 95 종로1가 대성 스카이렉스\\n\\n\\u200b\\n\\n이어지는 종각역 점심 맛집, 서린낙지입니다.\\n\\n서린낙지는 르메이에르에 본점이 있고 대성스카이렉스에 견지점이 있는데요. 두 지점 사장님이 서로 친척이라고 들었던 것 같아요. 식재료 자체가 낙지다 보니, 양에 비해 가격대는 높죠. (성시경 먹을텐데에 나온 건 르메이에르 서린낙지)\\n\\n\\u200b\\n\\n\\u200b\\n\\n\\u200b\\n\\n\\u200b\\n\\n사진에서 이렇게 푸짐해 보이는 건,\\n\\n아마 낙지 2 + 베이컨소시지 2 이었던 것 같아요.\\n\\n보통 낙지 시킬 때 베이컨소시지는 거의 다 필수로 시키는 것 같아요!!!\\n\\n\\u200b\\n\\n\\u200b\\n\\n\\u200b\\n\\n\\u200b\\n\\n맛있게 맵고, 더도 말고 한 달에 딱 한 번 정도씩 가고 싶은 서린낙지입니다. 아! 요청하면 비벼 먹을 수 있는 큰 그릇에 참기름 조금 담아서 주시니 참고하세요ㅎㅎㅎㅎㅎ (오늘 점심에 마침 다녀옴)\\n\\n\\u200b\\n\\n\\u200b\\n\\n\\u200b\\n\\n\\u200b\\n\\n안래홍 (중국집)\\n\\n서울특별시 종로구 종로7길 43\\n\\n\\u200b\\n\\n회사 맞은편에 위치한 중국집 안래홍!\\n\\n아마 점심식사로 가장 많이 간 곳일 수도 있어요.\\n\\n아무래도 중국음식이 가장 편하게 고를 수 있는 메뉴다 보니~~~ 그리고 짜장면/짬뽕/밥류 등 메뉴 선택권도 많으니까요!\\n\\n\\u200b\\n\\n\\u200b\\n\\n\\u200b\\n\\n\\u200b\\n\\n예약 받아주시고, 룸도 있어요.\\n\\n저희는 항상 당일 예약하고 가는데요.\\n\\n11:40쯤, 들어갈 때 보면 거의 웨이팅 있는 날이 많았어요.\\n\\n\\u200b\\n\\n\\u200b\\n\\n\\u200b\\n\\n\\u200b\\n\\n요리를 시켜야 룸 이용 가능해요.\\n\\n종각역 점심 룸식당 필요하실 때, 저녁 회식 룸식당 필요하실 때 괜찮으실 거예요. 대체로 맛있는 날이 많고 가격 대비 요리류도 굿굿! 유니짜장이 유명합니다~ (최근엔 안 먹었었음)\\n\\n\\u200b\\n\\n\\u200b\\n\\n\\u200b\\n\\n진순대 (순댓국)\\n\\n서울특별시 종로구 삼봉로 80-12\\n\\n\\u200b\\n\\n다음은 종로 진순대입니다.\\n\\n해장으로 순댓국(순대국) 찾으시는 분들 많으시죠~~~\\n\\n제가 지나가며 볼 때마다 항상 웨이팅이 엄청난 해장맛집입니다.\\n\\n\\u200b\\n\\n\\u200b\\n\\n\\u200b\\n\\n\\u200b\\n\\n저는 두 번인가 가본 것 같아요.\\n\\n좋아하시는 분들 되게 많은데, 개인적으로 제가 막 선호하는 맛은 아니에요. 물론 맛있음!!! 순대라면과 얼큰순대국이 유명한 것 같더라고요~~~\\n\\n\\u200b\\n\\n\\u200b\\n\\n\\u200b\\n\\n\\u200b\\n\\n기본 순대국 외에도 얼큰이순대국, 순대라면, 술국 등이 있습니다. 그러고 보니 안 간지 되게 오래됐네요.\\n\\n\\u200b\\n\\n\\u200b\\n\\n\\u200b\\n\\n\\u200b\\n\\n요런 느낌!\\n\\n사실 간 지 좀 돼서 이게 얼큰이였는지 순대라면이었는지 잘 기억이 안나요🥹\\n\\n\\u200b\\n\\n\\u200b\\n\\n종각 포도나무 (양식)\\n\\n서울특별시 종로구 율곡로4길 51 1F\\n\\n\\u200b\\n\\n이번엔 좀 멀리 걸어나가봤습니다ㅎㅎㅎㅎㅎㅎ\\n\\n종각 플라워&와인 포도나무!  꽃, 그리고 와인이 있는 종각 파스타 맛집이었는데요.\\n\\n\\u200b\\n\\n\\u200b\\n\\n\\u200b\\n\\n\\u200b\\n\\n플라워샵도 함께 하시는 것 같더라고요.\\n\\n꽃이 많으니 분위기가 더 좋아보이는 느낌-\\n\\n\\u200b\\n\\n\\u200b\\n\\n\\u200b\\n\\n\\u200b\\n\\n와인도 마시고 싶었지만..🍷\\n\\n점심이라 아쉬웠어요ㅠㅠ 뭔가 소개팅 많이 할 것 같은 분위기더라고요. 종각역 소개팅 맛집 포도나무^^\\n\\n\\u200b\\n\\n\\u200b\\n\\n\\u200b\\n\\n\\u200b\\n\\n내부는 사진보다 더 어두워요.\\n\\n특히 이 자리 말고 저희가 안내받은 자리는 진짜로 깜깜할 정도였어요ㅋㅋㅋㅋㅋㅋㅋㅋㅋㅋ\\n\\n\\u200b\\n\\n\\u200b\\n\\n\\u200b\\n\\n\\u200b\\n\\n진-짜 맛있게 먹었어요.\\n\\n가까우면 또 가고 싶을 정도로 제가 좋아하는 맛이었는데.. 좀 걸어가야하다 보니 저 때 이후로 못갔네여..\\n\\n지금 찾아보니까 생일이벤트로, 생일 앞뒤 일주일 기간 내 방문 시 5만원 상당의 꽃다발을 주신대요!!! 디너로 생일이벤트 적용받으실 분들 참고하셔도 좋을 것 같네요. (와인 1보틀 주문 필수)\\n\\n\\u200b\\n\\n\\u200b\\n\\n종로 황산샤브샤브 (훠궈)\\n\\n서울특별시 종로구 삼봉로 81 두산위브파빌리온 지하1층 104호 황산샤브샤브\\n\\n\\u200b\\n\\n종각/광화문에서 가성비 훠궈 찾으시는 분들, 황산샤브샤브 추천드려요. 두산위브파빌리온 지하에 위치하고 있는데요. 여러 번 가 봤어요~~~\\n\\n\\u200b\\n\\n\\u200b\\n\\n\\u200b\\n\\n\\u200b\\n\\n중국식 샤브샤브인 훠궈~\\n\\n평일 점심 소/양고기 샤브샤브 정식이 12,000원이에요! 꿔바로우 서비스 포함이고요^^\\n\\n\\u200b\\n\\n\\u200b\\n\\n\\u200b\\n\\n\\u200b\\n\\n자리는 넓어서 따로 예약 없이 다녀왔었고요.\\n\\n저도 어른이긴 하지만..ㅎㅎㅎㅎ 다른 어른들은 대체로 훠궈 안 드셔서 젊은이들 있을 때만 갈 수 있는 종각 훠궈 맛집이에요. 훠궈는 황산샤브샤브, 마라탕은 마라공방^^\\n\\n\\u200b\\n\\n\\u200b\\n\\n\\u200b\\n\\n\\u200b\\n\\n홍탕, 백탕, 반찬들과 야채 그리고 숙주나물~\\n\\n세팅 시작!\\n\\n\\u200b\\n\\n\\u200b\\n\\n\\u200b\\n\\n\\u200b\\n\\n소스도 나오는데 하나씩 다 래핑해두시더라고요.\\n\\n나름 위생적이어서 맘에 듭니다ㅋㅋㅋㅋㅋㅋㅋㅋ\\n\\n\\u200b\\n\\n\\u200b\\n\\n\\u200b\\n\\n\\u200b\\n\\n고기, 면, 버섯, 만두, 감자 등 푸짐한 정식 한 상이 나왔습니다~! 크 구성 넘 맘에 드네요. 점심에 이렇게 헤비하게 먹는 거 아주 조아쒀~~~\\n\\n\\u200b\\n\\n\\u200b\\n\\n\\u200b\\n\\n\\u200b\\n\\n서비스로 나오는 꿔바로우도 맛있어요~~~\\n\\n사진은 맛 없어보이긴 하는데 맛있어요;;;\\n\\n\\u200b\\n\\n\\u200b\\n\\n\\u200b\\n\\n\\u200b\\n\\n맛있어보이죠!!!\\n\\n고기 퀄리티도 괜찮고, 가성비 아주 맘에 들고 난리~\\n\\n홍탕 혹시 좀 연한 것 같으면 아마도 마라 소스 주시거든요, 원하는 만큼 넣으면서 입맛에 맞춰 조절하면 돼요!\\n\\n종각역에서 훠궈 생각날 땐, 황산으루>.<\\n\\n\\u200b\\n\\n\\u200b\\n\\n남대문 막내횟집 광교점 (회 정식)\\n\\n서울특별시 종로구 우정국로 4-1\\n\\n\\u200b\\n\\n종각역 점심 맛집 2탄의 마지막 주인공은요,\\n\\n남대문 막내횟집 광교점~~~\\n\\n여긴 점심특선 진짜 폼 미쳤음!!!!\\n\\n\\u200b\\n\\n\\u200b\\n\\n\\u200b\\n\\n\\u200b\\n\\n토석정도 회사 분들 병어조림 드시러 종종 가시던데, 같은 건물인가봐요~~~ 점심에 먹는 회라니! 행복행*_*\\n\\n\\u200b\\n\\n\\u200b\\n\\n\\u200b\\n\\n\\u200b\\n\\n점심특선 메뉴 보세요! 가성비 무슨 일인지..\\n\\n회정식 + 매운탕이 13,000원인데, 게다가 선착순으로 초밥도 서비스로 주세요🙏🏻 회 정식 말고 단품으로 회덮밥이나 알밥도 있어요~~~\\n\\n\\u200b\\n\\n\\u200b\\n\\n\\u200b\\n\\n\\u200b\\n\\n회 메뉴들과 해산물도 이렇게 준비되어 있어요.\\n\\n맛도리 좋아하시는 분들은 이미 다 알고 다니시는 남대문막내횟집ㅎㅎㅎㅎㅎㅎㅎ 특히 점심 특선!!!\\n\\n\\u200b\\n\\n\\u200b\\n\\n\\u200b\\n\\n\\u200b\\n\\n짠- 저는 세 명이 갔었나봐요.\\n\\n우선 회, 초밥 그리고 각종 반찬들이 보이네용~\\n\\n\\u200b\\n\\n\\u200b\\n\\n\\u200b\\n\\n\\u200b\\n\\n여기는 진짜.. 회도 맛있는데 반찬이 대박이에여ㅠㅠ\\n\\n감자조림, 고등어조림, 오징어볶음.. 저 조림들이 최고세요 크휴~~~ 조만간 가야겠어요.\\n\\n\\u200b\\n\\n\\u200b\\n\\n\\u200b\\n\\n\\u200b\\n\\n종각역 점심 맛집 리스트 2탄!!!\\n\\n\\u200b\\n\\n✔️ 중심 종로 (중식당)\\n\\n✔️ 엄용백돼지국밥 (국밥)\\n\\n✔️ 마이클바이해비치 (양식)\\n\\n✔️ 서린낙지 견지점 (낙지볶음)\\n\\n✔️ 안래홍 (중국집)\\n\\n✔️ 진순대 (순댓국)\\n\\n✔️ 포도나무 (플라워&와인&파스타)\\n\\n✔️ 황산 샤브샤브 (훠궈)\\n\\n✔️ 남대문 막내횟집 광교점 (점심특선 회 정식)\\n\\n\\u200b\\n\\n이번엔 여기까지만 쓰도록 할게요~~~\\n\\n\\u200b\\n\\n\\u200b\\n\\n⬆️ 영상으로도 확인 가능합니다!\\n\\n\\u200b\\n\\n\\u200b\\n\\n안녕하세요! 센트로폴리스에 근무중인 종로 직장인입니다. 매번 종각역 점심맛집 검색하다가, ‘내가 가는 ...\\n\\nm.blog.naver.com\\n\\n⬆️ 종각역 점심 맛집 리스트 2\\n\\n\\u200b\\n\\n저는 그럼 또 맛있게 먹으러 다니다,\\n\\n종각역 점심 맛집 리스트 3편으로 돌아올게요!!!\\n\\n카테고리\\n\\n</raw></document>', '<document><title>[1호선] 종각역 맛집 베스트 5 추천, 모두를 위한 맛집 - 음식공감</title><url>https://gftr.tistory.com/entry/1%ED%98%B8%EC%84%A0-%EC%A2%85%EA%B0%81%EC%97%AD%EB%A7%9B%EC%A7%91-%EB%B2%A0%EC%8A%A4%ED%8A%B85%EC%B6%94%EC%B2%9C-%EB%AA%A8%EB%91%90%EB%A5%BC%EC%9C%84%ED%95%9C%EB%A7%9B%EC%A7%91</url><content>1. 종각역 맛집 \\\\\"방이옥 종로관철점\\\\\" · 2. 종각역 맛집 \\\\\"달래해장 종각점\\\\\" · 3. 종각역 맛집 \\\\\"종로도담\\\\\" · 4. 종각역 맛집 \\\\\"한양중식 종로점\\\\\" · 5. 종각역</content></document>', '<document><title>종각역 맛집 점심 추천 진중 우육면관 : 네이버 블로그</title><url>https://m.blog.naver.com/mjeeeee/223800860145</url><content>종각역 맛집 진중 우육면관은 1. 종각역 5분, 을지로입구역 6분, 을지로3가역 9분, 종로3가역에서. 도보 11분으로 접근성이 좋고 2. 청계천뷰 간단한 식사 또는. 데이트하기 좋은 종각역 점심 맛집. 3. 서울에서 즐기는 맛있는 본고장 우육면 이라는 점에서 추천하고</content></document>', '<document><title>[1호선] 종각역 맛집 베스트 5 추천, 모두를 위한 맛집</title><url>https://foodtriplove.com/entry/1호선-종각역맛집-베스트5추천-모두를위한맛집</url><content>네이버 플랫폼에서 확인 가능한 방문자 수와 네이버 블로그에서 작성된 리뷰 수를 고려하여 대중들의 평가를 확인하고, 네이버 리뷰 글을 직접 분석하여 방문자들의 경험과 인기 음식을 파악합니다. ... 종각역 맛집 \\\\\"방이옥 종로관철점\\\\\" 방이옥 종로관철점 위치</content></document>', \"<document><title>'종각역' 맛집 빅데이터 추천순위 Top100 - 다이닝코드</title><url>https://www.diningcode.com/list.dc?query=%EC%A2%85%EA%B0%81%EC%97%AD</url><content>종각역맛집 (726곳) · 1. 진중 우육면관 청계천점 · 2. 광화문 미진 본점 · 3. 청진옥 광화문 · 4. 우육면관 광화문점 · 5. 스시소라 광화문 · 6. 후니도니 광화문 · 7.</content></document>\", '<document><title>종각역 내돈내산 20개 점심맛집 총정리 - 네이버블로그</title><url>https://blog.naver.com/PostView.nhn?blogId=analyze7&logNo=223659522597&redirect=Dlog&widgetTypeCall=true</url><content>#종각맛집 #안국역맛집 #종각점심 #인사동맛집 #광화문김밥 #조금 #흥부가 #낭만원 #맛보래떡볶기 #성가농민순대국 #흥부가 #서울맛집\\\\n\\\\n\\u200b\\\\n\\\\n서울특별시 종로구 삼봉로 66\\\\n\\\\n서울특별시 종로구 인사동3길 16 낭만원\\\\n\\\\n서울특별시 종로구 수표로20길 22\\\\n\\\\n서울특별시 종로구 인사동3길 9\\\\n\\\\n서울특별시 종로구 종로 33\\\\n\\\\n\\u200b\\\\n\\\\n종각역 일이 끝났다\\\\n\\\\n내돈내산 점심을 정리해본다\\\\n\\\\n이번엔 종각역 근처 맛집\\\\n\\\\n그런데 안국역 근처도 참 많이 갔다\\\\n\\\\n일이 힘들수록 걸으려고 노력했더니\\\\n\\\\n그런가..\\\\n\\\\n\\u200b\\\\n\\\\n1. 조금 솥밥\\\\n\\\\n서울특별시 종로구 인사동길 60 크라운빌딩 1층 조금식당\\\\n\\\\n2. 경춘자의 라면 댕기는 날\\\\n\\\\n짬뽕라면이 메인인데\\\\n\\\\n제일 안매운 맛이 불닭볶음면이라고 해서\\\\n\\\\n바포 포기\\\\n\\\\n만만한 떡라면을 시켰다\\\\n\\\\n처음엔 라면이 거기서 거기 아닐까?\\\\n\\\\n생각했지만\\\\n\\\\n확실히 먼가 달랐다\\\\n\\\\n보통 라면보다 더 맛있었다\\\\n\\\\n재방문 의사 있음\\\\n\\\\n서울특별시 종로구 율곡로3길 82\\\\n\\\\n3. 광화문 김밥 [...] | 맛집분석종각역 내돈내산 20개 점심맛집 총정리analyze7・2024. 11. 13. 23:41URL 복사이웃추가본문 기타 기능공유하기신고하기#종각맛집#안국역맛집#종각점심#인사동맛집#광화문김밥#조금#흥부가#낭만원#맛보래떡볶기#성가농민순대국#흥부가#서울맛집\\u200b광화문김밥서울특별시 종로구 삼봉로 66낭만원서울특별시 종로구 인사동3길 16 낭만원흥부가서울특별시 종로구 수표로20길 22맛보래 즉석 떡볶이서울특별시 종로구 인사동3길 9강남교자 종로점서울특별시 종로구 종로 33\\u200b종각역 일이 끝났다내돈내산 점심을 정리해본다이번엔 종각역 근처 맛집그런데 안국역 근처도 참 많이 갔다일이 힘들수록 걸으려고 노력했더니그런가..\\u200b1. 조금 솥밥조금서울특별시 종로구 인사동길 60 크라운빌딩 1층 조금식당2. 경춘자의 라면 댕기는 날짬뽕라면이 메인인데제일 안매운 맛이 불닭볶음면이라고 해서바포 포기만만한 떡라면을 시켰다처음엔 라면이 거기서 거기 아닐까?생각했지만확실히 먼가 달랐다보통 라면보다 더 [...] 11. 강남교자 종로점\\\\n\\\\n이곳은 모든 음식이 보통 이상은 하능 것 같다\\\\n\\\\n초계국수도 맛있고 칼국수도 맛집이다\\\\n\\\\n매일 가라고 해도 갈수 있는 곳이라 생각한다\\\\n\\\\n서울특별시 종로구 종로 33\\\\n\\\\n12. 우육면관 광화문\\\\n\\\\n점심때가면 항상 줄이 있다\\\\n\\\\n미쉐린가이드 받았다고 하는데\\\\n\\\\n맛은 있는데 기다려서 먹을 만큼은 아닌것 같다\\\\n\\\\n내가 개인적으로 우육면을 별로 안좋아하는 것 같다\\\\n\\\\n서울특별시 종로구 종로7길 29-14\\\\n\\\\n13. 성가백암순대\\\\n\\\\n종각 근처 대표적인 순대국집\\\\n\\\\n4번은 간것 같다\\\\n\\\\n점심엔 줄이 길다\\\\n\\\\n맑은 순대국은 아니지만\\\\n\\\\n국물이 깔끔하다\\\\n\\\\n서울특별시 종로구 삼봉로 81 두산위브 1층\\\\n\\\\n14. 오토김밥\\\\n\\\\n영자추천김밥\\\\n\\\\n김밥 마니아라면 필수\\\\n\\\\n맛은 그다지 특별함을 못느꼈다\\\\n\\\\n서울특별시 종로구 인사동5길 11\\\\n\\\\n15. 한입소반 롯데백화점 지하\\\\n\\\\n왜 특별한지 모르겠음\\\\n\\\\n특히 떡볶기는 먹지마삼\\\\n\\\\n서울특별시 중구 남대문로 81 롯데백화점 본점 지하1층\\\\n\\\\n16. 낭만원 중국집\\\\n\\\\n정말 맛있음</content><raw>\\n\\n\\n\\n\\n\\n\\n\\n\\n\\n\\n\\n\\n\\n\\n\\n\\n\\n\\n\\n\\n\\n\\n\\n\\n\\n\\n\\n\\n\\n\\n\\n\\n\\n\\n\\n컨텐츠 큐레이터\\n컨텐츠 큐레이터\\n\\n프롤로그블로그 | 지도서재안부\\n블로그\\n\\n\\n\\n |  | \\n | 맛집분석21개의 글맛집분석목록열기 | \\n맛집분석 21개의 글\\n\\n |  | \\n |  | \\n | 맛집분석종각역 내돈내산 20개 점심맛집 총정리analyze7・2024. 11. 13. 23:41URL 복사이웃추가본문 기타 기능공유하기신고하기#종각맛집#안국역맛집#종각점심#인사동맛집#광화문김밥#조금#흥부가#낭만원#맛보래떡볶기#성가농민순대국#흥부가#서울맛집\\u200b광화문김밥서울특별시 종로구 삼봉로 66낭만원서울특별시 종로구 인사동3길 16 낭만원흥부가서울특별시 종로구 수표로20길 22맛보래 즉석 떡볶이서울특별시 종로구 인사동3길 9강남교자 종로점서울특별시 종로구 종로 33\\u200b종각역 일이 끝났다내돈내산 점심을 정리해본다이번엔 종각역 근처 맛집그런데 안국역 근처도 참 많이 갔다일이 힘들수록 걸으려고 노력했더니그런가..\\u200b1. 조금 솥밥조금서울특별시 종로구 인사동길 60 크라운빌딩 1층 조금식당2. 경춘자의 라면 댕기는 날짬뽕라면이 메인인데제일 안매운 맛이 불닭볶음면이라고 해서바포 포기만만한 떡라면을 시켰다처음엔 라면이 거기서 거기 아닐까?생각했지만확실히 먼가 달랐다보통 라면보다 더 맛있었다재방문 의사 있음경춘자의라면땡기는날서울특별시 종로구 율곡로3길 823. 광화문 김밥실제 제일 많이 간 곳떡볶기와 샐러드 김밥의 조화떡볶기는 롯데백화점 지하 식당보다휠씬 맛있다광화문김밥서울특별시 종로구 삼봉로 66오징어볶음은 그냥 그래요4. 모퉁이네모퉁이네서울특별시 종로구 계동길 675. 이도곰탕이도곰탕 계동 직영점서울특별시 종로구 계동길 33-8이도곰탕 을지로 직영점서울특별시 중구 다동길 30\\u200b\\u200b6. 보돌미역보돌미역 종로타워점서울특별시 종로구 종로 517. 흥부가기대이상으로 맛있던 보쌈기본으로 감자탕이랑 튀김이 나온다재방문 의사 완전 있음흥부가서울특별시 종로구 수표로20길 228. 아비꼬 광화문점아비꼬 광화문점서울특별시 종로구 종로 34 알파빌딩 1층\\u200b3분카레와 확실히 다르다는 것을 보여준다9. 남산돈까스101번지남산돈까스 종로타워점서울특별시 종로구 종로 51 지하1층 B104호자주 갔던 곳남산돈까스가 체인이지만맛이 다를 수 있다는 것을 알려주었다10. 베트남 쌀국수 땀땀줄이 길어서 먹어보았다\\u200b땀땀 롯데백화점 본점서울특별시 중구 남대문로 81 롯데백화점 본점 지하1층11. 강남교자 종로점이곳은 모든 음식이 보통 이상은 하능 것 같다초계국수도 맛있고 칼국수도 맛집이다매일 가라고 해도 갈수 있는 곳이라 생각한다강남교자 종로점서울특별시 종로구 종로 3312. 우육면관 광화문점심때가면 항상 줄이 있다미쉐린가이드 받았다고 하는데맛은 있는데 기다려서 먹을 만큼은 아닌것 같다내가 개인적으로 우육면을 별로 안좋아하는 것 같다진중 우육면관 광화문서울특별시 종로구 종로7길 29-1413. 성가백암순대종각 근처 대표적인 순대국집4번은 간것 같다점심엔 줄이 길다맑은 순대국은 아니지만국물이 깔끔하다성가백암순대서울특별시 종로구 삼봉로 81 두산위브 1층14. 오토김밥영자추천김밥김밥 마니아라면 필수맛은 그다지 특별함을 못느꼈다오토김밥인사동점서울특별시 종로구 인사동5길 1115. 한입소반 롯데백화점 지하왜 특별한지 모르겠음특히 떡볶기는 먹지마삼한입소반 롯데백화점 본점서울특별시 중구 남대문로 81 롯데백화점 본점 지하1층16. 낭만원 중국집정말 맛있음별 4개 주고 싶음볶음밥은 슴슴하지만 계속 생각나고유린기의 바싹함은 뛰어나며탕수육도 홍콩반점보다 맛있다주방장이 궁금해지는 중국집데이트를 한다면 여기를 추천하고 싶다낭만원서울특별시 종로구 인사동3길 16 낭만원17. 깡통만두안국역 제1 대표적인 음식점줄이 매일 길다맛있다 약간 슴슴한데 생각나는 맛줄서서 먹기까지는 아닌듯깡통만두서울특별시 종로구 북촌로2길 5-6 1층\\u200b\\u200b18. 맛보래 즉석떡복기완전 강추여의도 왠만한 즉석떡볶기 뺨을 때릴수 있는 맛재방문의사 완전 있음맛보래 즉석 떡볶이서울특별시 종로구 인사동3길 919. 천하보쌈쯔양이 방문했다줄만 없다면 적극 방문하고 싶은 맛줄이 너무 길다...보쌈이 부드럽다천하보쌈서울특별시 종로구 창덕궁1길 8 천하보쌈20.엄용백 돼지국밥줄이 길다보통 돼지국밥과 맛이 좀 달랐다좀더 사골국물맛이 더 나는 것 같다엄용백 돼지국밥서울특별시 종로구 인사동3길 20\\u200bhttps://m.blog.naver.com/analyze7/223138982272완전 내돈내산 시청 북창동 점심 맛집 총정리1탄 16곳#북창동점심 #시청점심 #서울시청점심 #시청역점심 #소공동점심 #서울점시맛집 #이북만두 #남파랑국밥 #애...m.blog.naver.com\\u200b태그취소확인공감이 글에 공감한 블로거 열고 닫기댓글6이 글에 댓글 단 블로거 열고 닫기인쇄댓글쓰기1/1이전다음 | \\n종각역 내돈내산 20개 점심맛집 총정리\\n\\n#종각맛집 #안국역맛집 #종각점심 #인사동맛집 #광화문김밥 #조금 #흥부가 #낭만원 #맛보래떡볶기 #성가농민순대국 #흥부가 #서울맛집\\n\\n\\u200b\\n\\n서울특별시 종로구 삼봉로 66\\n\\n서울특별시 종로구 인사동3길 16 낭만원\\n\\n서울특별시 종로구 수표로20길 22\\n\\n서울특별시 종로구 인사동3길 9\\n\\n서울특별시 종로구 종로 33\\n\\n\\u200b\\n\\n종각역 일이 끝났다\\n\\n내돈내산 점심을 정리해본다\\n\\n이번엔 종각역 근처 맛집\\n\\n그런데 안국역 근처도 참 많이 갔다\\n\\n일이 힘들수록 걸으려고 노력했더니\\n\\n그런가..\\n\\n\\u200b\\n\\n1. 조금 솥밥\\n\\n서울특별시 종로구 인사동길 60 크라운빌딩 1층 조금식당\\n\\n2. 경춘자의 라면 댕기는 날\\n\\n짬뽕라면이 메인인데\\n\\n제일 안매운 맛이 불닭볶음면이라고 해서\\n\\n바포 포기\\n\\n만만한 떡라면을 시켰다\\n\\n처음엔 라면이 거기서 거기 아닐까?\\n\\n생각했지만\\n\\n확실히 먼가 달랐다\\n\\n보통 라면보다 더 맛있었다\\n\\n재방문 의사 있음\\n\\n서울특별시 종로구 율곡로3길 82\\n\\n3. 광화문 김밥\\n\\n실제 제일 많이 간 곳\\n\\n떡볶기와 샐러드 김밥의 조화\\n\\n떡볶기는 롯데백화점 지하 식당보다\\n\\n휠씬 맛있다\\n\\n서울특별시 종로구 삼봉로 66\\n\\n오징어볶음은 그냥 그래요\\n\\n4. 모퉁이네\\n\\n서울특별시 종로구 계동길 67\\n\\n5. 이도곰탕\\n\\n서울특별시 종로구 계동길 33-8\\n\\n서울특별시 중구 다동길 30\\n\\n\\u200b\\n\\n\\u200b\\n\\n6. 보돌미역\\n\\n서울특별시 종로구 종로 51\\n\\n7. 흥부가\\n\\n기대이상으로 맛있던 보쌈\\n\\n기본으로 감자탕이랑 튀김이 나온다\\n\\n재방문 의사 완전 있음\\n\\n서울특별시 종로구 수표로20길 22\\n\\n8. 아비꼬 광화문점\\n\\n서울특별시 종로구 종로 34 알파빌딩 1층\\n\\n\\u200b\\n\\n3분카레와 확실히 다르다는 것을 보여준다\\n\\n9. 남산돈까스\\n\\n서울특별시 종로구 종로 51 지하1층 B104호\\n\\n자주 갔던 곳\\n\\n남산돈까스가 체인이지만\\n\\n맛이 다를 수 있다는 것을 알려주었다\\n\\n10. 베트남 쌀국수 땀땀\\n\\n줄이 길어서 먹어보았다\\n\\n\\u200b\\n\\n서울특별시 중구 남대문로 81 롯데백화점 본점 지하1층\\n\\n11. 강남교자 종로점\\n\\n이곳은 모든 음식이 보통 이상은 하능 것 같다\\n\\n초계국수도 맛있고 칼국수도 맛집이다\\n\\n매일 가라고 해도 갈수 있는 곳이라 생각한다\\n\\n서울특별시 종로구 종로 33\\n\\n12. 우육면관 광화문\\n\\n점심때가면 항상 줄이 있다\\n\\n미쉐린가이드 받았다고 하는데\\n\\n맛은 있는데 기다려서 먹을 만큼은 아닌것 같다\\n\\n내가 개인적으로 우육면을 별로 안좋아하는 것 같다\\n\\n서울특별시 종로구 종로7길 29-14\\n\\n13. 성가백암순대\\n\\n종각 근처 대표적인 순대국집\\n\\n4번은 간것 같다\\n\\n점심엔 줄이 길다\\n\\n맑은 순대국은 아니지만\\n\\n국물이 깔끔하다\\n\\n서울특별시 종로구 삼봉로 81 두산위브 1층\\n\\n14. 오토김밥\\n\\n영자추천김밥\\n\\n김밥 마니아라면 필수\\n\\n맛은 그다지 특별함을 못느꼈다\\n\\n서울특별시 종로구 인사동5길 11\\n\\n15. 한입소반 롯데백화점 지하\\n\\n왜 특별한지 모르겠음\\n\\n특히 떡볶기는 먹지마삼\\n\\n서울특별시 중구 남대문로 81 롯데백화점 본점 지하1층\\n\\n16. 낭만원 중국집\\n\\n정말 맛있음\\n\\n별 4개 주고 싶음\\n\\n볶음밥은 슴슴하지만 계속 생각나고\\n\\n유린기의 바싹함은 뛰어나며\\n\\n탕수육도 홍콩반점보다 맛있다\\n\\n주방장이 궁금해지는 중국집\\n\\n데이트를 한다면 여기를 추천하고 싶다\\n\\n서울특별시 종로구 인사동3길 16 낭만원\\n\\n17. 깡통만두\\n\\n안국역 제1 대표적인 음식점\\n\\n줄이 매일 길다\\n\\n맛있다 약간 슴슴한데 생각나는 맛\\n\\n줄서서 먹기까지는 아닌듯\\n\\n서울특별시 종로구 북촌로2길 5-6 1층\\n\\n\\u200b\\n\\n\\u200b\\n\\n18. 맛보래 즉석떡복기\\n\\n완전 강추\\n\\n여의도 왠만한 즉석떡볶기 뺨을 때릴수 있는 맛\\n\\n재방문의사 완전 있음\\n\\n서울특별시 종로구 인사동3길 9\\n\\n19. 천하보쌈\\n\\n쯔양이 방문했다\\n\\n줄만 없다면 적극 방문하고 싶은 맛\\n\\n줄이 너무 길다...\\n\\n보쌈이 부드럽다\\n\\n서울특별시 종로구 창덕궁1길 8 천하보쌈\\n\\n20.엄용백 돼지국밥\\n\\n줄이 길다\\n\\n보통 돼지국밥과 맛이 좀 달랐다\\n\\n좀더 사골국물맛이 더 나는 것 같다\\n\\n서울특별시 종로구 인사동3길 20\\n\\n\\u200b\\n\\nhttps://m.blog.naver.com/analyze7/223138982272\\n\\n#북창동점심 #시청점심 #서울시청점심 #시청역점심 #소공동점심 #서울점시맛집 #이북만두 #남파랑국밥 #애...\\n\\nm.blog.naver.com\\n\\n\\u200b\\n\\n |  | \\n |  | \\n | 이 블로그맛집분석카테고리 글전체글 보기맛집분석글 목록글 제목작성일화면 최상단으로 이동 | 글 제목 | 작성일\\n글 제목 | 작성일\\n이 블로그\\n\\t\\t\\t\\t\\t\\t\\t\\t\\t\\t\\n\\t\\t\\t\\t\\t\\t\\t\\t\\t\\t\\n\\t\\t\\t\\t\\t\\t\\t\\t\\t\\t\\t\\n\\t\\t\\t\\t\\t\\t\\t\\t\\t\\t\\t\\n\\t\\t\\t\\t\\t\\t\\t\\t\\t\\t\\t\\t\\n\\t\\t\\t\\t\\t\\t\\t\\t\\t\\t\\t\\t\\t\\n\\t\\t\\t\\t\\t\\t\\t\\t\\t\\t\\t\\t\\t\\n\\t\\t\\t\\t\\t\\t\\t\\t\\t\\t\\t\\t\\t\\t 맛집분석 카테고리 글\\n\\n글 제목 | 작성일\\n |  | \\n\\n\\n\\n\\n\\n\\n\\n\\n\\n\\n\\n\\n\\n\\n\\n\\n\\n\\n\\n\\n\\n\\n\\n\\n활동정보\\n\\n\\n\\n\\n\\n\\n\\n\\n\\n\\n\\n\\n\\n\\n\\n검색\\n\\n안녕하세요.이 포스트는 네이버 블로그에서 작성된 게시글입니다.자세한 내용을 보려면 링크를 클릭해주세요.감사합니다.\\n\\n글 보내기 서비스 안내\\n\\n2009년 6월 30일 네이버 여행 서비스가 종료되었습니다. 네이버 여행 서비스를 이용해 주신 여러분께 감사드리며, 더 좋은 서비스로 보답할 수 있도록 노력하겠습니다.\\n\\n악성코드가 포함되어 있는 파일입니다.\\n\\n{FILENAME}\\n\\n백신 프로그램으로 치료하신 후 다시 첨부하시거나, 치료가 어려우시면파일을 삭제하시기 바랍니다.\\n\\n고객님의 PC가 악성코드에 감염될 경우 시스템성능 저하,개인정보 유출등의 피해를 입을 수 있으니 주의하시기 바랍니다.\\n\\n작성자 이외의 방문자에게는 이용이 제한되었습니다.\\n\\n{ALERTMESSAGE}\\n\\n이용제한 파일 : {FILENAME}\\n\\n글보내기 제한 공지\\n\\n네이버는 블로그를 통해 저작물이 무단으로 공유되는 것을 막기 위해,\\n\\t\\t\\t\\t\\t\\t저작권을 침해하는 컨텐츠가 포함되어 있는 게시물의 경우 글보내기 기능을 제한하고 있습니다.\\n\\n상세한 안내를 받고 싶으신 경우 네이버 고객센터로 문의주시면 도움드리도록 하겠습니다.\\n\\t\\t\\t\\t\\t\\t건강한 인터넷 환경을 만들어 나갈 수 있도록 고객님의 많은 관심과 협조를 부탁드립니다.\\n\\n주제 분류 제한 공지\\n\\n네이버는 블로그를 통해 저작물이 무단으로 공유되는 것을 막기 위해,\\n\\t\\t\\t\\t\\t\\t저작권을 침해하는 컨텐츠가 포함되어 있는 게시물의 경우 주제 분류 기능을 제한하고 있습니다.\\n\\n상세한 안내를 받고 싶으신 경우 네이버 고객센터로 문의주시면 도움드리도록 하겠습니다.\\n\\t\\t\\t\\t\\t\\t건강한 인터넷 환경을 만들어 나갈 수 있도록 고객님의 많은 관심과 협조를 부탁드립니다.\\n\\n작성하신 게시글에 사용이 제한된 문구가 포함되어 일시적으로  등록이 제한됩니다.\\n\\n이용자 분들이 홍보성 도배, 스팸 게시물로 불편을 겪지 않도록 다음과 같은 경우 해당 게시물 등록이 일시적으로 제한됩니다.\\n\\n스팸 게시물이 확대 생성되는 것을 방지하기 위하여 문구 및 사용 제한기간을상세하게 안내해 드리지 못하는 점 양해 부탁 드립니다. 모두가 행복한 인터넷문화를 만들기 위한 네이버의 노력이오니 회원님의 양해와 협조 부탁드립니다.\\n\\n더 궁금하신 사항은 고객센터로 문의하시면 자세히 알려드리겠습니다.\\n\\n수정하신 후 다시 등록해 주세요.\\n\\n회원님의 안전한 서비스 이용을 위해 비밀번호를 확인해 주세요.\\n\\n다시 한번 비밀번호 확인 하시면 이용중인 화면으로 돌아가며, 작성 중이던내용을 정상적으로 전송 또는 등록하실 수 있습니다.\\n\\n\\n\\n공감을 삭제하시겠습니까?\\n\\n이 글의 공감수도 함께 차감됩니다.\\n\\n\\n\\n작성하신 에 이용자들의 신고가 많은 표현이 포함되어 있습니다.\\n\\n다른 표현을 사용해주시기 바랍니다.\\n\\t\\t\\t건전한 인터넷 문화 조성을 위해 회원님의 적극적인 협조를 부탁드립니다.\\n\\n더 궁금하신 사항은 고객센터로 문의하시면 자세히 알려드리겠습니다.\\n\\n블로그 마켓 가입 완료\\n\\n내 상품 관리에서 배송비 설정 후 상품 판매를 시작해보세요!\\n\\n</raw></document>', '<document><title>종각역 맛집 내돈내산 인도커리 맛집 리뷰! : 네이버 블로그</title><url>https://m.blog.naver.com/whilda3/223749494755</url><content>종각역 4번출구 도보 1분. 매일 10:00~22:00. 네이버예약 히말라야는 인도 네팔 정통. 요리 전문점인데 커리 생각날 때마다. 주기적으로 찾고 있는 종각역맛집입니다. 인도 음식은 지역별로 문화가. 조금씩 다르지만, 공통점이 있다면. 강한 항신료의 조화 로 깊은</content></document>']\n",
      "뉴스 검색 결과: [\"<document><title>DeepSeek-V3 now runs at 20 tokens per second on Mac Studio, and that's a nightmare for OpenAI - VentureBeat</title><url>https://venturebeat.com/ai/deepseek-v3-now-runs-at-20-tokens-per-second-on-mac-studio-and-thats-a-nightmare-for-openai/</url><content>Chinese AI startup DeepSeek has quietly released a new large language model that’s already sending ripples through the artificial intelligence industry — not just for its capabilities, but for how it’s being deployed. The 641-gigabyte model, dubbed DeepSeek-V3-0324, appeared on AI repository Hugging Face today with virtually no announcement, continuing the company’s pattern of low-key but impactful releases. Current reasoning models like OpenAI’s o1 and DeepSeek’s R1 represent the cutting edge of AI capabilities, demonstrating unprecedented problem-solving abilities in domains from mathematics to coding. Nvidia CEO Jensen Huang recently noted that DeepSeek’s R1 model “consumes 100 times more compute than a non-reasoning AI,” contradicting earlier industry assumptions about efficiency. By making cutting-edge AI freely available under permissive licensing, DeepSeek enables exponential innovation that closed models inherently constrain.</content></document>\", \"<document><title>Mindblowing AI breakthrough can detect cancer 99% of the time - BGR</title><url>https://bgr.com/science/mindblowing-ai-breakthrough-can-detect-cancer-99-of-the-time/</url><content>BGR's team sends an AM subscriber-only newsletter with the top tech & entertainment stories at 9AM ET. But a new breakthrough in AI cancer detection is pushing accuracy levels to an unprecedented 99 percent, giving doctors a major new tool in the fight. This is a massive leap in accuracy from previous AI models, which could only accurately detect the cancer up to 80 percent of the time. Sign up for the most interesting tech & entertainment news out there. Sign up for the most interesting tech & entertainment news out there. BGR’s audience craves our industry-leading insights on the latest in tech and entertainment, as well as our authoritative and expansive reviews.</content></document>\", \"<document><title>New AI weather forecasting model outperforms competitors - Axios</title><url>https://www.axios.com/2025/03/24/ai-weather-forecasting-model-aardvark</url><content>New AI weather forecasting model outperforms competitors What sets Aardvark Weather apart — and may usher in a new era in AI-driven models — is that it uses a single machine-learning model that takes in observations from satellites, weather stations, ships and other sensors, and yields high-resolution global and local forecasts. New Google AI weather model beats most reliable forecast system A new, AI-based weather forecast model could significantly improve anticipating hazardous weather by zooming in from national to local levels, according to its creator Nvidia. Google's Cloud division is taking a major step toward making operational recent gains in AI weather forecast models and marketing them for the energy industry, the company tells Axios exclusively.</content></document>\", '<document><title>Google unveils a next-gen AI reasoning model - TechCrunch</title><url>https://techcrunch.com/2025/03/25/google-unveils-a-next-gen-ai-reasoning-model/</url><content>Google unveils a next-gen family of AI reasoning models | TechCrunch Google unveils a next-gen family of AI reasoning models | TechCrunch On Tuesday, Google unveiled Gemini 2.5, a new family of AI reasoning models that pauses to “think” before answering a question. To kick off the new family of models, Google is launching Gemini 2.5 Pro Experimental, a multimodal, reasoning AI model that the company claims is its most intelligent model yet. Today, Anthropic, DeepSeek, Google, and xAI all have AI reasoning models, which use extra computing power and time to fact-check and reason through problems before delivering an answer. On an evaluation measuring code editing, called Aider Polyglot, Google says Gemini 2.5 Pro scores 68.6%, outperforming top AI models from OpenAI, Anthropic, and Chinese AI lab DeepSeek. TechCrunch AI</content></document>', '<document><title>DeepSeek narrows China-US AI gap to three months, 01.AI founder Lee Kai-fu says - Reuters</title><url>https://www.reuters.com/technology/artificial-intelligence/deepseek-narrows-china-us-ai-gap-three-months-01ai-founder-lee-kai-fu-says-2025-03-25/</url><content>REUTERS/Dado Ruvic/Illustration/File Photo Purchase Licensing Rights, opens new tab BEIJING/HONG KONG, March 25 (Reuters) - China has narrowed the AI development gap with the United States to just three months in some areas, because firms such as DeepSeek have worked out how to use chips and apply algorithms more efficiently, the CEO of Chinese startup 01.AI Lee Kai-fu said. Lee said investing in proprietary models had become \\\\\"courageous\\\\\" for AI startups in a market environment dominated by well-funded tech giants and rapidly evolving open-source alternatives. Our Standards: The Thomson Reuters Trust Principles., opens new tab About Reuters, opens new tab Reuters News Agency, opens new tab Reuters and AI, opens new tab Reuters Leadership, opens new tab Reuters Diversity Report, opens new tab</content></document>']\n",
      "특정 도메인 포함 검색 결과: [{'url': 'https://blog.naver.com/justgoshopping/223208320053', 'title': '파이썬 프로그래밍 초보자를 위한 5가지 핵심 팁 - 네이버블로그', 'content': \"1. 파이썬의 철학: PEP 8과 '파이써닉'한 코드 · 2. 에러와 친해지기 · 3. 기본 라이브러리와 활용 · 4. 질문하는 습관 · 5. 실제 프로젝트로 연습하기.\", 'score': 0.7657514, 'raw_content': None}, {'url': 'https://alexander-pastukhov.github.io/writing-games-with-python-and-psychopy/programming-tips.html', 'title': 'Chapter 3 Programming tips and tricks | Learning Python ...', 'content': '3 Programming tips and tricks\\n3.1 Writing the code\\n3.1.1 Use a linter\\n3.1.2 Document your code\\n3.1.3 Add some air\\n3.1.4 Write your code one teeny-tiny step a time\\n3.1.5 There is nothing wrong with StackOverflow\\n\\n\\n3.2 Reading the code\\n3.2.1 Think like a computer\\n3.2.2 Pretend that you’ve never seen this code in your life\\n3.2.3 Do not search only under the street lamp\\n3.2.4 Use the debugger\\n\\n\\n\\n3.3 Zen of Python\\n\\n\\nView source\\n\\nEdit this page [...] Read the code line-by-line and “execute” it the way the compute would. Use pen-and-paper to keep the track of variables. Trace which chunks of code can be reached and when. Slow yourself down and make sure you understand each line and are able to keep track of the variables. Once you do that it will be easy to spot a mistake.\\n3.2.2 Pretend that you’ve never seen this code in your life [...] Your motto should be “slow but steady”. This is the way I will guide you through the games. Always start with a something extremely simple like a static rectangle or image. Make sure it works. Add a minor functionality: Change in color, position, another rectangle, storing it as an attribute, etc. Make sure it works. Never go to the next step unless you fully understand what your current code is doing and you are 100% certain that it behaves as it should. And I mean 100% seriously! If you have', 'score': 0.75852895, 'raw_content': 'Chapter 3 Programming tips and tricks | Learning Python and PsychoPy by writing games\\nSkip to main content\\nLearning Python and PsychoPy by writing games\\nShow table of contents\\nTable of contents\\n\\n1 Introduction\\n2 Software\\n3 Programming tips and tricks\\n4 Python basics\\n5 Guess the Number: a single round edition\\n6 Guess the Number: a multi round edition\\n7 Guess the Number: AI takes a turn\\n8 Gettings started with PsychoPy\\n9 Whack-a-Mole\\n10 Memory game\\n11 Christmas special\\n12 Flappy Bird\\n13 Guitar Hero: staircase and iterator functions\\n14 The Snake\\n15 Moon lander\\n16 Space invaders: mixins and duck typing\\n17 Game of life (NumPy)\\n\\nView book source\\n3 Programming tips and tricks\\nBefore you start writing your first code, we need to talk about the art of programming. As I already mentioned, it is not a code that works, it is about a code that is easy to comprehend. Correctly working code is a nice plus but if I have to choose between a spaghetti code that presently works correctly and clearly written and documented code that needs fixing, I will choose the latter any day. I can fix things I understand, I can only hope, if I don’t.\\nBelow are some tips about writing and reading the code. Some may sound cryptic when you read them for the first time (they will become clear once we cover the necessary material). Some will feel like an overkill for simple projects that we will be implementing. I suggest that you read this section casually the very first time but return to it frequently once we start to program in earnest. Unfortunately, these tricks won’t work if you do not use them! So you should always use them and they should become your good habits, like using a seat belt. The seat belt does nothing useful on most (hopefully, all) days but you wear it because it might suddenly and very urgently become extremely useful and you can never be sure when this will happen. Same with coding. Quite often you will be tempted to write “quick-n-dirty” code because this is just a “simple test”, temporary solution, a prototype, a pilot experiment, etc. But as they say “There is nothing more permanent than a temporary solution”. More often than not, you will find that your toy code grew into a full blown experiment and it is a mess. Or you want to come back to that pilot experiment you did a few months ago but realize that it is easier to start from scratch than to understand how that monster works4. Thus, resist the temptation! Form the good habits and you future-you will be very grateful!\\n3.1 Writing the code\\n3.1.1 Use a linter\\nLinter is a program that analyses your code style and highlights any issues it finds: spaces where should be none, no spaces where should be some, wrong names, overly long lines, etc. These do not affect how the code runs but following linter’s advice results in a consistent standard if boring-looking5 Python code. Try to address all the problems that the linter raised. However, use your better judgment because sometimes lines that are longer than linter would prefer are more readable than two shorter ones. Similarly, a “bad” variable name by linter standards can be a meaningful name for a psychologist. Remember, your code is for people, not for the linter.\\n3.1.2 Document your code\\nEvery time you create a new file: document it and update the documentation whenever you add/change/delete new functions or classes. Every time your create a new function: document it. New class: document it. New constant: unless it is super clear from the name alone, document it. You will learn a NumPy way of doing this in the book.\\nI cannot stress how important documenting your code is. VS Code (an editor that we will use) is smart enough to parse NumPy docstring, so it will show this help to you whenever you use your own functions (helps you to help you!). More importantly, writing documentation forces you to think and formulate (in human language!) what the function or class is doing, what type the arguments / attributes / methods are, what is the range of valid values, what are the defaults, what should a function return, etc. More often than not, you will realize that you have overlooked some important detail that may not be apparent from the code itself.\\n3.1.3 Add some air\\nSeparate chunks of code with some empty lines. Think paragraphs in the normal text. You wouldn’t want your book to be a single paragraph nightmare? Put a comment before each chunk that explains what it does but not how it does it. E.g., in our typical PsychoPy-based game there will be a point when we draw all stimuli and update the window. That is a nice self-contained chunk that can be described as # drawing all stimuli. The code provides details on what exactly is drawn, what is the drawing order, etc. But that single comment will help you to understand what this chunk is about and whether it is relevant for you at the moment. Same goes for # processing key presses or # checking gameover conditions, etc. But be careful and make sure that the comment describes the code correctly. E.g., if the comment says # drawing all stimuli where should be no stimuli-drawing code anywhere else and no code that does something else!\\n3.1.4 Write your code one teeny-tiny step a time\\nYour motto should be “slow but steady”. This is the way I will guide you through the games. Always start with a something extremely simple like a static rectangle or image. Make sure it works. Add a minor functionality: Change in color, position, another rectangle, storing it as an attribute, etc. Make sure it works. Never go to the next step unless you fully understand what your current code is doing and you are 100% certain that it behaves as it should. And I mean 100% seriously! If you have even a shadow of a doubt, check again. Otherwise, that shadow will grow and make you progressively uncertain about your code. This tortoise-speed approach may feel silly and overly slow but it is still faster than writing a large chunk of code and then trying to make it work. It is much easier to solve simple problems one at a time than a lot of them simultaneously.\\n3.1.5 There is nothing wrong with StackOverflow\\nYes, you can always try to find a solution to your problem on StackOverflow6. I do it all the time! However, you should use the provided solution only if you understand it! Do not copy-paste the code that seems to solve a problem like yours. If you do that and you are lucky, it might work. Or, again if you are lucky, it won’t work in an obvious manner. But if you are not so lucky, it will (sometimes) work incorrectly in a subtle way. And, since you did not really know what the code was doing when you pasted it, you will be even more confused. So use StackOverflow as a source of knowledge, not as a source of copy-pastable code!\\n3.2 Reading the code\\nReading code is easy because computers are dumb and you are smart. This means that instructions you give the computer must necessarily be very simple and, therefore, are very easy to understand for a human. Reading code is also hard because computers are dumb and you are smart. You are so smart that you don’t even need to read the entire code to understand what it is doing, you just read the key bits and fill in the gaps. Unfortunately, this means that you will tend to read over mistakes. This is not unique to programming, if you ever proofraed a text, you now how hard it is to find tipos. Your brain corrects them on the fly using the context and you read the word as it should be, not as it is actually written7.\\nMy experience with programming in general and on this seminar in particular is that most problems you get stuck with are simple to the point of being dumb and obvious in retrospect8. Do not despair! It is not you, but just a consequence of how wonderfully your brain is wired for pattern-recognition. Below are several suggestions that could help you to make reading code more robust.\\n3.2.1 Think like a computer\\nRead the code line-by-line and “execute” it the way the compute would. Use pen-and-paper to keep the track of variables. Trace which chunks of code can be reached and when. Slow yourself down and make sure you understand each line and are able to keep track of the variables. Once you do that it will be easy to spot a mistake.\\n3.2.2 Pretend that you’ve never seen this code in your life\\nAssume that you have no idea what the code is doing. As I wrote, quite often you literally do not see a mistake because your brain fills-in details and bends the reality to match your expectations9. You know what this chunk of code should be doing, so instead of reading it you skim through it and, unless it looks obviously terribly wrong, assume that it does what it should. Turning your expectations off is hard but is immensely helpful.\\n3.2.3 Do not search only under the street lamp\\nWhenever you are using some new code or need to implement something that feels complicated and your code does not work as it should, you will tend to assume that a problem is with the new fancy code. Simply because it is new, fancy, and complicated. But, in my experience, the error will typically hide in plain sight in the simpler “trivial” code nearby which you never properly look at because it is simple and trivial. Check everything, not just the places where you would expect to have made a mistake.\\n3.2.4 Use the debugger\\nIn the book, you will learn how to pause an execution of your game, so you can investigate its state. Use this knowledge! Put breakpoints and execute the code step-by-step. Check values of variables using “Watch” tab. Use debug console to check whether functions return results that they should. For complex conditions or mathematical formulas, split them into small bits, copy and execute these bits in the debug console and check whether numbers add up. Make sure that a code chunk checks out and then proceed to analyze the next one. Debugging is particularly helpful to identify the code that is not reached or reached at the wrong moment.\\n3.3 Zen of Python\\nI found Zen of Python to be good inspiration on how to approach programming.\\n2 Software\\n4 Python basics\\nOn this page\\n\\n3 Programming tips and tricks\\n3.1 Writing the code\\n3.1.1 Use a linter\\n3.1.2 Document your code\\n3.1.3 Add some air\\n3.1.4 Write your code one teeny-tiny step a time\\n3.1.5 There is nothing wrong with StackOverflow\\n\\n\\n3.2 Reading the code\\n3.2.1 Think like a computer\\n3.2.2 Pretend that you’ve never seen this code in your life\\n3.2.3 Do not search only under the street lamp\\n3.2.4 Use the debugger\\n\\n\\n\\n3.3 Zen of Python\\n\\n\\nView source\\n\\nEdit this page\\n\\n\"Learning Python and PsychoPy by writing games\" was written by Alexander (Sasha) Pastukhov. It was last built on 2023-10-24.\\nPlease note that this website collects anonymized data via Google analytics. This book was built by the bookdown R package.'}, {'url': 'https://py2ai.github.io/Python-tips-you-must-know/', 'title': 'Python tips and tricks you must know!', 'content': 'Python tips and tricks you must know!\\n\\n21 May 2024\\xa0·   11 mins read\\n\\nPython programming skills have seen a surge in demand lately. To assist you in honing your Python coding prowess, we’ve compiled some nifty Python techniques you can employ to enhance your code. Consider learning one new trick each day for the next month, and peruse our guide on Python best practices to ensure your code stands out.\\n\\nIf you find your Python skills lacking, you can also enhance them through our Python Skill Path. [...] To create a distinct copy of the original object rather than a reference, one can utilize slicing (b = a[:]) or other methods like list(a) or copy().\\n\\n6. Utilizing the ‘not’ Operator\\n\\nPython’s not operator serves as a concise means of checking whether a data structure is empty, returning True if the structure evaluates to False, and vice versa. It effectively inverts the truth value of Boolean expressions and objects, facilitating streamlined conditional checks and enhanced code readability. [...] 1. Indexing Tricks\\n\\nPython indexing allows users to access a subset of a sequence. The index represents the position of an element in the sequence. While mutable sequences allow slicing for data extraction and modification, attempting to modify slices of immutable sequences raises a TypeError.\\n\\nThe slicing format in Python is sequence[start:stop:step]. If no values are specified for start, stop, and step, the sequence defaults to:', 'score': 0.6964752, 'raw_content': 'Python tips and tricks you must know!\\n\\n21 May 2024\\xa0·   11 mins read\\n\\nPython programming skills have seen a surge in demand lately. To assist you in honing your Python coding prowess, we’ve compiled some nifty Python techniques you can employ to enhance your code. Consider learning one new trick each day for the next month, and peruse our guide on Python best practices to ensure your code stands out.\\n\\nIf you find your Python skills lacking, you can also enhance them through our Python Skill Path.\\n\\n1. Indexing Tricks\\n\\nPython indexing allows users to access a subset of a sequence. The index represents the position of an element in the sequence. While mutable sequences allow slicing for data extraction and modification, attempting to modify slices of immutable sequences raises a TypeError.\\n\\nThe slicing format in Python is sequence[start:stop:step]. If no values are specified for start, stop, and step, the sequence defaults to:\\n\\nStart: 0 Stop: length of the sequence Step: 1 (if not specified) Negative indices can also be passed, facilitating sequence reversal. For instance, in a list with four elements, the 0th index is equivalent to the -4 index, and the last index corresponds to -1. Leveraging this knowledge, the given example code prints the string in reverse order.\\n\\n2. Efficient Variable Swapping\\n\\nIn Python, unpacking iterables into variables via automatic unpacking enables simultaneous assignment in a single line. Similarly, using the * operator allows collecting multiple values into a single variable, known as packing. The combination of automatic packing and unpacking gives rise to simultaneous assignment, streamlining the process of assigning values to multiple variables.\\n\\n3. Set vs. List\\n\\nWhile both sets and lists in Python are iterable and permit indexing, tuples offer distinct advantages over lists. Lists are mutable, allowing modifications, while tuples are immutable, preventing alterations and making them more memory-efficient. Tuples also offer faster performance compared to lists, making them preferable in scenarios where data immutability is desired.\\n\\n4. Generator Functions\\n\\nList comprehensions serve as a pythonic way of generating lists from iterables, offering faster performance than traditional for loops. However, substituting square brackets [ ] with parentheses ( ) inadvertently creates a generator object, leveraging lazy evaluation to generate elements upon request, thereby conserving memory.\\n\\n5. Object Aliasing\\n\\nIn Python, every entity is an object, and assigning an object to an identifier creates a reference to that object. Consequently, assigning one identifier to another results in two identifiers referencing the same object, known as aliasing. Changes made to one alias affect the other, underscoring the importance of caution when dealing with mutable objects to avoid unintended side effects.\\n\\nTo create a distinct copy of the original object rather than a reference, one can utilize slicing (b = a[:]) or other methods like list(a) or copy().\\n\\n6. Utilizing the ‘not’ Operator\\n\\nPython’s not operator serves as a concise means of checking whether a data structure is empty, returning True if the structure evaluates to False, and vice versa. It effectively inverts the truth value of Boolean expressions and objects, facilitating streamlined conditional checks and enhanced code readability.\\n\\nAdditionally, the not operator finds utility in conditional statements, simplifying logic flow by negating conditional expressions when evaluating truth values.\\n\\n7. Enhanced String Formatting with F-strings\\n\\nPython 3.6 introduced f-strings, offering a more concise, readable, and efficient method of string formatting compared to traditional methods like format() or string concatenation. F-strings streamline the process of embedding variables within strings, enhancing code clarity and reducing the likelihood of formatting errors.\\n\\nMoreover, f-strings support advanced features like printing variable names alongside their values ({variable = value}), further enhancing their versatility and utility in Python programming.\\n\\n8. Customizing Print Output with the ‘end’ Parameter\\n\\nThe print() function’s end parameter offers flexibility in customizing output by specifying the character or string to append at the end of each print call. By default, end is set to “\\\\n”, causing the print function to terminate with a newline character. Customizing end enables printing multiple values on the same line or appending custom separators, enhancing output formatting and presentation.\\n\\n9. Augmenting Tuples with Append Operations\\n\\nAlthough tuples in Python are immutable, allowing no direct modifications, mutable objects within tuples can be altered. By leveraging the mutability of contained objects, one can append elements to lists embedded within tuples, effectively modifying tuple content indirectly while preserving tuple immutability.\\n\\nWhile not a recommended practice due to potential confusion, this technique demonstrates the versatility of Python’s data structures and the interplay between mutability and immutability.\\n\\n10. Streamlining Dictionary Merging\\n\\nMerging dictionaries in Python can be achieved using dictionary unpacking within dictionary literals. This concise syntax allows combining multiple dictionaries into a single dictionary, preserving key-value pairs while eliminating duplicates. This technique offers a streamlined approach to dictionary merging, enhancing code readability and maintainability.\\n\\n'}]\n",
      "특정 도메인 제외 검색 결과: [{'title': '2025년 건강한 식단 추천: 몸도 마음도 챙기는 올바른 식사법', 'url': 'https://maedin.tistory.com/entry/2025년-건강한-식단-추천-올바른-식사법', 'content': '건강한 식단 추천으로 몸과 마음을 모두 챙기세요! 균형 잡힌 식단 구성, 간단한 예시, 주간 플래너 다운로드로 실천 가능한 건강한 식생활을 시작하세요. 건강한 식단의 정의와 중요성건강한 식단이란 신체와 정신의 균형을 유지하고 질병 예방에 기여하는 식생활 방식을 의미합니다.이를 통해', 'score': 0.3078161, 'raw_content': '고구마망고\\n\\n2025년 건강한 식단 추천: 몸도 마음도 챙기는 올바른 식사법\\n\\n해당 블로그에서 발행되는 콘텐츠 중 일부 글에는 제휴 및 홍보 관련 링크가 포함되어 있으며, 쿠팡 파트너스 활동의 일환으로 일정액의 수수료를 제공받습니다.\\n\\n건강한 식단 추천으로 몸과 마음을 모두 챙기세요! 균형 잡힌 식단 구성, 간단한 예시, 주간 플래너 다운로드로 실천 가능한 건강한 식생활을 시작하세요.\\n\\n건강한 식단의 정의와 중요성\\n\\n건강한 식단이란 신체와 정신의 균형을 유지하고 질병 예방에 기여하는 식생활 방식을 의미합니다.이를 통해 다음과 같은 효과를 얻을 수 있습니다:\\n\\n균형 잡힌 영양소의 중요성\\n\\n건강한 식단은 탄수화물, 단백질, 지방의 비율을 적절히 조절하고 신선한 재료를 사용하는 데 초점이 맞춰져야 합니다.\\n\\n브로콜리, 퀴노아, 닭가슴살이 담긴 균형 잡힌 식사 사진\\n\\n건강한 식단 예시\\n\\n아침\\n\\n점심\\n\\n저녁\\n\\n식단 구성의 기본 원칙\\n\\n건강한 식단 관리 팁\\n\\n주간 식단 계획표 작성\\n\\n신선한 재료 구매 및 보관법\\n\\n지금 바로 다운로드 받으세요👉 [주간 건강식단 플래너 PDF 받기]건강한 몸과 마음을 위한 첫걸음, 지금 시작하세요!\\n\\n\\n\\n오트밀과 바나나로 차려진 아침 식사: 간편하고 영양 가득한 오트밀 요리\\n\\n자주 묻는 질문: 건강한 식단 추천\\n\\nQ1. 건강한 식단을 시작하려면 무엇부터 해야 하나요?A. 먼저 식단의 목표(체중 감량, 근육 강화 등)를 정하세요. 이후 주간 식단 계획을 작성하고, 신선한 재료를 준비해보세요.\\n\\nQ2. 하루에 얼마나 많은 채소와 과일을 먹어야 하나요?A. 세계보건기구(WHO)는 하루 400g 이상의 채소와 과일 섭취를 권장합니다. 한 끼당 접시의 절반 정도를 채소로 채우면 적당합니다.\\n\\nQ3. 초보자도 쉽게 실천할 수 있는 건강한 아침 식사는 무엇인가요?A. 오트밀에 바나나와 견과류를 곁들인 식사는 간단하면서도 영양이 풍부합니다.\\n\\nQ4. 외식할 때 건강한 선택을 할 수 있는 팁이 있나요?A. 메뉴에서 구운 요리나 샐러드를 선택하고, 소스는 따로 요청해 드레싱을 줄이세요.\\n\\nQ5. 고기 없이 단백질을 충분히 섭취할 수 있나요?A. 가능합니다. 콩류, 두부, 퀴노아, 아몬드, 달걀 등이 고기를 대체할 수 있는 훌륭한 단백질 공급원입니다.\\n\\nQ6. 건강한 간식으로 무엇을 추천하시나요?A. 아몬드, 삶은 달걀, 당근 스틱, 그릭요거트는 간편하면서도 건강한 간식입니다.\\n\\nQ7. 식단을 계획할 때 꼭 지켜야 할 비율이 있나요?A. 이상적인 비율은 탄수화물 50%, 단백질 25%, 지방 25%입니다. 채소와 단백질이 충분한지 확인하세요.\\n\\nQ8. 신선한 재료를 오래 보관하려면 어떻게 해야 하나요?A. 채소는 종이타월로 감싸 밀폐 용기에 보관하고, 육류는 소분하여 냉동 보관하면 신선도를 유지할 수 있습니다.\\n\\nQ9. 하루에 물은 얼마나 마셔야 하나요?A. 일반적으로 성인은 하루 2~2.5리터의 물을 섭취하는 것이 좋습니다.\\n\\nQ10. 건강한 식단으로 체중 감량 효과는 언제쯤 볼 수 있나요?A. 개인차가 있지만, 올바른 식단을 따르면 2주에서 4주 이내에 체중 감량이나 몸의 변화를 느낄 수 있습니다.\\n\\n\\n\\n\\n\\n태그\\n\\n볼 만한 글\\n\\n댓글0\\n\\n💲 추천 글\\n\\n몸과 마음\\n\\n건강하게\\n\\n티스토리툴바\\n\\n\\n\\n'}, {'title': '건강한 하루 식단: 완벽한 식단 가이드 - niscity.com', 'url': 'https://www.niscity.com/건강한-하루-식단/', 'content': 'A8. 물론이에요! 퀴노아, 렌틸콩, 두부, 견과류 등으로 단백질을 보충하고, 다양한 채소와 과일로 비타민과 미네랄을 섭취하면 돼요. 🥦 이어서 아래글도 참조하면 좋습니다. 건강한 벌크 업 식단: 근육 증가를 위한 완벽 플랜', 'score': 0.30436254, 'raw_content': '여러정보\\n\\n건강한 하루 식단: 완벽한 식단 가이드\\n\\n건강을 유지하기 위해 가장 중요한 요소 중 하나가 바로 건강한 하루 식단이에요.\\n\\n매일 어떤 음식을 먹느냐에 따라 우리의 에너지, 면역력, 그리고 전반적인 삶의 질이 크게 달라질 수 있답니다. 그렇기 때문에 영양소를 고루 포함한 균형 잡힌 식단은 필수적이에요. 🥗\\n\\n여기에서는 건강한 하루 식단을 구성하는 방법, 아침부터 저녁까지 섭취할 수 있는 이상적인 음식들, 그리고 실천할 수 있는 팁에 대해 알아보려고 해요.\\n\\n또한, 각 식단의 구성 요소와 추천 레시피까지 함께 다뤄볼게요. 🍎\\n\\n지금부터 함께 건강한 식단을 만들어볼 준비가 되셨나요? 그럼 아래 내용을 살펴보세요!\\n\\n📋 목차\\n\\n건강한 식단 짜는 최고의 방법은 여기를 클릭 하세요.\\n\\n아침 식사: 에너지의 시작\\n\\n아침 식사는 하루를 시작하는 가장 중요한 식사예요. 밤 동안 소모된 에너지를 보충하고 신진대사를 활성화하기 위해 반드시 섭취해야 해요. 건강한 하루 식단을 위해 아침에는 고단백, 고섬유질 음식을 추천해요.\\n\\n예를 들어, 오트밀은 복합 탄수화물로 에너지를 오래 지속시켜 주며, 블루베리와 같은 과일을 곁들이면 항산화 작용까지 기대할 수 있어요. 계란은 양질의 단백질을 제공해 포만감을 유지해 줍니다. 🍳\\n\\n또한, 통밀 토스트 위에 아보카도 스프레드를 바르면 건강한 지방을 섭취할 수 있어 뇌 기능을 촉진하는 데도 좋아요. 아침 식사는 가능한 한 거르지 말고, 이렇게 균형 있게 시작해 보세요!\\n\\n물론, 바쁜 아침에는 스무디 한 잔으로 빠르게 영양을 보충하는 것도 좋은 선택이에요. 바나나, 시금치, 아몬드 밀크, 그리고 치아씨드를 혼합한 스무디는 비타민과 미네랄을 충분히 제공해 줍니다. 🥤\\n\\n점심 식사: 균형 잡힌 영양\\n\\n점심 식사는 오전 동안 소모된 에너지를 보충하고 오후 활동을 준비하는 데 중요한 역할을 해요. 건강한 하루 식단의 점심에는 탄수화물, 단백질, 지방의 비율이 고르게 포함되어야 해요.\\n\\n대표적으로, 그릴드 치킨 샐러드는 신선한 채소와 단백질을 동시에 섭취할 수 있는 훌륭한 메뉴예요. 여기에 발사믹 드레싱을 곁들여 칼로리를 낮추면서도 맛을 유지할 수 있답니다. 🥗\\n\\n또한, 통곡물로 만든 샌드위치나 퀴노아 볼은 에너지를 오래 유지시켜 주는 훌륭한 선택이에요. 이때 소금을 과도하게 첨가하지 않고, 신선한 재료로 만든 음식을 섭취하는 것이 좋아요.\\n\\n만약 외식해야 한다면, 튀긴 음식 대신 구이 또는 찜으로 조리된 음식을 선택하고, 소스는 별도로 요청해 적게 섭취하도록 해 보세요. 이렇게 하면 건강한 식단을 유지할 수 있어요!\\n\\n저녁 식사: 가벼운 마무리\\n\\n저녁은 하루 중 가장 가벼운 식사가 되어야 해요. 지나치게 많은 칼로리를 섭취하면 수면의 질이 떨어지고 체중 증가로 이어질 수 있기 때문이에요. 건강한 하루 식단에서는 저녁에 단백질과 섬유질 위주의 가벼운 메뉴를 추천해요.\\n\\n예를 들어, 연어 스테이크와 구운 채소는 저녁 식사로 이상적인 선택이에요. 연어에 포함된 오메가-3 지방산은 심혈관 건강에 도움을 주며, 채소는 소화를 돕고 비타민을 제공해요. 🐟\\n\\n또한, 렌틸콩 스프는 가볍지만 포만감을 오래 유지해 줄 수 있는 메뉴 중 하나예요. 여기에 통곡물 빵 한 조각을 곁들이면 균형 잡힌 저녁 식사를 완성할 수 있답니다.\\n\\n저녁에는 카페인이 포함된 음료보다는 따뜻한 허브티를 마셔 몸과 마음을 진정시켜 보세요. 이렇게 하루를 마무리하면 보다 건강한 식단을 실천할 수 있어요. 🌙\\n\\nFAQ\\n\\nQ1. 아침을 꼭 먹어야 하나요?\\n\\nA1. 네, 아침은 하루의 에너지를 공급하고 신진대사를 활성화시키는 데 필수적이에요. 특히 단백질과 섬유질이 포함된 식단을 추천해요.\\n\\nQ2. 하루 몇 끼를 먹는 것이 가장 좋나요?\\n\\nA2. 일반적으로 하루 3끼가 권장되지만, 개인의 건강 상태와 생활 패턴에 따라 2~5끼로 나눌 수도 있어요. 중요한 건 균형 잡힌 영양 섭취예요.\\n\\nQ3. 건강한 간식으로 어떤 음식을 추천하나요?\\n\\nA3. 견과류, 요거트, 신선한 과일, 그리고 삶은 달걀과 같은 간식은 건강한 선택이에요. 당분과 나트륨이 적은 간식을 고르는 것이 중요해요.\\n\\nQ4. 외식 시에도 건강한 식단을 유지할 수 있나요?\\n\\nA4. 가능합니다! 튀긴 음식 대신 구이, 찜 요리를 선택하고, 드레싱이나 소스는 별도로 요청해 소량만 섭취하세요. 신선한 샐러드도 좋은 선택이에요.\\n\\nQ5. 저녁 식사를 가볍게 해야 하는 이유는 무엇인가요?\\n\\nA5. 저녁에 과도한 칼로리 섭취는 수면의 질을 저하시킬 수 있고 체중 증가로 이어질 수 있어요. 소화가 쉬운 음식을 선택하는 것이 좋아요.\\n\\nQ6. 물은 하루에 얼마나 마셔야 하나요?\\n\\nA6. 일반적으로 하루 2리터 정도의 물을 마시는 것이 권장되지만, 체중, 운동량, 환경에 따라 달라질 수 있어요. 갈증을 느끼기 전에 물을 섭취하세요.\\n\\nQ7. 식단에 설탕을 줄이면 어떤 이점이 있나요?\\n\\nA7. 설탕 섭취를 줄이면 체중 관리가 쉬워지고, 혈당 수치가 안정화되며, 심혈관 건강과 면역력에도 긍정적인 영향을 미쳐요.\\n\\nQ8. 채식주의자도 균형 잡힌 식단을 실천할 수 있나요?\\n\\nA8. 물론이에요! 퀴노아, 렌틸콩, 두부, 견과류 등으로 단백질을 보충하고, 다양한 채소와 과일로 비타민과 미네랄을 섭취하면 돼요. 🥦\\n\\n이어서 아래글도 참조하면 좋습니다.\\n\\n건강한 벌크 업 식단: 근육 증가를 위한 완벽 플랜\\n\\n건강한 벌크 업 식단: 근육 증가를 위한 완벽 플랜\\n\\n\\n\\n\\n\\nLeave a Comment 응답 취소\\n\\n댓글을 달기 위해서는 로그인해야합니다.\\n\\n건강 정보와 여행 팁\\n\\n니스시티(niscity.com)는 항상 사용자와 함께 합니다.\\n\\n최근에 올린 글\\n\\n2025년 주식 시장 전망: 유망 업종과 투자 트렌드 분석\\n\\nKDI 기초연금 개편, 수급 대상 축소될까?\\n\\n가장 건강한 식단: 체중 관리와 영양의 균형\\n\\n건강한 식단 추천 : 균형 잡힌 식사 비법\\n\\n건강한 다이어트 식단표 작성법과 실천 가이드\\n\\n건강한 다이어트 식단: 체중 감량을 위한 완벽한 가이드\\n\\n건강한 벌크 업 식단: 근육 증가를 위한 완벽 플랜\\n\\n건강한 하루 식단: 완벽한 식단 가이드\\n\\n건강한 일주일 식단: 몸과 마음을 위한 완벽 플랜\\n\\n건강한 저녁 식단의 완벽한 가이드\\n\\n건강 정보와 여행 팁\\n\\n니스시티(niscity.com)는 항상 사용자와 함께 합니다.\\n\\nTerms\\n\\nContact\\n\\n'}, {'title': '균형잡힌 식단 건강한 식단 만드는법 5가지 : 네이버 블로그', 'url': 'https://m.blog.naver.com/teimun/223031399390', 'content': '균형잡힌 식단 건강한 식단 만드는법 5가지 : 네이버 블로그 본문 바로가기 건강한 이야기 균형잡힌 식단 건강한 식단 만드는법 5가지 본문 기타 기능 균형잡힌 식단 건강한 식단 만드는법 5가지 균형잡힌 식단 건강한 식단의 핵심은 무엇일까요? 모넨바게리가 요약한 몸에 건강한 식단 짜는방법 꼭 섭취를 해야하는데 대신 인스턴트가 아닌 건강한 식품으로 섭취는 필수! 단백질, 유제품, 곡물, 과일, 채소 하루 세끼, 하루 두끼 중 한끼에는 코끼리도 채소를 먹고 물론 개인마다 이 칼로리 수치는 다를 수 있고 보통 건강한 식단을 짠다고 한다면 뭘 더 먹고 어떤 영양소를 찾는데 훨씬 건강한 식단이 만들어진다고 해요 아마 여러분들이 더 잘 아실거에요 잘 생각해보시면 탄단지 구성 잘 잡힌 모넨바게리의 식사대용 비건 스콘 역시 건강한 식품을 만들어나가고 있는데요. 하루 한 끼 정도는 건강하고 맛있게 {\"title\":\"균형잡힌 식단 건강한 식단 만드는법 5가지\",\"source\":\"https://blog.naver.com/teimun/223031399390\",\"blogName\":\"모넨 바게..\",\"domainIdOrBlogId\":\"teimun\",\"nicknameOrBlogId\":\"Monen bageri\",\"logNo\":223031399390,\"smartEditorVersion\":4,\"meDisplay\":true,\"lineDisplay\":true,\"outsideDisplay\":true,\"cafeDisplay\":true,\"blogDisplay\":true}', 'score': 0.26637325, 'raw_content': '균형잡힌 식단 건강한 식단 만드는법 5가지 : 네이버 블로그\\n \\n본문 바로가기\\n블로그\\n카테고리 이동 모넨 바게리\\n\\n검색 MY메뉴 열기\\n건강한 이야기\\n균형잡힌 식단 건강한 식단 만드는법 5가지\\n\\nMonen bageri\\n2023. 3. 1. 11:40\\n이웃추가\\n본문 기타 기능\\n\\n본문 폰트 크기 조정 본문 폰트 크기 작게 보기 본문 폰트 크기 크게 보기 가\\n\\n공감하기\\n\\n\\n공유하기\\n\\nURL복사\\n신고하기\\n\\n\\n\\n균형잡힌 식단 건강한 식단 만드는법 5가지\\n\\n\\n균형잡힌 식단\\n건강한 식단의 핵심은 무엇일까요?\\n\\u200b\\n서울내의 대형병원과\\n몇몇 연구들을 바탕으로\\n모넨바게리가 요약한 몸에 건강한 식단 짜는방법\\n함께 공유해볼게요~~\\n\\u200b\\n\\u200b\\n\\n\\u200b\\n탄단지 균형을 잡아야해요!\\n\\u200b\\n살을 뺀다고 해서 탄수화물 ZERO?\\n오히려 단백질을 에너지원으로 쓴다고해요\\n탄수화물을 섭취를 하지만\\n가급적 보리나 통밀처럼 정제가 덜 된 곡물류로 드셔주세요\\n\\u200b\\n단백질은 필수\\n지방질도 신체 유지 및 호르몬을 위해선\\n꼭 섭취를 해야하는데\\n대신 인스턴트가 아닌 건강한 식품으로 섭취는 필수!\\n\\u200b\\n\\u200b\\n\\n\\n\\n\\u200b\\n단백질, 유제품, 곡물, 과일, 채소\\n\\u200b\\n하루 세끼, 하루 두끼 중 한끼에는\\n위의 재료를 하나정도는 꼭 넣어줘야합니다!\\n\\u200b\\n만약 점심/저녁을 드신다고 한다면\\n\\u200b\\n점심에는 고기, 곡물, 채소를\\n저녁에는 유제품, 과일, 곡물과 같이\\n다섯가지 식품을 전부 하루에 한번은 드시는 방향으로\\n식단을 짜주시는게 좋아요\\n\\u200b\\n\\u200b\\n\\n\\u200b\\n코끼리도 채소를 먹고\\n표범도 고기를 먹는다!\\n\\u200b\\n핵심은 얼마만큼 본인에 맞는 열량과 에너지를 먹느냐!\\n\\u200b\\n올바른 칼로리 섭취량 유지하기\\n여성은 1,500 칼로리, 남성은 2,000칼로리\\n\\u200b\\n물론 개인마다 이 칼로리 수치는 다를 수 있고\\n현재 몸무게와 체력에따라 조금씩은 다르니\\n정확히 파악해서\\n적정 수준 정도로 드시는게 좋아요~\\n적게도 많게도 안된답니다 ㅎㅎ\\n\\u200b\\n\\u200b\\n\\n\\u200b\\n안좋은걸 피하기\\n\\u200b\\n보통 건강한 식단을 짠다고 한다면\\n뭘 더 먹고 어떤 영양소를 찾는데\\n안좋은것만 줄이시고 안먹어도\\n훨씬 건강한 식단이 만들어진다고 해요\\n\\u200b\\n아마 여러분들이 더 잘 아실거에요\\n\\u200b\\n술, 당 가득한 후식류, 기름기 가득한 음식\\n과하게 짜고 맵고 단 인스턴트 음식들...\\n\\u200b\\n잘 생각해보시면\\n위에있는 음식만 줄여도\\n내 식탁이 식단이 건강해지지않을까요 ^^\\n\\u200b\\n\\u200b\\n\\n\\n\\n\\u200b\\n\\u200b\\n바쁜 현대인의 특성상\\n모든 에너지원과 영양소를 섭취하기엔\\n시간 자체가 부족한 경우가 있다고...\\n\\u200b\\n\\u200b\\n내과등 병원 검진후 나에게 상시 부족한건 뭘지 파악하고\\n의사와 상의후 필요한 영양제가 있다면\\n영양제 형태로 섭취하는것도 필요할 수 있다고 해요\\n\\u200b\\n\\u200b\\n\\u200b\\n\\n\\u200b\\n\\u200b\\n탄단지 구성 잘 잡힌 모넨바게리의 식사대용 비건 스콘 역시\\n영양성분을 최대한 고려한 배합과\\n적절한 재료의 사용으로\\n건강한 식품을 만들어나가고 있는데요.\\n\\u200b\\n균형잡힌 식단의 시작\\n하루 한 끼 정도는 건강하고 맛있게\\n모넨과 함께해보시는건 어떨까요?\\n\\u200b\\n*링크 구매시 할인된 가격으로 한정 판매.\\n[7개 set 할인]노밀가루 귀리 흰강낭콩 비건스콘❤️❗️중량은 140-150g 내외입니다❗️수제품 특성상 크기는일정치않은점 양해바랍니다옵션이외에 맛선택은불가능합니다 NO 밀가루 NO계란 NO우유버터NO 소금 N www.idus.com\\n\\u200b\\n\\n#건강한식단\\n#식단짜는법\\n#식단추천\\n\\n\\n공감한 사람 보러가기\\n댓글 1 공유하기\\n{\"title\":\"균형잡힌 식단 건강한 식단 만드는법 5가지\",\"source\":\"https://blog.naver.com/teimun/223031399390\",\"blogName\":\"모넨 바게..\",\"domainIdOrBlogId\":\"teimun\",\"nicknameOrBlogId\":\"Monen bageri\",\"logNo\":223031399390,\"smartEditorVersion\":4,\"meDisplay\":true,\"lineDisplay\":true,\"outsideDisplay\":true,\"cafeDisplay\":true,\"blogDisplay\":true}\\n닫기\\n카테고리\\n이 블로그 홈\\n\\n공감한 사람 보러가기\\n댓글 1 공유하기\\nMonen bageri(teimun) 님을 이웃추가하고 새글을 받아보세요\\n취소 이웃추가'}, {'title': '건강하고 균형잡힌 식단 유지하는 법: 12 단계 (이미지 포함) - wikiHow', 'url': 'https://ko.wikihow.com/건강하고-균형잡힌-식단-유지하는-법', 'content': '올바른 식단을 지키면 신체 기능을 최적화시키는 데 필요한 필수 영양소를 모두 얻을 수 있다.[1] X 신뢰도 있는 출처 World Health Organization 출처 보기 게다가 균형잡힌 식단은 면역력 및 건강 증진 보조, 건강한 체중 유지, 비만과 당뇨병 등의 만성 질환 방지 등 다양하게 도움이 된다.[2] X 신뢰도 있는 출처 World Health Organization 출처 보기 균형잡힌 식단을 꾸리기 위해서는 이 글의 방법을 따라 간단한 계획을 세우고 몇 가지 준비 과정만 거치면 된다. 멀티비타민, 칼슘 보조제(젖당 불내증 또는 우유 알레르기가 있는 경우), 생선 기름(생선을 못 먹거나 해산물 알레르기가 있는 경우), 비타민 D(식품을 통해 섭취하기는 힘들며 햇빛에 피부를 노출시켜 합성할 수 있다) 보조제 등이 모두 도움이 될 것이다.[20] X 출처 검색하기', 'score': 0.21596229, 'raw_content': '건강하고 균형잡힌 식단 유지하는 법: 12 단계 (이미지 포함) - wikiHow\\nSkip to Content\\n\\n\\n\\n둘러보기\\n위키하우 소개 커뮤니티 대시보드 임의문서로 카테고리\\n\\n\\n로그인\\n로그인\\n익명 또는 개인 브라우저에서는 소셜 로그인이 불가합니다. 아이디 또는 이메일로 로그인해주세요.\\nFacebook\\nGoogle\\n위키하우 계정\\n아직 계정이 없으신가요? 회원 가입\\n\\n\\n랜덤\\n\\n\\n대문\\n\\n임의 문서로\\n카테고리 둘러보기\\n\\n위키하우(wikiHow) 소개\\n\\n\\n로그인/회원 가입\\n\\n\\n정책\\n\\n글 카테고리\\n요리와 식생활\\n다이어트와 영양\\n\\n건강하고 균형잡힌 식단 유지하는 법\\n PDF 다운로드\\n작성자 정보출처\\n PDF 다운로드\\nX\\n위키하우 글은 여러명의 작성자에 의해 공동 작성될 수 있습니다. 이 글은 익명을 포함한 24 명의 작성자들이 꾸준히 편집하여 개선되었습니다.  \\n이 글에서는 15 개의 출처가 인용 되었습니다. 페이지 하단에서 찾아볼 수 있습니다.  \\n조회수 35,835회\\n이 글에서는\\n균형잡힌 식단에 대해 알기\\n균형잡힌 식단 유지하기\\n관련 글\\n출처\\n건강한 삶을 살기 위해서는 영양학적으로 균형이 잘 잡힌 식단이 필수적이다. 올바른 식단을 지키면 신체 기능을 최적화시키는 데 필요한 필수 영양소를 모두 얻을 수 있다.[1] X 신뢰도 있는 출처 World Health Organization 출처 보기 게다가 균형잡힌 식단은 면역력 및 건강 증진 보조, 건강한 체중 유지, 비만과 당뇨병 등의 만성 질환 방지 등 다양하게 도움이 된다.[2] X 신뢰도 있는 출처 World Health Organization 출처 보기 균형잡힌 식단을 꾸리기 위해서는 이 글의 방법을 따라 간단한 계획을 세우고 몇 가지 준비 과정만 거치면 된다. 그러면 나머지는 건강하고 행복한 삶을 살기만 하면 된다.\\n단계\\n파트 1\\n파트 1 의 2:\\n균형잡힌 식단에 대해 알기\\n PDF 다운로드\\n\\n\\n\\n1\\n다섯 가지 식품군을 모두 섭취하기. 균형잡힌 식단에서 가장 중요한 것은 되도록이면 매일 다섯 가지 식품군을 모두 섭취하는 것이다.[3] X 신뢰도 있는 출처 National Health Service (UK) 출처 보기 각 식품군은 건강에 필수적인 비타민, 미네랄(무기질) 등 다양한 영양소를 제공한다.\\n\\n단백질, 유제품, 곡물, 과일, 채소를 꼭 일일 식단에 넣도록 하자.\\n또한 매일 건강한 지방을 섭취하는 것이 좋다. 비록 지방이 따로 식품군으로 분류가 되지는 않지만 건강한 오메가-3 지방산과 같은 지방을 적절하게 섭취하면 심혈관계 건강에 도움이 된다.[4] X 출처 검색하기\\n한두 가지 식품군을 식단에서 제외하면 영양분 결핍의 위험에 노출될 수 있다. 각 식품군은 필수 영양소를 전부 제공하지 않기 때문에 매일 다섯 가지 식품군을 섭취해야 건강을 유지할 수 있다.[5] X 출처 검색하기\\n\\n\\n\\n\\n2\\n각 식품군에 포함된 다양한 종류의 음식 먹기. 다섯 가지 식품군을 골고루 먹는 것도 중요하지만 각 식품군 내에서도 다양한 식품을 섭취하는 것이 중요하다.\\n\\n다양한 식품이 다른 종류의 비타민, 미네랄, 영양분을 제공한다. 따라서 음식을 골고루 먹지 않으면 영양분 섭취량도 줄어들게 된다.[6] X 출처 검색하기\\n특히 과일과 채소가 그렇다. 과일과 채소에는 비타민과 미네랄이 다양하게 함유되어 있으며 건강 증진에 도움이 되는 항산화 물질까지 다량으로 들어 있다. 다양한 색깔의 과일과 채소를 먹어 다양한 항산화 물질을 섭취해 건강을 보조하자.[7] X 신뢰도 있는 출처 American Heart Association 출처 보기\\n지역 농산물을 먹도록 하자. 계절과 맞는 과일과 채소는 비타민과 미네랄 함량이 더 높다.\\n\\n\\n\\n\\n3\\n올바른 칼로리 섭취량 유지하기. 다양한 식품군을 식단에 넣어 필요한 영양분을 섭취하는 것도 중요하지만 매일 섭취하는 칼로리 양에도 신경을 쓸 필요가 있다. 즉, 균형을 맞춰야 한다.\\n\\n연령, 활동량, 성별과 맞는 칼로리 섭취량을 알고 따라야 건강한 체중을 유지할 수 있다. 과하거나 너무 적은 칼로리를 섭취하면 원치 않는 체중 증가 및 감소의 원인이 된다.\\n일반적으로 대부분의 여성은 1,500 칼로리, 남성은 2,000칼로리를 매일 필요로 한다. 이는 앞서 언급한 바와 같이 성별, 활동량, 연령, 건강 상태에 따라 달라질 수 있다.\\n체중을 늘리거나 줄이고 싶다면 그에 알맞은 칼로리 섭취량이 뒤따라야 한다. 다만 칼로리 섭취량이 너무 과도하거나 적은 경우에는 문제가 발생할 수 있다는 점을 염두에 두도록 하자.\\n\\n\\n\\n\\n4\\n제한적인 다이어트 피하기. 특정 음식이나 식품군을 피하거나 한 식품을 과도하게 섭취하는 다이어트(식단)을 피하도록 하자. 이런 유형의 식단은 한 영양분의 과다 섭취와 함께 다른 영양분의 결핍을 초래하기 때문에 식단의 불균형으로 이어진다.\\n\\n저탄수화물 식단은 과일, 전분 채소, 콩류, 곡물, 유제품과 같은 다양한 탄수화물 기반의 식품 섭취를 제한하거나 피하게 만든다. 하지만 이는 다양한 식품군의 섭취를 방해하기 때문에 영양 결핍의 위험을 증가시킨다.[8] X 신뢰도 있는 출처 Mayo Clinic 출처 보기\\n저지방 식단은 계란, 기름진 생선, 일반 유제품, 고지방 육류, 버터, 오일 등의 고지방 식품의 섭취를 제한한다. 지방 섭취량의 제한이 어느 정도 도움이 되는 것은 맞지만, 비타민 A와 D 등의 지용성 비타민 흡수를 위해서는 지방의 섭취가 필요하다.[9] X 출처 검색하기\\n고단백 식단에서는 가금류, 계란, 돼지고기, 소고기, 해산물, 콩류 등 단백질 기반의 식품 섭취를 지나치게 강조한다. 단백질은 적절하게 섭취했을 때만 좋으며 과도한 섭취가 지속되면 콩팥(신장)이 손상을 입게 된다.[10] X 신뢰도 있는 출처 Mayo Clinic 출처 보기\\n\\n\\n\\n\\n5\\n몸에 안 좋은 음식은 적당히 먹기. 균형잡힌 식단에도 고칼로리 식품 또는 몸에 안 좋은 단 음식 등이 들어갈 수 있다. 물론 이런 식품을 주기적으로 먹어서는 안 될 것이다. 다만 건강한 식단에도 이런 식품이 허용된다는 사실을 알아두도록 하자.[11] X 신뢰도 있는 출처 Mayo Clinic 출처 보기\\n\\n식단에 간식이나 건강에 나쁜 음식을 가끔씩만 넣도록 하자. 디저트나 와인 한 잔 정도가 적당할 것이다.\\n과식을 하거나 안 좋은 음식을 너무 많이, 그것도 자주 먹으면 안 된다. 이는 식단의 불균형을 초래하며 체중 증가 및 고혈압, 당뇨병 등의 만성 질환을 유발할 수 있다.\\n몸에 안 좋은 음식에는 알코올 음료도 포함된다. 음주를 할 때는 여성의 경우 하루 한 잔, 남성은 하루 두 잔을 넘기지 않도록 해야 한다.[12] X 신뢰도 있는 출처 Mayo Clinic 출처 보기\\n\\n\\n\\n\\n6\\n식단 계획 짜보기. 균형잡힌 식단 계획을 세우기 위해 먼저 자기만의 식단을 짜보도록 하자. 적어놓고 이를 살피면 영영가 있는 식단의 기본을 만족하고 있는지(다섯 가지 식품군을 모두 포함하면서 기호에 맞는 식품을 선택했는지)를 확인할 수 있다.[13] X 출처 검색하기\\n\\n식단 계획을 짤 때는 아침, 점심, 저녁 식사를 모두 포함시키도록 하자. 또한 간식을 포함시키는 것도 잊지 않도록 한다.\\n며칠 또는 한 주의 식단 계획을 짠 뒤에는 각 식품군에 포함된 다양한 식품이 들어갔는지 확인해보도록 한다. 일부 식품 또는 식품군이 부족하다고 느낀다면 필요에 따라 이를 수정하면 된다.\\n스마트폰에 식단 계획 관련 앱을 다운받아 이 과정을 더 쉽게 수행할 수도 있다.\\n\\n광고\\n\\n\\n파트 2\\n파트 2 의 2:\\n균형잡힌 식단 유지하기\\n PDF 다운로드\\n\\n\\n\\n1\\n저지방 단백질 섭취하기. 단백질은 비교적 많은 양을 섭취해야 하는 필수 영양소다. 매끼 단백질을 섭취하고 간식을 먹어 일일 단백질 권장량을 충족시키도록 하자.\\n\\n단백질은 다양한 식품을 통해 섭취할 수 있다: 가금류, 소고기, 돼지고기, 콩류, 계란, 유제품, 두부 등의 대두 식품.\\n단백질 1회분이 대략 85~110 g 정도이다. 이는 카드 덱이나 상품권 크기와 비슷하다.[14] X 신뢰도 있는 출처 USDA Center for Nutrition Policy and Promotion 출처 보기 대부분의 여성은 매일 46 g, 남성은 56 g의 단백질을 섭취해야 한다.\\n체중을 관리하고 있다면 저지방 단백질을 섭취하도록 하자. 지방이 적은 단백질원은 칼로리 섭취량을 줄여주고 체중 감량에 도움을 준다. 순살 또는 껍질을 벗긴 닭가슴살, 칠면조 살코기, 간 소고기(지방 함량 10% 미만), 무염분 견과류를 먹도록 하자.\\n\\n\\n\\n\\n2\\n다양한 종류의 과일과 채소 섭취하기. 이 식품들은 비타민과 미네랄, 섬유질 함량이 높다. 게다가 건강에 다양하게 도움이 되는 항산화 물질이 들어 있다. 항산화 물질은 다른 식품들을 통해서는 섭취가 힘들다.[15] X 신뢰도 있는 출처 American Heart Association 출처 보기\\n\\n과일 1회분은 작은 과일 하나 또는 썬 과일 1/2컵이다.[16] X 신뢰도 있는 출처 USDA Center for Nutrition Policy and Promotion 출처 보기 매일 과일 2~3회분을 섭취하도록 하자.\\n채소 1회분은 1~2컵의 녹색 잎채소이다.[17] X 신뢰도 있는 출처 USDA Center for Nutrition Policy and Promotion 출처 보기 매일 4~5회분의 채소를 섭취하도록 하자.\\n항산화 물질을 다양하게 섭취하려면 매일 다른 색의 과일과 채소를 먹어야 한다. 그러면 영양분도 다양하게 섭취할 수 있다. 색이 다른 과일과 채소는 다른 비타민을 함유하고 있다.[18] X 신뢰도 있는 출처 USDA Center for Nutrition Policy and Promotion 출처 보기\\n\\n\\n\\n\\n3\\n100% 통곡물 고르기. 곡물에는 정제된 곡물과 통곡물이 있다. 가능하면 100\\xa0% 통곡물만을 섭취하도록 하자. 최소 식단의 곡물 섭취량의 50\\xa0% 이상이 통곡물로 채워지도록 계획을 세우자.\\n\\n통곡물은 곡물의 모든 부위(겨, 배아, 배유)를 포함하고 있으며 가공이 최소한 정도로만 된 곡물을 의미한다.[19] X 출처 검색하기  곡물의 모든 부위를 섭취하면 섬유질과 단백질 및 건강에 좋은 기타 영양분을 손실 없이 섭취할 수 있다. 다음 식품들을 식단에 넣어보자: 100\\xa0% 통밀 파스타, 퀴노아, 귀리, 현미, 100\\xa0% 통밀빵.\\n정제된 곡물은 가공 처리가 된 것이며 겨와 배아를 함유하고 있지 않다(영양분 제공량이 감소한다). 대표적으로는 흰빵, 흰파스타, 흰쌀, 흰밀가루로 된 제품 등이 있다.\\n통곡물 1회분은 30 g 또는 1/2컵이다. 매일 2~3회분의 곡물을 섭취하고 섭취량의 50\\xa0% 이상이 100\\xa0% 통곡물이 되도록 조절하자.\\n\\n\\n\\n\\n4\\n건강한 지방 섭취하기. 지방은 식품군에 포함되어 있지는 않지만 균형잡힌 식단에는 필수적으로 들어가야 하는 영양분이다. 하지만 해로운 지방을 피해야 하며 지방의 과도한 섭취를 삼가야 하니 항시 주의할 필요는 있다.\\n\\n심장 건강에 좋은 오메가-3 지방산과 단일불포화 지방을 섭취하도록 하자. 연구에 따르면 이 지방들이 심혈관계 건강을 증진시켜준다고 한다. 올리브, 올리브유, 아보카도, 견과류, 견과류 기름, 기름진 생선 등을 먹도록 하자.\\n지방 또는 기름 1회분은 1티스푼이다. 매일 1~2회분의 지방을 섭취하도록 하자. 하지만 2회분을 넘기면 건강에 안 좋을 수 있다.\\n트랜스 지방과 포화 지방 섭취량을 제한하거나 최소화시키도록 하자. 이 지방들은 심혈관계 질환의 위험을 증가시키는 것으로 알려져 있다. 튀긴 음식 또는 패스트푸드, 가공 식품, 동물성 지방 함량이 높은 식품을 모두 피하도록 하자.\\n\\n\\n\\n\\n5\\n보조제 복용하기. 가끔은 모든 식품군과 다양한 식품을 모두 섭취하는 것이 불가능할 수도 있다. 음식 알레르기, 특정 음식에 대한 과민 반응, 만성 질환 등이 원인이 될 수 있으며 이 경우 비타민과 미네랄 보조제 등을 통해 모든 필수 영양분을 섭취해야 한다. 기본적으로 식단을 통해 최대한 많은 양의 영양분을 섭취한 뒤에 보조제를 복용해 부족한 영양분을 보충하도록 하자.\\n\\n보조제의 복용을 통해 일일 영양분 권장량을 충족시키도록 하자. 멀티비타민, 칼슘 보조제(젖당 불내증 또는 우유 알레르기가 있는 경우), 생선 기름(생선을 못 먹거나 해산물 알레르기가 있는 경우), 비타민 D(식품을 통해 섭취하기는 힘들며 햇빛에 피부를 노출시켜 합성할 수 있다) 보조제 등이 모두 도움이 될 것이다.[20] X 출처 검색하기\\n채식주의자는 비타민 B12와 철분 보조제의 복용이 필요할 수도 있다. 채식주의가 일부 식품을 통해 섭취할 수 있는 필수 영양소의 섭취를 제한하기 때문이다.\\n비타민, 미네랄, 허브 보조제를 복용하기 전에 꼭 의사와 상의하도록 하자. 일반적으로 보조제는 해가 되지 않지만 일부 보조제는 처방약 또는 기저(만성) 질환과 부정적인 상호작용을 일으키기도 한다. 따라서 의사와의 상의를 통해 어떤 보조제가 안전하고 적절할지를 알아보는 것이 중요하다.\\n다시 강조하자면 필수 영양분의 섭취를 보조제에만 기대서는 안 된다. 항상 필요한 영양분은 식단을 통해 섭취하는 것이 좋으며, 부득이한 경우에만 보조제를 통해 보충할 필요가 있다.[21] X 출처 검색하기\\n\\n\\n\\n\\n6\\n영양사와 만나 상의하기. 균형잡힌 식단을 유지하는 것이 약간 어렵거나 혼란스러울 수 있다. 따라서 자격증이 있는 검증된 영양사와 만나 추가적인 정보를 얻고 제공받은 지침을 기준으로 식단을 바꿔보도록 하자.\\n\\n검증된 영양사는 자격증이 있고 영양분, 건강한 식습관, 체중 감량에 대해 확실히 이해하고 있다.\\n식단과 관련해 전문적인 상담을 하는 클리닉이 있는지 찾아보거나, 의사에게 영양사를 추천해줄 수 있는지 문의해보도록 하자.\\n\\n광고\\n\\n\\n팁\\n\\n올바른 양의 탄수화물, 단백질, 지방을 모두 포함하면서 총 칼로리 섭취량을 줄인 식단을 유지하면 체중 감량에 도움이 된다. 균형잡힌 식단을 유지하면 영양분 함량이 높은 음식들을 빼지 않아도 되며 필요한 영양분을 다 섭취할 수 있다. 좋은 식단을 만들고 싶다면 다양한 음식을 포함시켜야 한다.\\n과식 방지를 위해 천천히 식사를 하도록 하자. 느리게 식사를 하면 배가 찼을 때 몸이 신호를 느끼고 식사를 중단할 수 있다. 너무 빠르게 식사를 하면 뇌가 제때 신호를 보내지 못해 이미 과식을 한 상태에서 배가 찼다는 신호를 받을 수 있다.\\n소량의 견과류를 섭취하면 도움이 된다. 하지만 과식은 금물이다.\\n\\n광고\\n관련 위키하우\\n임신 초기 증상 알아보기목에 낀 가래 제거하는 법빠르게 술 깨는 방법귀가 먹먹한 증상을 가라앉히는 방법설사 멈추는 법포피 스트레칭하는 법복식 호흡 하는 법탐폰 사용하는 법자연적으로 가슴 크기를 키우는 방법코피 멈추게 하는 방법귀에 들어간 물 빼는 법피부에 박힌 가시 빼는 법\\n광고\\n출처\\n\\n↑ http://www.euro.who.int/en/health-topics/disease-prevention/nutrition/a-healthy-lifestyle/benefits-of-a-balanced-diet\\n↑ http://www.euro.who.int/en/health-topics/disease-prevention/nutrition/a-healthy-lifestyle/benefits-of-a-balanced-diet\\n↑ http://www.nhs.uk/Livewell/Goodfood/Pages/Healthyeating.aspx\\n↑ http://www.healthline.com/health/balanced-diet#Calories2\\n↑ http://www.healthline.com/health/balanced-diet#Calories2\\n↑ http://www.berkeleywellness.com/healthy-eating/food/slideshow/14-keys-healthy-diet\\n↑ http://www.heart.org/HEARTORG/GettingHealthy/NutritionCenter/HealthyEating/Can-antioxidants-in-fruits-and-vegetables-protect-you-and-your-heart_UCM_454424_Article.jsp\\n↑ http://www.mayoclinic.org/healthy-lifestyle/weight-loss/in-depth/low-carb-diet/art-20045831?pg=2\\n↑ http://www.hsph.harvard.edu/nutritionsource/low-fat/\\n\\n출처 더보기\\n\\n↑ http://www.mayoclinic.org/healthy-lifestyle/nutrition-and-healthy-eating/expert-answers/high-protein-diets/faq-20058207\\n↑ http://www.mayoclinic.org/diseases-conditions/heart-disease/in-depth/health-tip/art-20048749\\n↑ http://www.mayoclinic.org/healthy-lifestyle/nutrition-and-healthy-eating/in-depth/alcohol/art-20044551\\n↑ http://www.healthline.com/health/balanced-diet#Calories2\\n↑ http://www.choosemyplate.gov/protein-foods\\n↑ http://www.heart.org/HEARTORG/GettingHealthy/NutritionCenter/HealthyEating/Can-antioxidants-in-fruits-and-vegetables-protect-you-and-your-heart_UCM_454424_Article.jsp\\n↑ http://www.choosemyplate.gov/fruit\\n↑ http://www.choosemyplate.gov/vegetables\\n↑ http://www.choosemyplate.gov/vegetables\\n↑ http://wholegrainscouncil.org/whole-grains-101/what-are-the-health-benefits\\n↑ http://www.berkeleywellness.com/healthy-eating/food/lists/14-keys-to-a-healthy-diet/slideid_190\\n↑ http://www.berkeleywellness.com/healthy-eating/food/lists/14-keys-to-a-healthy-diet/slideid_190\\n\\n이 위키하우에 대하여\\n위키하우 글은 여러명의 작성자에 의해 공동 작성될 수 있습니다. 이 글은 익명을 포함한 24 명의 작성자들이 꾸준히 편집하여 개선되었습니다. 조회수 35,835회\\n글 카테고리: 건강관리 | 건강 일반 | 다이어트와 영양\\n다른 언어\\n스페인어\\n프랑스어\\n러시아어\\n이탈리아어\\n인도네시아어\\n아랍어\\n베트남어\\n체코어\\n네덜란드어\\n태국어\\n\\n인쇄\\n\\n이 문서는 35,835 번 조회 되었습니다.\\n이 글이 도움이 되었나요?\\n네 아니오\\n광고\\n쿠키는 더 좋은 환경의 위키하우를\\xa0만드는데 도움을 줍니다. 계속해서 저희 사이트를 사용하시는 경우, 쿠키 정책 에 동의하심으로 간주됩니다.\\n관련 글\\n임신 초기 증상 알아보기목에 낀 가래 제거하는 법빠르게 술 깨는 방법귀가 먹먹한 증상을 가라앉히는 방법\\n추천 글\\n 정신연령 퀴즈 나의 핵심감정은 무엇일까? 퀴즈 인스타그램에서 눈에 띄지 않는 하이라이트 이름 만드는 5가지 쉬운 단계별 방법 나의 위험신호는? 퀴즈\\n최신 유행 글\\n 피곤할 때 잠에서 깨는 방법 엑셀 파일 용량 줄이는 방법 휴대전화에서 구글 비밀번호 찾기 종이 하트 접는 방법 일본에 전화하는 법 삼성 갤럭시 폰에서 삭제한 사진 복구하는 법\\n추천 글\\n 자폐 증상이 맞는 지 확인해보는 퀴즈 \" 인스타그램에서 팔로우를 요청한 사람들 목록 쉽게 보는 방법\" 사랑의 언어 퀴즈 리즈 퀴즈\\n추천 글\\n 인스타그램에서 나의 팔로워 목록을 볼 수 있는 사람을 제한하는 방법 나는 키스를 잘할까? 퀴즈 나의 짝사랑 상대가 나를 좋아할까? 퀴즈 익명으로 인스타그램 스토리 보기\\n추천 글\\n 내가 좋아하는 여성의 유형은? 퀴즈 틱톡에서 \"시그마\"는 무엇을 의미할까? 시그마 메일 퀴즈 팔로워 1천명 없이 틱톡 라이브 하기\\n추천 글\\n 남자가 날 짝사랑하는 지 알아보는 방법 가족과 친구들에게 해줄 수 있는 120가지의 생일 축하 기도 나는 똑똑할까? 퀴즈 남자 유형 퀴즈\\n\\n\\n글 카테고리\\n요리와 식생활\\n\\n다이어트와 영양\\n\\n\\n대문\\n\\n위키하우 소개\\n전문가\\n연락처\\n사이트맵\\n이용약관(영문)\\n개인정보 보호정책\\nDo Not Sell or Share My Info\\nNot Selling Info\\n\\n팔로우 하기\\n\\n-\\n-\\n\\n370'}, {'title': '일주일 건강 식단 짜는 방법 20가지 - 마이올인포', 'url': 'https://myallinfo.com/entry/일주일-건강-식단-짜는-방법-20가지/', 'content': '일주일 건강 식단 짜는 방법 20가지 - 마이올인포 식사 계획을 세심하게 준비하면 다양한 영양소를 골고루 섭취하고 불필요한 칼로리를 줄일 수 있습니다. 현미밥에 계란 후라이와 함께 간단한 샐러드를 곁들여 섬유질과 단백질을 동시에 섭취할 수 있습니다. 저녁에는 채소 스튜와 두부를 함께 먹어 가벼운 식사를 준비할 수 있습니다. 점심으로는 참치 샐러드와 감자를 섭취하면 단백질과 탄수화물을 균형 있게 섭취할 수 있습니다. 저녁에는 구운 연어와 아스파라거스를 먹으면 건강한 지방과 비타민을 섭취할 수 있습니다. 점심에는 그릴로 구운 닭고기와 신선한 샐러드를 곁들이면 건강한 단백질과 비타민을 함께 섭취할 수 있습니다. 저녁에는 스팀으로 조리한 브로콜리와 두부 요리를 통해 가벼운 식사를 마무리할 수 있습니다. 이처럼 일주일 동안의 식단을 체계적으로 계획하고 준비하면 균형 잡힌 영양 섭취와 건강한 생활 습관을 유지할 수 있습니다.', 'score': 0.18947643, 'raw_content': '일주일 건강 식단 짜는 방법 20가지 - 마이올인포\\nSkip to content\\n\\nMenu\\n\\n운동, 헬스\\n홈트레이닝\\n맨몸 운동\\n단백질 보충제\\n\\n\\n다이어트\\n생활 정보\\n개인정보처리방침\\n문의하기\\n\\n\\n일주일 건강 식단 짜는 방법 20가지\\n2024년 9월 7일2024년 9월 7일 by 마이올인포\\n일주일 건강 식단 짜는 방법 20가지를 알려드리겠습니다.\\xa0일주일 동안의 식단을 잘 구성하면 체중 관리뿐만 아니라 건강도 함께 챙길 수 있습니다.\\n식사 계획을 세심하게 준비하면 다양한 영양소를 골고루 섭취하고 불필요한 칼로리를 줄일 수 있습니다. 이 글에서 일주일 동안 지속 가능한 건강한 식습관을 만들기 위해 어떻게 식단을 구성할 수 있는지 자세히 설명하겠습니다.\\n건강한 식단의 중요성 이해하기\\n건강한 식단은 단순한 체중 감량 이상의 효과를 가져다줍니다. 신체의 에너지를 지속적으로 공급하고, 면역력을 강화하며, 정신적 집중력에도 긍정적인 영향을 미칩니다.\\n건강한 식단을 통해 만성 질환을 예방하고 더 나은 삶의 질을 유지할 수 있습니다.\\n균형 잡힌 영양소 섭취하기\\n균형 잡힌 식단은 탄수화물, 단백질, 지방, 비타민, 미네랄 등 다양한 영양소를 골고루 섭취하는 것을 의미합니다. 각 영양소는 신체의 다양한 기능을 지원하며, 부족하거나 과잉일 경우 건강에 부정적인 영향을 미칠 수 있습니다.\\n일일 칼로리 계산 중요성\\n식단을 구성할 때 자신의 일일 칼로리 필요량을 아는 것이 중요합니다. 성별, 나이, 활동량에 따라 적정 칼로리는 다를 수 있지만, 대체로 하루 1,800 ~ 2,400 칼로리를 유지하는 것이 일반적입니다.\\n칼로리 섭취를 과다하거나 부족하지 않게 조절하는 것이 건강한 체중 유지의 핵심입니다.\\n월요일: 신선한 채소와 단백질로 시작하기\\n아침 식사: 현미밥과 계란 요리\\n월요일 아침은 신선한 채소와 단백질로 시작하는 것이 좋습니다. 현미밥에 계란 후라이와 함께 간단한 샐러드를 곁들여 섬유질과 단백질을 동시에 섭취할 수 있습니다.\\n현미는 소화가 잘되고 혈당을 안정시키는 효과가 있어 아침으로 적합합니다.\\n점심 식사: 닭가슴살 샐러드와 고구마\\n점심에는 가벼운 샐러드와 단백질이 풍부한 닭가슴살, 탄수화물이 적절하게 들어 있는 고구마를 섭취하면 좋습니다. 이러한 조합은 포만감을 제공하면서도 칼로리 부담이 적습니다.\\n저녁 식사: 채소 스튜와 두부 요리\\n저녁에는 채소 스튜와 두부를 함께 먹어 가벼운 식사를 준비할 수 있습니다. 채소 스튜는 저칼로리이면서도 비타민과 미네랄이 풍부하고, 두부는 단백질을 보충하는 데 도움이 됩니다.\\n화요일: 탄수화물 줄이고 단백질 늘리기\\n아침 식사: 오트밀과 견과류\\n화요일 아침은 오트밀로 시작해보세요. 오트밀은 천천히 소화되면서 혈당을 안정적으로 유지해주며, 여기에 아몬드나 호두 같은 견과류를 추가해 단백질과 좋은 지방을 함께 섭취할 수 있습니다.\\n점심 식사: 연어 샐러드와 퀴노아\\n연어는 오메가-3 지방산이 풍부해 심혈관 건강에 좋습니다. 점심에 연어 샐러드와 함께 퀴노아를 곁들이면 포만감과 영양 균형을 모두 챙길 수 있습니다.\\n퀴노아는 식물성 단백질이 풍부하여 고기 대체 식품으로 훌륭한 선택입니다.\\n저녁 식사: 그릴 닭가슴살과 구운 채소\\n저녁 식사로는 그릴 닭가슴살과 구운 채소를 추천합니다. 구운 채소는 비타민과 섬유질이 풍부하고, 닭가슴살은 지방이 적어 다이어트에 적합합니다.\\n수요일: 건강한 간식과 간단한 식사\\n아침 식사: 그릭 요거트와 베리류\\n수요일 아침에는 그릭 요거트에 블루베리, 딸기 등을 넣어 먹으면 좋습니다. 그릭 요거트는 단백질이 풍부하고 소화에 좋으며, 베리류는 항산화제가 가득해 면역력을 높이는 데 도움을 줍니다.\\n점심 식사: 두부 샐러드와 병아리콩\\n두부는 가벼우면서도 단백질이 풍부한 음식입니다. 두부 샐러드에 병아리콩을 추가하면 식이섬유와 단백질을 한 번에 섭취할 수 있어 포만감이 오래갑니다.\\n저녁 식사: 스팀 생선과 브로콜리\\n저녁에는 스팀으로 요리한 생선과 브로콜리를 먹는 것이 좋습니다. 생선은 오메가-3 지방산이 풍부하고, 브로콜리는 항산화 성분이 많아 건강에 좋습니다.\\n목요일: 몸에 좋은 지방을 포함한 식단\\n아침 식사: 아보카도 토스트와 계란\\n목요일 아침에는 아보카도 토스트에 삶은 계란을 얹어 먹으면 훌륭한 영양소 조합을 제공합니다. 아보카도는 몸에 좋은 지방이 많아 심장 건강에 도움이 되고, 계란은 단백질을 공급해 줍니다.\\n점심 식사: 렌틸콩 수프와 통밀빵\\n점심으로 렌틸콩 수프와 통밀빵을 먹으면 식이섬유와 단백질을 모두 섭취할 수 있습니다. 렌틸콩은 콜레스테롤을 낮추는 데 도움이 되며, 통밀빵은 혈당을 천천히 올려줍니다.\\n저녁 식사: 소고기 구이와 시금치 샐러드\\n저녁에는 소고기 구이와 시금치 샐러드를 곁들여 단백질과 철분을 동시에 섭취할 수 있습니다. 시금치는 철분과 비타민 C가 풍부하여 신진대사를 촉진시킵니다.\\n금요일: 가벼운 샐러드와 해산물\\n아침 식사: 현미밥과 나물 반찬\\n금요일 아침은 전통적인 현미밥과 나물 반찬으로 시작할 수 있습니다. 현미는 식이섬유가 풍부하고 나물은 각종 비타민과 미네랄을 공급해 줍니다.\\n점심 식사: 참치 샐러드와 감자\\n점심으로는 참치 샐러드와 감자를 섭취하면 단백질과 탄수화물을 균형 있게 섭취할 수 있습니다. 참치는 지방이 적고, 감자는 포만감을 유지시켜 줍니다.\\n저녁 식사: 새우구이와 야채 볶음\\n새우구이는 칼로리가 낮고 단백질이 풍부하며, 야채 볶음은 다양한 비타민과 식이섬유를 제공합니다.\\n토요일: 다양한 영양소 섭취\\n아침 식사: 퀴노아와 채소 스크램블\\n토요일 아침에는 퀴노아와 채소 스크램블을 준비해 보세요. 퀴노아는 식물성 단백질이 풍부하며, 채소는 비타민과 미네랄을 제공합니다.\\n점심 식사: 치킨 샌드위치와 과일\\n점심으로는 통밀빵에 치킨과 야채를 넣어 샌드위치를 만들고, 과일을 곁들여 가벼운 식사를 할 수 있습니다.\\n저녁 식사: 구운 연어와 아스파라거스\\n저녁에는 구운 연어와 아스파라거스를 먹으면 건강한 지방과 비타민을 섭취할 수 있습니다.\\n일요일: 가벼운 식사와 휴식\\n아침 식사: 블루베리 스무디와 오트밀\\n일요일 아침에는 블루베리 스무디와 오트밀로 가벼운 식사를 시작하세요. 스무디는 비타민이 풍부하고, 오트밀은 포만감을 오래 유지시켜 줍니다.\\n점심 식사: 그릴 닭고기와 샐러드\\n점심에는 그릴로 구운 닭고기와 신선한 샐러드를 곁들이면 건강한 단백질과 비타민을 함께 섭취할 수 있습니다.\\n저녁 식사: 스팀 브로콜리와 두부 요리\\n저녁에는 스팀으로 조리한 브로콜리와 두부 요리를 통해 가벼운 식사를 마무리할 수 있습니다.\\n이처럼 일주일 동안의 식단을 체계적으로 계획하고 준비하면 균형 잡힌 영양 섭취와 건강한 생활 습관을 유지할 수 있습니다.\\nCategories 다이어트\\n다이어트 식단 짜기 방법 15가지 총정리\\n다이어트 전후 눈 크기 변화주는 방법\\n콘텐츠 검색\\nSearch for:  \\n새로운 콘텐츠\\n\\n신용카드 선결제 신용점수 영향, 일시납, 할부 이자율\\n디즈니플러스 환불, 구독 해지, 취소, 탈퇴 방법\\n디즈니플러스 결제 취소, 탈퇴, 해지, 삭제, 환불 방법\\n디즈니플러스 동시 접속, 계정 공유 금지, 가격, 해지 방법\\n쿠팡 마우스 반품 방법, 환불 절차, 조건, 소요기간, 주의사항\\n야놀자 할인 받는법, 숙박, 여행, 항공권 할인 받기\\n디즈니플러스 자막위치 조정, 자막 설정, 활용하기\\n아이폰 애플워치 알람 연동 문제, 원인, 해결 방법\\n해외주식 예수금 환전, 예수금 인출, 출금시간, 환전 방법\\n디즈니플러스 시청기록, 접속 기록 모두 삭제하기\\n\\n© 2025 마이올인포 • Built with GeneratePress'}, {'title': '건강식단 메뉴 추천 등: 총 정리 가이드 (2023년)', 'url': 'https://healthfeed.co.kr/615', 'content': '카무트 효능 5가지 및 부작용건강 큐레이팅 콤부차 효능 7가지 및 부작용건강 큐레이팅 페퍼민트 효능 11가지 및 부작용건강 큐레이팅 보리밥 효능 9가지 및 부작용건강 큐레이팅 퀘르세틴 효능 5가지 및 부작용건강 큐레이팅 후추 효능 3가지 및 부작용건강 큐레이팅 요구르트 효능 9가지 및 부작용건강 큐레이팅 멸치 효능 5가지 및 부작용건강 큐레이팅 요오드 효능 6가지 및 부작용건강 큐레이팅 구운마늘 효능 6가지 및 부작용건강 큐레이팅 산화마그네슘 효능 3가지 및 부작용건강 큐레이팅 레드비트 효능 6가지 및 부작용건강 큐레이팅 히알루론산 효능 4가지 및 부작용건강 큐레이팅 글루타민 효능 3가지 및 부작용건강 큐레이팅 꽃송이버섯 효능 5가지 및 부작용건강 큐레이팅 마카다미아 효능 7가지 및 부작용건강 큐레이팅 사포닌 효능 4가지 및 부작용건강 큐레이팅 분리유청단백질 효능 10가지 및 부작용건강 큐레이팅 염소고기 효능 4가지 및 부작용건강 큐레이팅 난유 효능 5가지 및 부작용건강 큐레이팅', 'score': 0.17163001, 'raw_content': \"건강식단 메뉴 추천 등: 총 정리 가이드(2023년)\\n헬스피드\\n\\nMain Menu\\n\\n\\n블로그 메뉴\\n\\n\\n홈\\n\\n\\n방명록\\n\\n\\nSNS\\n\\n\\n\\n\\n\\n\\n\\n건강식단 메뉴 추천 등: 총 정리 가이드(2023년)\\n\\n헬스피드\\n2023. 1. 15. 14:15\\n\\n건강식단\\xa0메뉴\\xa0추천\\xa0등:\\xa0총\\xa0정리\\xa0가이드(2023년)\\n건강식단은 개인에 따라 다르지만 대부분 건강한 식습관을 기반해 의견을 가지고 있다.\\n또한 자신에게 맞는 건강한 방식으로 먹고 싶다면 쉽지 않다.\\n건강한 식습관은 복잡할 필요가 없다.\\n좋아하는 음식을 즐기면서 몸에 영양을 공급하는 것이다.\\n예를 들어, 오메가 3을 영양제로 섭취하는 것처럼 말이다.\\n이 글을 통해, 건강식단 메뉴 및 레시피 추천 등: 총 정리 가이드(2023년)에 대해서 알아보자.\\n\\n건강식 모습\\n건강한 식단을 추천하는 이유\\n건간항 식단을 추천하는 이유는 무엇일까?\\n첫째, 음식은 몸에 연료를 공급하고 몸이 기능하는 데 필요한 칼로리와 영양소를 전달한다.\\n식단에 칼로리나 하나 이상의 영양소가 부족하면 건강이 나빠질 수 있다.\\n또한 너무 많은 칼로리를 섭취하면 체중 증가를 경험할 수 있다.\\n비만인 사람들은 제2형 당뇨병, 폐쇄성 수면 무호흡증, 심장, 간, 신장 질환과 같은 질병의 위험이 상당히 증가한다.\\n식단의 질은 질병 위험, 수명 및 정신 건강에 영향을 미친다.\\n초가공 식품이 풍부한 식단은 사망률 증가와 암 및 심장병과 같은 질병의 위험 증가와 관련이 있다.\\n영양이 풍부한 전체 식품으로 구성된 식단은 수명 증가 및 질병 예방과 관련이 있다.\\n고도로 가공된 식품이 풍부한 식단은 특히 운동량이 적은 사람들의 경우 우울 증상의 위험을 증가시킬 수 있다.\\n건강한 식습관 기본\\n건강한 식습관이 왜 중요한지 알았으니 이제 몇 가지 영양 기본 사항에 대해서 알아보자.\\n시작에 앞서, 어떻게 하면 그릇에 따라 영양소를 나눌 수 있는지 아래 유튜브를 참고하자.\\n영양분에 따른 그릇 나누는 법\\n영양소 밀도\\n건강한 식단을 생각할 때 칼로리에 관한 것일 수 있다.\\n칼로리도 중요하지만 주요 관심사는 영양소인 게 중요하다.\\n단백질, 탄수화물, 지방, 비타민 및 미네랄을 포함하여 영양소가 몸이 번성하는 데 필요한 것이다.\\n영양소 밀도는 식품이 제공하는 칼로리와 관련하여 식품에 포함된 영양소 양을 말한다.\\n음식이 칼로리가 높다고 해서 그것이 나쁘다는 것을 의미하는 것이 아니다.\\n음식 선택이 칼로리에만 기반한다면 건강한 식습관을 놓치고 있는 것이다.\\n일반적으로 단백질, 섬유질, 건강한 지방, 비타민 및 미네랄과 같은 영양소가 풍부한 음식을 섭취하자.\\n이러한 음식에는 채소, 과일, 견과류, 씨앗, 콩, 기름진 생선 및 계란이 포함된다.\\n종합비타민 추천 순위 TOP16(2023년)도 참고해도 좋다.\\n다양성\\n다양한 음식을 먹는 것을 의미하는 식이 다양성이다.\\n다양한 종류의 음식이 풍부한 식단을 따르면 장내 박테리아를 지원하고 건강한 체중을 촉진하며 만성 질환으로부터 보호한다.\\n그래도 편식하는 사람이라면 다양한 음식을 먹는 것이 어려울 수 있다.\\n한 번에 하나씩 새로운 음식을 먹어보자.\\n연구에 따르면 음식에 더 많이 노출될수록 음식에 익숙해질 가능성이 더 커진다.\\n다량 영양소 비율\\n음식에서 얻는 주요 영양소인 다량 영양소는 탄수화물, 지방 및 단백질이다.\\n일반적으로 식사와 간식은 세 가지 사이에서 균형을 이루어야 한다.\\n특히, 섬유질이 풍부한 탄수화물 공급원에 단백질과 지방을 첨가하면 요리가 더 포만감 있고 맛있어진다.\\n식단이 항상 균형을 이루지 않아도 괜찮다.\\n개인에 따라 다르게 섭취해도 괜찮다.\\n초가공 식품\\n식단을 개선하는 가장 좋은 방법 중 하나는 초가공 식품을 줄이는 것이다.\\n가공식품을 완전히 피할 필요는 없다.\\n사실, 껍질을 벗긴 견과류, 통조림 콩, 냉동 과일 및 채소와 같은 건강식품은 이런저런 방식으로 가공된다.\\n탄산음료, 제과류, 사탕, 설탕이 들어간 시리얼 식품은 영양분이 전혀 포함이 안되어 있다.\\n이러한 음식은 우울증, 심장 질환, 비만 및 기타 여러 합병증의 위험이 더 큰 것으로 나타났다.\\n반면에 이러한 음식이 적고 영양이 풍부한 전체 음식이 많은 식단은 반대 효과가 있어 질병을 예방하고 수명을 연장하며 전반적인 신체적 정신적 웰빙을 촉진한다.\\n따라서 영양이 풍부한 식품, 특히 야채와 과일을 우선적으로 섭취하는 것이 가장 좋다.\\n특정 음식과 음료를 줄여야 할까?\\n건강한 식단에서는 특정 음식을 제한하는 것이 가장 좋다.\\n연구에 따르면 초가공 식품이 질병 위험 증가 및 조기 사망을 포함한 부정적인 건강 결과와 관련이 있었다.\\n탄산음료, 가공육, 사탕, 아이스크림, 튀긴 음식, 패스트푸드, 포장 스낵을 줄이는 것은 건강을 개선하고 특정 질병의 위험을 낮추는 가장 현명한 방법이다.\\n대신 야채, 과일, 견과류, 씨앗, 콩, 생선과 같이 영양이 풍부한 전체 식품에 우선순위를 두고 고도로 가공된 식품과 음료는 피하자.\\n아이스크림과 사탕과 같은 음식은 건강하고 균형 잡힌 식단의 일부가 될 수 있지만 칼로리 섭취의 중요한 부분이 돼서는 안 된다.\\n메뉴 추천\\n식사를 준비하거나 요리하는 데 몇 시간을 소비하는 것은 의미 없다.\\n잘 갖춰진 주방은 건강한 식사와 간식을 훨씬 쉽게 선택할 수 있다.\\n대표적인 메뉴 추천은 아래와 같다.\\n\\n신선하고 냉동된 과일과 채소\\n닭고기, 계란, 생선, 두부와 같은 단백질 공급원\\n통조림 콩 및 통곡물과 같은 대량 탄수화물 공급원\\n흰 감자, 고구마 등 딱딱한 채소\\n아보카도, 올리브 오일, 요구르트와 같은 지방 공급원\\n견과류, 씨앗, 견과류 버터, 올리브, 말린 과일과 같은 간단한 스낵 재료\\n\\n실생활에서 건강한 식습관을 위한 팁 10가지\\n1. 식물성 식품을 우선시하자\\n채소, 과일, 콩, 견과류와 같은 식물성 식품이 식단의 대부분을 차지해야 한다.\\n매 끼니와 간식에 이러한 음식, 특히 채소와 과일을 포함하자.\\n2. 집에서 요리하자\\n집에서 식사를 요리하면 식단을 다양화할 수 있다.\\n밖에서 먹거나 식당 식사에 익숙하다면 일주일에 한 두 끼만 요리하자.\\n3. 식료품을 정기적으로 쇼핑하자\\n부엌에 건강에 좋은 음식이 가득 차 있다면 건강한 식사와 간식을 만들 가능성이 더 커진다.\\n일주일에 한두 번 장보기를 하여 영양가 있는 재료를 준비하자.\\n4. 식단이 완벽하지 않음을 이해하자\\n완벽이 아닌 앞으로 나아가는 것이 핵심이다.\\n현재 매일 밤 외식을 하고 있다면 일주일에 집에서 채소로 포장한 식사를 한 번 요리하는 것은 상당한 진전이다.\\n5. 치팅데이는 하지 말자\\n현재 식단에 치팅데이가 포함되어 있다면 식단이 불균형하다는 신호이다.\\n모든 음식이 건강한 식단의 일부가 될 수 있다는 사실을 알게 되면 따로 할 필요가 없다.\\n6. 가당 음료를 끊자\\n탄산음료, 에너지 드링크, 단 커피와 같은 단 음료를 가능한 한 많이 제한하자.\\n단 음료를 정기적으로 섭취하면 건강에 해를 끼칠 수 있다.\\n7. 채우는 음식을 선택하자\\n배고플 때 목표는 가능한 한 적은 칼로리를 섭취하는 것이 아니라 포만감을 주는 영양가 있는 음식을 섭취하는 것이다.\\n단백질과 섬유질이 풍부한 식사와 간식을 선택하자.\\n8. 전체 음식을 먹자\\n건강한 식습관은 주로 야채, 과일, 콩, 견과류, 씨앗, 통곡물과 같은 자연식품과 계란 및 생선과 같은 단백질 공급원으로 구성되는 것이 좋다.\\n9. 수분을 공급하자\\n수분을 유지하는 것은 건강한 식습관의 일부이며 물은 수분을 유지하는 가장 좋은 방법이다.\\n물을 마시는 데 익숙하지 않다면 재사용 가능한 물병에 과일 조각이나 레몬즙을 넣어 맛을 내자.\\n10. 싫어하는 것을 존중하자\\n특정 음식을 여러 번 시도했지만 마음에 들지 않으면 먹지 말자.\\n대신 선택할 수 있는 건강식품이 많이 있다.\\n몸에 좋다고 해서 억지로 먹으려고는 하지 말자.\\n같이 보면 좋은 글\\n생쌀 먹어도 안전할까? 쌀은 대한민국에서 주식으로 먹는 음식이다. 저렴하고, 에너지원천이 있어 김치나 다른 반찬이랑 먹을 때 정말 맛있다. 하지만, 생쌀 생식을 해도 쌀중독에 걸리지 않을까에 대한 의문이 있을 healthfeed.co.kr\\n옥수수 가루 vs 전분, 차이점은 무엇일까? 옥수수 전분과 옥수수 가루의 공통점은 무엇일까? 옥수수에서 나온다는 것이다. 차이점은 그럼 무엇일까? 옥수수 가루는 옥수수 알갱이의 분쇄된 가루이다. 옥수수 전분은 미세 분말이지만, 옥 healthfeed.co.kr\\n먹을 수 있는 항 염증 음식 종류 13가지 먹을 수 있는 항 염증 음식 종류 13가지 염증은 좋고 나쁠 수 있다. 신체가 감염과 부상으로부터 스스로를 방어하는 데 도움이 될 수 있다. 반면에 만성 염증은 질병으로 이어질 수 있다. 스트레 healthfeed.co.kr\\n종합비타민 추천 순위 TOP16(2024년) - 헬시파이 종합비타민 추천 하는 이유는 남성(남자)및 여성(여자)과 관계없이 누구에게나 도움될 수 있다는 것이다. 미국이나 일본과 같은 해외에서 파는 종합비타민과 한국에서 파는 천연 비타민 성분은 healthify.co.kr\\n공유하기\\n게시글 관리\\n헬스피드\\n건강 식단 메뉴\\n'헬스피드' 관련 글\\n\\n치아씨드 효능 7가지 먹는 법 및 부작용\\n2023.01.17\\n\\n고탄수화물 음식: 건강에 좋은 종류 12가지\\n2023.01.16\\n\\n오메가3 효능 및 부작용 등: 총 정리 가이드(2023년)\\n2023.01.14\\n\\n비타민c 등 탈모에 좋은 비타민 5가지\\n2020.11.12\\n'헬스피드' 관련 글 더보기\\n댓글(0)\\n비밀 글\\n등록\\nSidebar\\n블로그 정보\\n\\n건강 큐레이팅\\n다이어트 탄수화물 음식, 키크는 음식, 방탄커피 부작용 등 건강에 도움되는 음식 효능을 소개합니다\\n검색\\n최근 글\\n\\n카무트 효능 5가지 및 부작용건강 큐레이팅\\n캐모마일 효능 8가지 및 부작용건강 큐레이팅\\n아로니아 효능 4가지 및 부작용건강 큐레이팅\\n콤부차 효능 7가지 및 부작용건강 큐레이팅\\n포스파티딜세린 효능 4가지 및 부작용건강 큐레이팅\\n셀레늄 효능 7가지 및 부작용건강 큐레이팅\\n페퍼민트 효능 11가지 및 부작용건강 큐레이팅\\n어성초 효능 9가지 및 부작용건강 큐레이팅\\n커큐민 효능 4가지 및 부작용건강 큐레이팅\\n아스파라거스 효능 6가지 및 부작용1건강 큐레이팅\\n보리밥 효능 9가지 및 부작용건강 큐레이팅\\n퀘르세틴 효능 5가지 및 부작용건강 큐레이팅\\n후추 효능 3가지 및 부작용건강 큐레이팅\\n냉동 블루베리 효능 6가지 및 부작용건강 큐레이팅\\n베르가못 효능 4가지 및 부작용1건강 큐레이팅\\n요구르트 효능 9가지 및 부작용건강 큐레이팅\\n멸치 효능 5가지 및 부작용건강 큐레이팅\\n요오드 효능 6가지 및 부작용건강 큐레이팅\\n구운마늘 효능 6가지 및 부작용건강 큐레이팅\\n산화마그네슘 효능 3가지 및 부작용건강 큐레이팅\\n레드비트 효능 6가지 및 부작용건강 큐레이팅\\n고구마 껍질 효능 2가지 및 부작용건강 큐레이팅\\n히알루론산 효능 4가지 및 부작용건강 큐레이팅\\n글루타민 효능 3가지 및 부작용건강 큐레이팅\\n꽃송이버섯 효능 5가지 및 부작용건강 큐레이팅\\n마카다미아 효능 7가지 및 부작용건강 큐레이팅\\n사포닌 효능 4가지 및 부작용건강 큐레이팅\\n분리유청단백질 효능 10가지 및 부작용건강 큐레이팅\\n염소고기 효능 4가지 및 부작용건강 큐레이팅\\n난유 효능 5가지 및 부작용건강 큐레이팅\\n\\n태그\\n\\n키토제닉 다이어트\\n아연 권장량\\n비타민C 부작용\\n우유 효능\\n비타민D\\n마그네슘 영양제\\n비타민d 부족증상\\n키토제닉\\n아연 부작용\\n아연 영양제\\n아연 효능\\n비타민D 부작용\\n아연\\n다이어트\\n키토제닉 도시락\\n저탄고지\\n케토제닉\\n비타민C\\n비타민D 하루 권장량\\n마그네슘 영양제 추천\\n비타민D 효능\\n헬스피드\\n케톤식이요법\\n키토제닉 다이어트 식단\\n칼슘 마그네슘 비타민d\\n비타민\\n비타민C 효능\\n키토제닉 식단\\n당뇨병\\n단백질 보충제\\n\\nCopyright © 헬스피드 All Rights Reserved\\nDesigned by JB FACTORY\\n \\n티스토리툴바\"}, {'title': '일주일에 한 번 장보기로 건강한 식단 짜는 법 - 헬스중앙', 'url': 'https://jhealthmedia.joins.com/news/articleView.html?idxno=21663', 'content': '요즘 최대한 바깥 출입을 줄이기 위해 일주일에 한번만 장을 보는 사람이 늘었다. 하지만 일주일치 장보기로 균형 있는 식단을 구성하는 건 쉽지 않다. 비만클리닉 365mc식이영양위원회의 자문을 받아 한 번 장보기로 가능한 건강한 일주일 식단을 알아봤다. 한끼 500~700 칼로리 선에서 구성 일주일에', 'score': 0.14039545, 'raw_content': '일주일에 한 번 장보기로 건강한 식단 짜는 법\\n\\n균형 있는 밥상 차리기\\n\\n요즘 최대한 바깥 출입을 줄이기 위해 일주일에 한번만 장을 보는 사람이 늘었다. 하지만 일주일치 장보기로 균형 있는 식단을 구성하는 건 쉽지 않다. 비만클리닉 365mc식이영양위원회의 자문을 받아 한 번 장보기로 가능한 건강한 일주일 식단을 알아봤다.\\n\\n한끼 500~700 칼로리 선에서 구성\\r\\n일주일에 한번 장을 볼 때 세 가지 품목으로 구분하면 좀더 균형 있는 식단을 구성할 수 있다. ▲콩나물, 버섯, 양배추, 감자, 당근, 무, 깻잎, 상추, 쌈배추 등의 채소류 ▲된장, 고추장, 간장, 카레, 배추김치, 깍두기 등의 양념류·김치 ▲돼지고기, 소고기, 오징어, 모둠 어묵, 두부 등의 육류 및 해산물, 가공식품으로 구분해 각 끼니마다 단백질, 탄수화물, 지방을 골고루 섭취할 수 있도록 구성한다.\\n\\r\\n국은 시금치된장국, 콩나물국, 미역국, 된장찌개, 오뎅탕, 참치김치찌개 등으로 요리하고 메인 반찬은 소고기·상추쌈, 두부조림, 닭가슴살야채볶음, 오징어볶음, 꽁치구이, 돼지불고기·양배추찜 등으로 구성한다.\\n\\n밑반찬으로는 시금치나물, 느타리버섯무침, 콩나물무침, 어묵조림, 계란장조림, 감자채볶음, 멸치볶음, 진미채볶음 등을 추천한다. 365mc식이영양위원회 강은영 영양사는 \"외부활동이 줄어든 만큼 고칼로리 음식은 피하는 것이 좋다\"며 \"일주일 식단을 짤 때 한 끼당 500~700kcal로 구성하고 백미보다는 현미밥과 잡곡밥 등을 추천한다\"고 설명했다.\\n\\n신선제품, 상하기 쉬운 재료부터 요리\\r\\n일주일 장보기에서 중요한 것은 오래 보관하기 어려운 채소류를 먼저 소비할 수 있도록 구성하는 것이다. 상추, 깻잎, 오이 등 빨리 상하는 신선제품은 월요일, 화요일 등 앞쪽으로 배치해 소비한다. 뒤로 갈수록 당근, 감자, 양파, 양배추 등 장기간 보관 가능한 채소 위주로 식단을 짠다.\\n\\r\\n강은영 영양사는 \"계란장조림, 어묵조림, 멸치볶음, 진미채볶음 등 3~4일 정도 냉장고에 두고 먹을 밑반찬을 준비해 두고 육류는 한 번 조리할 만큼 소분해서 비닐팩에 냉동시켜 보관하면 좀 더 신선하고 오래 먹을 수 있다\"고 설명했다.\\n\\r\\n시중에 판매되는 급속 냉동 채소를 활용해보는 것도 좋다. 브로콜리, 껍질콩, 완두콩, 혼합 야채 등을 급속 냉동시켜 보관하면 세포나 조직 파괴를 줄여 식품의 맛과 조직이 유지되고 영양소 파괴도 최대한 줄일 수 있다. 음식 조리시에는 냉동 상태에서 급속 가열해 조리하도록 한다.\\n\\n'}]\n"
     ]
    }
   ],
   "source": [
    "from langchain_teddynote.tools.tavily import TavilySearch\n",
    "\n",
    "# 기본 예제\n",
    "tavily_tool = TavilySearch()\n",
    "\n",
    "# include_domains 사용 예제\n",
    "# 특정 도메인만 포함하여 검색\n",
    "tavily_tool_with_domains = TavilySearch(include_domains=[\"github.io\", \"naver.com\"])\n",
    "\n",
    "# exclude_domains 사용 예제\n",
    "# 특정 도메인을 제외하고 검색\n",
    "tavily_tool_exclude = TavilySearch(exclude_domains=[\"ads.com\", \"spam.com\"])\n",
    "\n",
    "# 다양한 파라미터를 사용한 검색 예제\n",
    "result1 = tavily_tool.search(\n",
    "    query=\"종각역 맛집 알려줘\",  # 검색 쿼리\n",
    "    search_depth=\"advanced\",  # 고급 검색 수준\n",
    "    topic=\"general\",  # 일반 주제\n",
    "    days=7,  # 최근 7일 내 결과\n",
    "    max_results=10,  # 최대 10개 결과\n",
    "    include_answer=True,  # 답변 포함\n",
    "    include_raw_content=True,  # 원본 콘텐츠 포함\n",
    "    include_images=True,  # 이미지 포함\n",
    "    format_output=True,  # 결과 포맷팅\n",
    ")\n",
    "\n",
    "# 뉴스 검색 예제\n",
    "result2 = tavily_tool.search(\n",
    "    query=\"최신 AI 기술 동향\",  # 검색 쿼리\n",
    "    search_depth=\"basic\",  # 기본 검색 수준\n",
    "    topic=\"news\",  # 뉴스 주제\n",
    "    days=3,  # 최근 3일 내 결과\n",
    "    max_results=5,  # 최대 5개 결과\n",
    "    include_answer=False,  # 답변 미포함\n",
    "    include_raw_content=False,  # 원본 콘텐츠 미포함\n",
    "    include_images=False,  # 이미지 미포함\n",
    "    format_output=True,  # 결과 포맷팅\n",
    ")\n",
    "\n",
    "# 특정 도메인 포함 검색 예제\n",
    "result3 = tavily_tool_with_domains.search(\n",
    "    query=\"파이썬 프로그래밍 팁\",  # 검색 쿼리\n",
    "    search_depth=\"advanced\",  # 고급 검색 수준\n",
    "    max_results=3,  # 최대 3개 결과\n",
    ")\n",
    "\n",
    "# 특정 도메인 제외 검색 예제\n",
    "result4 = tavily_tool_exclude.search(\n",
    "    query=\"건강한 식단\",  # 검색 쿼리\n",
    "    search_depth=\"basic\",  # 기본 검색 수준\n",
    "    days=30,  # 최근 30일 내 결과\n",
    "    max_results=7,  # 최대 7개 결과\n",
    ")\n",
    "\n",
    "# 결과 출력\n",
    "print(\"기본 검색 결과:\", result1)\n",
    "print(\"뉴스 검색 결과:\", result2)\n",
    "print(\"특정 도메인 포함 검색 결과:\", result3)\n",
    "print(\"특정 도메인 제외 검색 결과:\", result4)\n"
   ]
  },
  {
   "cell_type": "markdown",
   "metadata": {},
   "source": [
    "사용자 정의 도구(Custom Tool)\n",
    "\n",
    "LangChain 에서 제공하는 빌트인 도구 외에도 사용자가 직접 도구를 정의하여 사용할 수 있습니다.\n",
    "\n",
    "이를 위해서는 langchain.tools 모듈에서 제공하는 tool 데코레이터를 사용하여 함수를 도구로 변환합니다.\n",
    "\n",
    "@tool 데코레이터\n",
    "- 이 데코레이터는 함수를 도구로 변환하는 기능을 제공합니다. 다양한 옵션을 통해 도구의 동작을 커스터마이즈할 수 있습니다."
   ]
  },
  {
   "cell_type": "code",
   "execution_count": 14,
   "metadata": {},
   "outputs": [],
   "source": [
    "from langchain.tools import tool\n",
    "\n",
    "\n",
    "# 데코레이터를 사용하여 함수를 도구로 변환합니다.\n",
    "@tool\n",
    "def add_numbers(a: int, b: int) -> int:\n",
    "    \"\"\"Add two numbers\"\"\"\n",
    "    return a + b\n",
    "\n",
    "\n",
    "@tool\n",
    "def multiply_numbers(a: int, b: int) -> int:\n",
    "    \"\"\"Multiply two numbers\"\"\"\n",
    "    return a * b\n"
   ]
  },
  {
   "cell_type": "code",
   "execution_count": 15,
   "metadata": {},
   "outputs": [
    {
     "data": {
      "text/plain": [
       "7"
      ]
     },
     "execution_count": 15,
     "metadata": {},
     "output_type": "execute_result"
    }
   ],
   "source": [
    "# 도구 실행\n",
    "add_numbers.invoke({\"a\": 3, \"b\": 4})"
   ]
  },
  {
   "cell_type": "code",
   "execution_count": 16,
   "metadata": {},
   "outputs": [
    {
     "data": {
      "text/plain": [
       "12"
      ]
     },
     "execution_count": 16,
     "metadata": {},
     "output_type": "execute_result"
    }
   ],
   "source": [
    "# 도구 실행\n",
    "multiply_numbers.invoke({\"a\": 3, \"b\": 4})"
   ]
  },
  {
   "cell_type": "markdown",
   "metadata": {},
   "source": [
    "구글 뉴스기사 검색 도구"
   ]
  },
  {
   "cell_type": "code",
   "execution_count": 17,
   "metadata": {},
   "outputs": [
    {
     "name": "stdout",
     "output_type": "stream",
     "text": [
      "\u001b[31mERROR: pip's dependency resolver does not currently take into account all the packages that are installed. This behaviour is the source of the following dependency conflicts.\n",
      "grpcio-tools 1.62.3 requires protobuf<5.0dev,>=4.21.6, but you have protobuf 5.29.4 which is incompatible.\n",
      "opentelemetry-proto 1.27.0 requires protobuf<5.0,>=3.19, but you have protobuf 5.29.4 which is incompatible.\n",
      "google-ai-generativelanguage 0.6.6 requires protobuf!=3.20.0,!=3.20.1,!=4.21.0,!=4.21.1,!=4.21.2,!=4.21.3,!=4.21.4,!=4.21.5,<5.0.0dev,>=3.19.5, but you have protobuf 5.29.4 which is incompatible.\n",
      "open-webui 0.5.20 requires googleapis-common-protos==1.63.2, but you have googleapis-common-protos 1.69.2 which is incompatible.\n",
      "open-webui 0.5.20 requires langchain==0.3.19, but you have langchain 0.3.21 which is incompatible.\u001b[0m\u001b[31m\n",
      "\u001b[0m\n",
      "\u001b[1m[\u001b[0m\u001b[34;49mnotice\u001b[0m\u001b[1;39;49m]\u001b[0m\u001b[39;49m A new release of pip is available: \u001b[0m\u001b[31;49m24.0\u001b[0m\u001b[39;49m -> \u001b[0m\u001b[32;49m25.0.1\u001b[0m\n",
      "\u001b[1m[\u001b[0m\u001b[34;49mnotice\u001b[0m\u001b[1;39;49m]\u001b[0m\u001b[39;49m To update, run: \u001b[0m\u001b[32;49mpip install --upgrade pip\u001b[0m\n"
     ]
    }
   ],
   "source": [
    "!pip install -qU langchain-teddynote"
   ]
  },
  {
   "cell_type": "code",
   "execution_count": 18,
   "metadata": {},
   "outputs": [],
   "source": [
    "from langchain_teddynote.tools import GoogleNews\n",
    "\n",
    "# 도구 생성\n",
    "news_tool = GoogleNews()"
   ]
  },
  {
   "cell_type": "code",
   "execution_count": 19,
   "metadata": {},
   "outputs": [
    {
     "data": {
      "text/plain": [
       "[{'url': 'https://news.google.com/rss/articles/CBMiakFVX3lxTE9CT19TWXNUcGlZZGQxekZlVGczUlJQdWJaSl9iR0VyX3h6a1d4NHAzRmZBWXI5dXJCNUZpWHdUNFBfaGl3U1ViZzgtWG5MUFl4bkhNRFVRSm9YUzNwdkowNk9Fa2RsS3NEQUE?oc=5',\n",
       "  'content': '산불 결국 지리산까지…사상자 52명 역대 최다 - 한겨레'},\n",
       " {'url': 'https://news.google.com/rss/articles/CBMiXEFVX3lxTE8zWUhrQW42SkU0bG5mWEhLU3l5aUFXTUVjNEp0c3U4UHFCMVZfT3RiOWhoYmtmdERvMGNWeVY4aDRqSzN4YlE2aWdPSGd1ZnFXcmZRY0JONWhUYUNP0gFiQVVfeXFMTlJYcXRNckRBVTZ5OGt5dTlwRkk3LU92Z1dQel9xaGVQcTEzVFNiSzdwRFdZd050Y04tbWVBVC1Xak9YSklvUXlqZk4xMGs5UWlBV0I4ZTNPenhZdEo4aTZnRVE?oc=5',\n",
       "  'content': \"'집이 하루아침에 없어졌어요'... 참담한 의성 산불 피해 지역 - BBC.com\"},\n",
       " {'url': 'https://news.google.com/rss/articles/CBMickFVX3lxTE5MckNSTTVzM1VGZ2R4T05vanFhd3RqY1p1ZUpxLWFBTk5WY1hrMG1yQnByMzV4MjZLLVBQYXVnNkpYMzl1WkM2WHZXYURjRGZRXzhnQy1QUGs4bDNXdGpybU54NXhQYmhPQUlnQks2Yl8zUQ?oc=5',\n",
       "  'content': '이재명 항소심 재판부 ‘표현의 자유’ 방점…허위 여부 엄격 해석 - 한겨레'},\n",
       " {'url': 'https://news.google.com/rss/articles/CBMickFVX3lxTE9iRjJUcjJtRENOR050MnNKRzJSdnl4NDdZMWI5cm55dG9hNDhib0JobGVPTHgtVnJTVnNFbmpWOXY3Q1Uxd2h0Ry03NmRpblh2NzBmVUttazNydlNaTXVoTDk4bEo0TzRJSDBsU052dXZMUQ?oc=5',\n",
       "  'content': '“헌재 더 지체하면 위기”…윤석열 선고 늑장에 시민 불안 최고조 - 한겨레'},\n",
       " {'url': 'https://news.google.com/rss/articles/CBMiWkFVX3lxTE13Y2dlTzBSUDZ1NWlvTTZ1bHJvWVFpNHRyQ1dBT2pQRGhNb3NnbTc4S2JiLWFxNG0wX2Z5M0xiMUY5VFdBZnU2YWpLNktBS2RvLXN5UnR2NlBud9IBVEFVX3lxTE5OUHQ2VDJxa3c0VnctaEptUHNIemw1cmFLYWp0aFlETEZjRDM5eFNVVkx4czd3X0FaR0F4UFVhSGJsUHpWLTZYekR0NjRYd3NoQXduRQ?oc=5',\n",
       "  'content': '\"상상 초월할 정도로 불길 빨리 덮쳐\"…\\'괴물산불\\'에 초토화 - 한국경제'}]"
      ]
     },
     "execution_count": 19,
     "metadata": {},
     "output_type": "execute_result"
    }
   ],
   "source": [
    "# 최신 뉴스 검색\n",
    "news_tool.search_latest(k=5)"
   ]
  },
  {
   "cell_type": "code",
   "execution_count": 20,
   "metadata": {},
   "outputs": [
    {
     "data": {
      "text/plain": [
       "[{'url': 'https://news.google.com/rss/articles/CBMickFVX3lxTE5TWEZkQlktQVMwMVlCVlQwTjJCS0Y4aTdMS0hnaFdvMGpzUnZnd2d4VzdvSnZQOEtPMlVyU2hiOXJMODVURkppU1h3Z0UxYkF5eEhjUnFfSW5PUjNNS2t1UzhhMnpzODFKem5Wa1hvTlpPdw?oc=5',\n",
       "  'content': '퓨리오사AI, 메타 인수 거절…벤처투자 생태계 한계 드러나나 - 마켓인'},\n",
       " {'url': 'https://news.google.com/rss/articles/CBMiU0FVX3lxTE1TU29IbjUtZ1VBM3E3ZjEyODZYNm04R2I1aVJoOGsxZHktUElOYU1XWHJ5bVA0VWI0ZWVlVnRxMlVHOGNDaFJsSHFtX00takh6R1NN?oc=5',\n",
       "  'content': '퓨리오사AI, 메타 인수 제안 거절…\"투자 유치해 독자적 AI 칩 개발\" - 네이트 뉴스'},\n",
       " {'url': 'https://news.google.com/rss/articles/CBMiWkFVX3lxTE9Tc1VEa3hUQnliWUZGS0dLX2hGV3RJSTlQZDFCVDVQQ3RDYlZCcDR1WjYwdXFZbXVmemhFX2MyT2VIdUN3eXBoWVV6TkxzelhISlB1cmstc0MxZ9IBVEFVX3lxTFBCQ2xxUDhoUkNMc1FLZkpFVUVaQUNkaHhTZl9ZWUpPb3FQTVhKTWVwZHgyRThOSGoyRlVRYUdhZW5NQkttWWMtSVlXdEZURHI3dklqbw?oc=5',\n",
       "  'content': '퓨리오사AI, 메타에 안 판다…\"투자 유치해 독자 AI칩 개발\" - 한국경제'},\n",
       " {'url': 'https://news.google.com/rss/articles/CBMiWEFVX3lxTE1VazM2LTZlYzAwTjNNOFVpSFFoQ1IwUGZ4ZVppcmpoMWdjWTdVNTRjSnVFaE1wT0N4Z3JtS05rWUM2ZEFraVZmNUJkQlpaVjZMaGRESTdzV3DSAVRBVV95cUxQelJSSk03SkxSY0xtMmE3NDd5bUdLNkFibG04dkdTZ0VvYURmZDJJQkRISW5pM0JUQThhVG43Ui1Pc3ZkajgwTkJ6Vkd6bFFMZlZqWEs?oc=5',\n",
       "  'content': 'AI 투자·통상 대응 강화… 2026년 예산 사상 첫 700조 넘는다 - 세계일보'},\n",
       " {'url': 'https://news.google.com/rss/articles/CBMigwFBVV95cUxOUG1HMGlaQWhiNUVDcHBoXzJtaHVJVVotelBYcmJYNElmekM3Z25tbldySzhrWEtNcnZRRTUxMVlQdER4MXJVX2s1RU1MUUllTlJOdFVVMk92d1NERUhITzM1VDRzUkxSRmpRRDdrU1pxN2QtZkJLLVJtVWhwdG90R3ctWdIBlwFBVV95cUxPeTVYVDZuMGhhTGFHRDF4RUpvMnktNWlCQlVsblhRZ2Y0WTVhc29QeWFWWVFhV2wzTEVHMWRBdVdKalpXY3lXd2g4ZWVHZ1ZaMzUta0NkSXpWVnVXSGx4QjB4RWNNS1JORkFPdS1nMGtBeGhjaTRRVjIxOXhQUXZ5QVVRdDFrUy1lXzIwUWdCcmpueEsyNE5N?oc=5',\n",
       "  'content': 'AI가 알아서 굴려주니… 코스피 10% 빠질 때 10%대 수익 - 조선일보'}]"
      ]
     },
     "execution_count": 20,
     "metadata": {},
     "output_type": "execute_result"
    }
   ],
   "source": [
    "# 키워드로 뉴스 검색\n",
    "news_tool.search_by_keyword(\"AI 투자\", k=5)"
   ]
  },
  {
   "cell_type": "code",
   "execution_count": 21,
   "metadata": {},
   "outputs": [],
   "source": [
    "from langchain_teddynote.tools import GoogleNews\n",
    "from langchain.tools import tool\n",
    "from typing import List, Dict\n",
    "\n",
    "\n",
    "# 키워드로 뉴스 검색하는 도구 생성\n",
    "@tool\n",
    "def search_keyword(query: str) -> List[Dict[str, str]]:\n",
    "    \"\"\"Look up news by keyword\"\"\"\n",
    "    print(query)\n",
    "    news_tool = GoogleNews()\n",
    "    return news_tool.search_by_keyword(query, k=5)\n"
   ]
  },
  {
   "cell_type": "code",
   "execution_count": 23,
   "metadata": {},
   "outputs": [
    {
     "name": "stdout",
     "output_type": "stream",
     "text": [
      "개발자\n"
     ]
    },
    {
     "data": {
      "text/plain": [
       "[{'url': 'https://news.google.com/rss/articles/CBMiT0FVX3lxTFBVd1RFd3ptM2doZ3FCTTRtM1lqenNCb3pwaWY0TkZBdl9RMGlwV2hVNExRR0pibVVnZHdtQ2FmcURXY280YmtBMjJEaEd5Tms?oc=5',\n",
       "  'content': '초급 개발자는 AI 코딩을 좋아하고, 중견 개발자는 싫어한다? - 바이라인네트워크'},\n",
       " {'url': 'https://news.google.com/rss/articles/CBMiU0FVX3lxTFAwYjhoNlFXVW5JSzh2VmZjOTVxNVJuQmtQM0U4clVVX3B3Mnhxa2szMVJmQ1NkVzN6ZGdrV1l2Sk9Cc2I1UV84OTVXOXJoUzJJVkVV?oc=5',\n",
       "  'content': 'AI 활용한 바이브 코딩 시대…개발자 생존전략 3가지 - 네이트 뉴스'},\n",
       " {'url': 'https://news.google.com/rss/articles/CBMiU0FVX3lxTE1zbmRLMmROSjBwaWJzdkV5TGwyY2czOWVMYWJ1eU05Zl9ZM0p5UUdXN1pRWloydzZDY1F1RDZ3aFYtekU2QWIyZF9hbUxTWjZrd1VN?oc=5',\n",
       "  'content': '애플, 6월 9∼13일 세계개발자회의…\"운영체제 업데이트 소개\" - 네이트 뉴스'},\n",
       " {'url': 'https://news.google.com/rss/articles/CBMiTkFVX3lxTE42WktaMFd0a0QwMHluM2pCSVVydTBxNHZibjdaVGNKZnhvbUpWWFBEaUk5VmpsTTNuNmREQ29MWk1PWElROGpvVzdkWGpBZw?oc=5',\n",
       "  'content': \"비아이매트릭스, 'AI 시대 개발자의 길을 찾다' 행사 성료 - 전자신문\"},\n",
       " {'url': 'https://news.google.com/rss/articles/CBMiakFVX3lxTE5Zak9QcFRNS3BGcGZBNXpZdDQwakJ1QV9WVWJhY1BmbXNkQXllTDlubmhzV2IxRUpTUG5BbkEwWWFzMmlOclphV19HZDZJcjFrangwSUJrc2p1Q29MNEw4cWVNWmZqQTk0a1E?oc=5',\n",
       "  'content': \"'애플 인텔리전스', 국내 출시 임박...개발자용 iOS 18.4 최종 베타 공개 - AI타임스\"}]"
      ]
     },
     "execution_count": 23,
     "metadata": {},
     "output_type": "execute_result"
    }
   ],
   "source": [
    "# 실행 결과\n",
    "search_keyword.invoke({\"query\": \"개발자\"})"
   ]
  },
  {
   "cell_type": "code",
   "execution_count": null,
   "metadata": {},
   "outputs": [],
   "source": []
  }
 ],
 "metadata": {
  "kernelspec": {
   "display_name": "llm",
   "language": "python",
   "name": "python3"
  },
  "language_info": {
   "codemirror_mode": {
    "name": "ipython",
    "version": 3
   },
   "file_extension": ".py",
   "mimetype": "text/x-python",
   "name": "python",
   "nbconvert_exporter": "python",
   "pygments_lexer": "ipython3",
   "version": "3.11.11"
  }
 },
 "nbformat": 4,
 "nbformat_minor": 2
}
